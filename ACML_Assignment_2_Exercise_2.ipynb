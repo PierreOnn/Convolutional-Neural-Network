{
  "nbformat": 4,
  "nbformat_minor": 0,
  "metadata": {
    "colab": {
      "name": "ACML - Assignment 2 - Exercise 2",
      "provenance": [],
      "collapsed_sections": [
        "b18b2Zf1J_9_",
        "moXyCnn5Q0G8",
        "q2Ty9BmxLLxW",
        "ewChAJwEa8qt"
      ],
      "toc_visible": true,
      "authorship_tag": "ABX9TyPDJefDFuXpv9tbSzAeLGSq",
      "include_colab_link": true
    },
    "kernelspec": {
      "display_name": "Python 3",
      "name": "python3"
    },
    "language_info": {
      "name": "python"
    },
    "accelerator": "GPU",
    "widgets": {
      "application/vnd.jupyter.widget-state+json": {
        "02d65108efaa4a81a21f7b54c6bf7206": {
          "model_module": "@jupyter-widgets/controls",
          "model_name": "VBoxModel",
          "model_module_version": "1.5.0",
          "state": {
            "_view_name": "VBoxView",
            "_dom_classes": [],
            "_model_name": "VBoxModel",
            "_view_module": "@jupyter-widgets/controls",
            "_model_module_version": "1.5.0",
            "_view_count": null,
            "_view_module_version": "1.5.0",
            "box_style": "",
            "layout": "IPY_MODEL_06bb690d6a1f4c0f81489070803ce87b",
            "_model_module": "@jupyter-widgets/controls",
            "children": [
              "IPY_MODEL_ef0f507d9f4d43c5b5e94686e72f9183",
              "IPY_MODEL_6458b6c4a19542dc9d58d6359a1ef867"
            ]
          }
        },
        "06bb690d6a1f4c0f81489070803ce87b": {
          "model_module": "@jupyter-widgets/base",
          "model_name": "LayoutModel",
          "model_module_version": "1.2.0",
          "state": {
            "_view_name": "LayoutView",
            "grid_template_rows": null,
            "right": null,
            "justify_content": null,
            "_view_module": "@jupyter-widgets/base",
            "overflow": null,
            "_model_module_version": "1.2.0",
            "_view_count": null,
            "flex_flow": null,
            "width": null,
            "min_width": null,
            "border": null,
            "align_items": null,
            "bottom": null,
            "_model_module": "@jupyter-widgets/base",
            "top": null,
            "grid_column": null,
            "overflow_y": null,
            "overflow_x": null,
            "grid_auto_flow": null,
            "grid_area": null,
            "grid_template_columns": null,
            "flex": null,
            "_model_name": "LayoutModel",
            "justify_items": null,
            "grid_row": null,
            "max_height": null,
            "align_content": null,
            "visibility": null,
            "align_self": null,
            "height": null,
            "min_height": null,
            "padding": null,
            "grid_auto_rows": null,
            "grid_gap": null,
            "max_width": null,
            "order": null,
            "_view_module_version": "1.2.0",
            "grid_template_areas": null,
            "object_position": null,
            "object_fit": null,
            "grid_auto_columns": null,
            "margin": null,
            "display": null,
            "left": null
          }
        },
        "ef0f507d9f4d43c5b5e94686e72f9183": {
          "model_module": "@jupyter-widgets/controls",
          "model_name": "LabelModel",
          "model_module_version": "1.5.0",
          "state": {
            "_view_name": "LabelView",
            "style": "IPY_MODEL_54626fef89814dfc99b83e0ab923f203",
            "_dom_classes": [],
            "description": "",
            "_model_name": "LabelModel",
            "placeholder": "​",
            "_view_module": "@jupyter-widgets/controls",
            "_model_module_version": "1.5.0",
            "value": " 0.49MB of 0.49MB uploaded (0.00MB deduped)\r",
            "_view_count": null,
            "_view_module_version": "1.5.0",
            "description_tooltip": null,
            "_model_module": "@jupyter-widgets/controls",
            "layout": "IPY_MODEL_076a6d6eeb844bcd97f1ce86032e8834"
          }
        },
        "6458b6c4a19542dc9d58d6359a1ef867": {
          "model_module": "@jupyter-widgets/controls",
          "model_name": "FloatProgressModel",
          "model_module_version": "1.5.0",
          "state": {
            "_view_name": "ProgressView",
            "style": "IPY_MODEL_095efb19d499475babbe4e426e2109ea",
            "_dom_classes": [],
            "description": "",
            "_model_name": "FloatProgressModel",
            "bar_style": "",
            "max": 1,
            "_view_module": "@jupyter-widgets/controls",
            "_model_module_version": "1.5.0",
            "value": 1,
            "_view_count": null,
            "_view_module_version": "1.5.0",
            "orientation": "horizontal",
            "min": 0,
            "description_tooltip": null,
            "_model_module": "@jupyter-widgets/controls",
            "layout": "IPY_MODEL_a87bb25bdd97417fab7c1ec56be0ce19"
          }
        },
        "54626fef89814dfc99b83e0ab923f203": {
          "model_module": "@jupyter-widgets/controls",
          "model_name": "DescriptionStyleModel",
          "model_module_version": "1.5.0",
          "state": {
            "_view_name": "StyleView",
            "_model_name": "DescriptionStyleModel",
            "description_width": "",
            "_view_module": "@jupyter-widgets/base",
            "_model_module_version": "1.5.0",
            "_view_count": null,
            "_view_module_version": "1.2.0",
            "_model_module": "@jupyter-widgets/controls"
          }
        },
        "076a6d6eeb844bcd97f1ce86032e8834": {
          "model_module": "@jupyter-widgets/base",
          "model_name": "LayoutModel",
          "model_module_version": "1.2.0",
          "state": {
            "_view_name": "LayoutView",
            "grid_template_rows": null,
            "right": null,
            "justify_content": null,
            "_view_module": "@jupyter-widgets/base",
            "overflow": null,
            "_model_module_version": "1.2.0",
            "_view_count": null,
            "flex_flow": null,
            "width": null,
            "min_width": null,
            "border": null,
            "align_items": null,
            "bottom": null,
            "_model_module": "@jupyter-widgets/base",
            "top": null,
            "grid_column": null,
            "overflow_y": null,
            "overflow_x": null,
            "grid_auto_flow": null,
            "grid_area": null,
            "grid_template_columns": null,
            "flex": null,
            "_model_name": "LayoutModel",
            "justify_items": null,
            "grid_row": null,
            "max_height": null,
            "align_content": null,
            "visibility": null,
            "align_self": null,
            "height": null,
            "min_height": null,
            "padding": null,
            "grid_auto_rows": null,
            "grid_gap": null,
            "max_width": null,
            "order": null,
            "_view_module_version": "1.2.0",
            "grid_template_areas": null,
            "object_position": null,
            "object_fit": null,
            "grid_auto_columns": null,
            "margin": null,
            "display": null,
            "left": null
          }
        },
        "095efb19d499475babbe4e426e2109ea": {
          "model_module": "@jupyter-widgets/controls",
          "model_name": "ProgressStyleModel",
          "model_module_version": "1.5.0",
          "state": {
            "_view_name": "StyleView",
            "_model_name": "ProgressStyleModel",
            "description_width": "",
            "_view_module": "@jupyter-widgets/base",
            "_model_module_version": "1.5.0",
            "_view_count": null,
            "_view_module_version": "1.2.0",
            "bar_color": null,
            "_model_module": "@jupyter-widgets/controls"
          }
        },
        "a87bb25bdd97417fab7c1ec56be0ce19": {
          "model_module": "@jupyter-widgets/base",
          "model_name": "LayoutModel",
          "model_module_version": "1.2.0",
          "state": {
            "_view_name": "LayoutView",
            "grid_template_rows": null,
            "right": null,
            "justify_content": null,
            "_view_module": "@jupyter-widgets/base",
            "overflow": null,
            "_model_module_version": "1.2.0",
            "_view_count": null,
            "flex_flow": null,
            "width": null,
            "min_width": null,
            "border": null,
            "align_items": null,
            "bottom": null,
            "_model_module": "@jupyter-widgets/base",
            "top": null,
            "grid_column": null,
            "overflow_y": null,
            "overflow_x": null,
            "grid_auto_flow": null,
            "grid_area": null,
            "grid_template_columns": null,
            "flex": null,
            "_model_name": "LayoutModel",
            "justify_items": null,
            "grid_row": null,
            "max_height": null,
            "align_content": null,
            "visibility": null,
            "align_self": null,
            "height": null,
            "min_height": null,
            "padding": null,
            "grid_auto_rows": null,
            "grid_gap": null,
            "max_width": null,
            "order": null,
            "_view_module_version": "1.2.0",
            "grid_template_areas": null,
            "object_position": null,
            "object_fit": null,
            "grid_auto_columns": null,
            "margin": null,
            "display": null,
            "left": null
          }
        },
        "bc3de7e471774145a8208199ee34e20f": {
          "model_module": "@jupyter-widgets/controls",
          "model_name": "VBoxModel",
          "model_module_version": "1.5.0",
          "state": {
            "_view_name": "VBoxView",
            "_dom_classes": [],
            "_model_name": "VBoxModel",
            "_view_module": "@jupyter-widgets/controls",
            "_model_module_version": "1.5.0",
            "_view_count": null,
            "_view_module_version": "1.5.0",
            "box_style": "",
            "layout": "IPY_MODEL_8332a03d0c064f538bca2fb25684233f",
            "_model_module": "@jupyter-widgets/controls",
            "children": [
              "IPY_MODEL_78f04d4627c84ae7abe8be61dbef09b3",
              "IPY_MODEL_ccb49110ae804f5eb19c2252420412f1"
            ]
          }
        },
        "8332a03d0c064f538bca2fb25684233f": {
          "model_module": "@jupyter-widgets/base",
          "model_name": "LayoutModel",
          "model_module_version": "1.2.0",
          "state": {
            "_view_name": "LayoutView",
            "grid_template_rows": null,
            "right": null,
            "justify_content": null,
            "_view_module": "@jupyter-widgets/base",
            "overflow": null,
            "_model_module_version": "1.2.0",
            "_view_count": null,
            "flex_flow": null,
            "width": null,
            "min_width": null,
            "border": null,
            "align_items": null,
            "bottom": null,
            "_model_module": "@jupyter-widgets/base",
            "top": null,
            "grid_column": null,
            "overflow_y": null,
            "overflow_x": null,
            "grid_auto_flow": null,
            "grid_area": null,
            "grid_template_columns": null,
            "flex": null,
            "_model_name": "LayoutModel",
            "justify_items": null,
            "grid_row": null,
            "max_height": null,
            "align_content": null,
            "visibility": null,
            "align_self": null,
            "height": null,
            "min_height": null,
            "padding": null,
            "grid_auto_rows": null,
            "grid_gap": null,
            "max_width": null,
            "order": null,
            "_view_module_version": "1.2.0",
            "grid_template_areas": null,
            "object_position": null,
            "object_fit": null,
            "grid_auto_columns": null,
            "margin": null,
            "display": null,
            "left": null
          }
        },
        "78f04d4627c84ae7abe8be61dbef09b3": {
          "model_module": "@jupyter-widgets/controls",
          "model_name": "LabelModel",
          "model_module_version": "1.5.0",
          "state": {
            "_view_name": "LabelView",
            "style": "IPY_MODEL_dcac3b37a54e4177a63eed62e553060b",
            "_dom_classes": [],
            "description": "",
            "_model_name": "LabelModel",
            "placeholder": "​",
            "_view_module": "@jupyter-widgets/controls",
            "_model_module_version": "1.5.0",
            "value": " 1.13MB of 1.13MB uploaded (0.00MB deduped)\r",
            "_view_count": null,
            "_view_module_version": "1.5.0",
            "description_tooltip": null,
            "_model_module": "@jupyter-widgets/controls",
            "layout": "IPY_MODEL_da0d15af1a3e468aab49b8a51bb5c733"
          }
        },
        "ccb49110ae804f5eb19c2252420412f1": {
          "model_module": "@jupyter-widgets/controls",
          "model_name": "FloatProgressModel",
          "model_module_version": "1.5.0",
          "state": {
            "_view_name": "ProgressView",
            "style": "IPY_MODEL_f121803ebd7d4b9b94bd857c3761c2e9",
            "_dom_classes": [],
            "description": "",
            "_model_name": "FloatProgressModel",
            "bar_style": "",
            "max": 1,
            "_view_module": "@jupyter-widgets/controls",
            "_model_module_version": "1.5.0",
            "value": 1,
            "_view_count": null,
            "_view_module_version": "1.5.0",
            "orientation": "horizontal",
            "min": 0,
            "description_tooltip": null,
            "_model_module": "@jupyter-widgets/controls",
            "layout": "IPY_MODEL_3fe6379dbfff4e82b7e806e93283d0d0"
          }
        },
        "dcac3b37a54e4177a63eed62e553060b": {
          "model_module": "@jupyter-widgets/controls",
          "model_name": "DescriptionStyleModel",
          "model_module_version": "1.5.0",
          "state": {
            "_view_name": "StyleView",
            "_model_name": "DescriptionStyleModel",
            "description_width": "",
            "_view_module": "@jupyter-widgets/base",
            "_model_module_version": "1.5.0",
            "_view_count": null,
            "_view_module_version": "1.2.0",
            "_model_module": "@jupyter-widgets/controls"
          }
        },
        "da0d15af1a3e468aab49b8a51bb5c733": {
          "model_module": "@jupyter-widgets/base",
          "model_name": "LayoutModel",
          "model_module_version": "1.2.0",
          "state": {
            "_view_name": "LayoutView",
            "grid_template_rows": null,
            "right": null,
            "justify_content": null,
            "_view_module": "@jupyter-widgets/base",
            "overflow": null,
            "_model_module_version": "1.2.0",
            "_view_count": null,
            "flex_flow": null,
            "width": null,
            "min_width": null,
            "border": null,
            "align_items": null,
            "bottom": null,
            "_model_module": "@jupyter-widgets/base",
            "top": null,
            "grid_column": null,
            "overflow_y": null,
            "overflow_x": null,
            "grid_auto_flow": null,
            "grid_area": null,
            "grid_template_columns": null,
            "flex": null,
            "_model_name": "LayoutModel",
            "justify_items": null,
            "grid_row": null,
            "max_height": null,
            "align_content": null,
            "visibility": null,
            "align_self": null,
            "height": null,
            "min_height": null,
            "padding": null,
            "grid_auto_rows": null,
            "grid_gap": null,
            "max_width": null,
            "order": null,
            "_view_module_version": "1.2.0",
            "grid_template_areas": null,
            "object_position": null,
            "object_fit": null,
            "grid_auto_columns": null,
            "margin": null,
            "display": null,
            "left": null
          }
        },
        "f121803ebd7d4b9b94bd857c3761c2e9": {
          "model_module": "@jupyter-widgets/controls",
          "model_name": "ProgressStyleModel",
          "model_module_version": "1.5.0",
          "state": {
            "_view_name": "StyleView",
            "_model_name": "ProgressStyleModel",
            "description_width": "",
            "_view_module": "@jupyter-widgets/base",
            "_model_module_version": "1.5.0",
            "_view_count": null,
            "_view_module_version": "1.2.0",
            "bar_color": null,
            "_model_module": "@jupyter-widgets/controls"
          }
        },
        "3fe6379dbfff4e82b7e806e93283d0d0": {
          "model_module": "@jupyter-widgets/base",
          "model_name": "LayoutModel",
          "model_module_version": "1.2.0",
          "state": {
            "_view_name": "LayoutView",
            "grid_template_rows": null,
            "right": null,
            "justify_content": null,
            "_view_module": "@jupyter-widgets/base",
            "overflow": null,
            "_model_module_version": "1.2.0",
            "_view_count": null,
            "flex_flow": null,
            "width": null,
            "min_width": null,
            "border": null,
            "align_items": null,
            "bottom": null,
            "_model_module": "@jupyter-widgets/base",
            "top": null,
            "grid_column": null,
            "overflow_y": null,
            "overflow_x": null,
            "grid_auto_flow": null,
            "grid_area": null,
            "grid_template_columns": null,
            "flex": null,
            "_model_name": "LayoutModel",
            "justify_items": null,
            "grid_row": null,
            "max_height": null,
            "align_content": null,
            "visibility": null,
            "align_self": null,
            "height": null,
            "min_height": null,
            "padding": null,
            "grid_auto_rows": null,
            "grid_gap": null,
            "max_width": null,
            "order": null,
            "_view_module_version": "1.2.0",
            "grid_template_areas": null,
            "object_position": null,
            "object_fit": null,
            "grid_auto_columns": null,
            "margin": null,
            "display": null,
            "left": null
          }
        },
        "be0c86b254be4064bf760e9eebfb7931": {
          "model_module": "@jupyter-widgets/controls",
          "model_name": "VBoxModel",
          "model_module_version": "1.5.0",
          "state": {
            "_view_name": "VBoxView",
            "_dom_classes": [],
            "_model_name": "VBoxModel",
            "_view_module": "@jupyter-widgets/controls",
            "_model_module_version": "1.5.0",
            "_view_count": null,
            "_view_module_version": "1.5.0",
            "box_style": "",
            "layout": "IPY_MODEL_3d30eb97a7f245db9972e4c83ee008ef",
            "_model_module": "@jupyter-widgets/controls",
            "children": [
              "IPY_MODEL_3a545c423eb242168bccee8c0ac5a8d5",
              "IPY_MODEL_db6789cda99246998f0b55b4e64206ee"
            ]
          }
        },
        "3d30eb97a7f245db9972e4c83ee008ef": {
          "model_module": "@jupyter-widgets/base",
          "model_name": "LayoutModel",
          "model_module_version": "1.2.0",
          "state": {
            "_view_name": "LayoutView",
            "grid_template_rows": null,
            "right": null,
            "justify_content": null,
            "_view_module": "@jupyter-widgets/base",
            "overflow": null,
            "_model_module_version": "1.2.0",
            "_view_count": null,
            "flex_flow": null,
            "width": null,
            "min_width": null,
            "border": null,
            "align_items": null,
            "bottom": null,
            "_model_module": "@jupyter-widgets/base",
            "top": null,
            "grid_column": null,
            "overflow_y": null,
            "overflow_x": null,
            "grid_auto_flow": null,
            "grid_area": null,
            "grid_template_columns": null,
            "flex": null,
            "_model_name": "LayoutModel",
            "justify_items": null,
            "grid_row": null,
            "max_height": null,
            "align_content": null,
            "visibility": null,
            "align_self": null,
            "height": null,
            "min_height": null,
            "padding": null,
            "grid_auto_rows": null,
            "grid_gap": null,
            "max_width": null,
            "order": null,
            "_view_module_version": "1.2.0",
            "grid_template_areas": null,
            "object_position": null,
            "object_fit": null,
            "grid_auto_columns": null,
            "margin": null,
            "display": null,
            "left": null
          }
        },
        "3a545c423eb242168bccee8c0ac5a8d5": {
          "model_module": "@jupyter-widgets/controls",
          "model_name": "LabelModel",
          "model_module_version": "1.5.0",
          "state": {
            "_view_name": "LabelView",
            "style": "IPY_MODEL_252d336962e14729801358678cdd47d1",
            "_dom_classes": [],
            "description": "",
            "_model_name": "LabelModel",
            "placeholder": "​",
            "_view_module": "@jupyter-widgets/controls",
            "_model_module_version": "1.5.0",
            "value": " 0.81MB of 0.81MB uploaded (0.00MB deduped)\r",
            "_view_count": null,
            "_view_module_version": "1.5.0",
            "description_tooltip": null,
            "_model_module": "@jupyter-widgets/controls",
            "layout": "IPY_MODEL_6194a6ae1b66488397e9bc6f67d4f180"
          }
        },
        "db6789cda99246998f0b55b4e64206ee": {
          "model_module": "@jupyter-widgets/controls",
          "model_name": "FloatProgressModel",
          "model_module_version": "1.5.0",
          "state": {
            "_view_name": "ProgressView",
            "style": "IPY_MODEL_3011ef102a0740f2baa83d95856ac953",
            "_dom_classes": [],
            "description": "",
            "_model_name": "FloatProgressModel",
            "bar_style": "",
            "max": 1,
            "_view_module": "@jupyter-widgets/controls",
            "_model_module_version": "1.5.0",
            "value": 1,
            "_view_count": null,
            "_view_module_version": "1.5.0",
            "orientation": "horizontal",
            "min": 0,
            "description_tooltip": null,
            "_model_module": "@jupyter-widgets/controls",
            "layout": "IPY_MODEL_8119c318c60e45769eb12ef2b2a545a1"
          }
        },
        "252d336962e14729801358678cdd47d1": {
          "model_module": "@jupyter-widgets/controls",
          "model_name": "DescriptionStyleModel",
          "model_module_version": "1.5.0",
          "state": {
            "_view_name": "StyleView",
            "_model_name": "DescriptionStyleModel",
            "description_width": "",
            "_view_module": "@jupyter-widgets/base",
            "_model_module_version": "1.5.0",
            "_view_count": null,
            "_view_module_version": "1.2.0",
            "_model_module": "@jupyter-widgets/controls"
          }
        },
        "6194a6ae1b66488397e9bc6f67d4f180": {
          "model_module": "@jupyter-widgets/base",
          "model_name": "LayoutModel",
          "model_module_version": "1.2.0",
          "state": {
            "_view_name": "LayoutView",
            "grid_template_rows": null,
            "right": null,
            "justify_content": null,
            "_view_module": "@jupyter-widgets/base",
            "overflow": null,
            "_model_module_version": "1.2.0",
            "_view_count": null,
            "flex_flow": null,
            "width": null,
            "min_width": null,
            "border": null,
            "align_items": null,
            "bottom": null,
            "_model_module": "@jupyter-widgets/base",
            "top": null,
            "grid_column": null,
            "overflow_y": null,
            "overflow_x": null,
            "grid_auto_flow": null,
            "grid_area": null,
            "grid_template_columns": null,
            "flex": null,
            "_model_name": "LayoutModel",
            "justify_items": null,
            "grid_row": null,
            "max_height": null,
            "align_content": null,
            "visibility": null,
            "align_self": null,
            "height": null,
            "min_height": null,
            "padding": null,
            "grid_auto_rows": null,
            "grid_gap": null,
            "max_width": null,
            "order": null,
            "_view_module_version": "1.2.0",
            "grid_template_areas": null,
            "object_position": null,
            "object_fit": null,
            "grid_auto_columns": null,
            "margin": null,
            "display": null,
            "left": null
          }
        },
        "3011ef102a0740f2baa83d95856ac953": {
          "model_module": "@jupyter-widgets/controls",
          "model_name": "ProgressStyleModel",
          "model_module_version": "1.5.0",
          "state": {
            "_view_name": "StyleView",
            "_model_name": "ProgressStyleModel",
            "description_width": "",
            "_view_module": "@jupyter-widgets/base",
            "_model_module_version": "1.5.0",
            "_view_count": null,
            "_view_module_version": "1.2.0",
            "bar_color": null,
            "_model_module": "@jupyter-widgets/controls"
          }
        },
        "8119c318c60e45769eb12ef2b2a545a1": {
          "model_module": "@jupyter-widgets/base",
          "model_name": "LayoutModel",
          "model_module_version": "1.2.0",
          "state": {
            "_view_name": "LayoutView",
            "grid_template_rows": null,
            "right": null,
            "justify_content": null,
            "_view_module": "@jupyter-widgets/base",
            "overflow": null,
            "_model_module_version": "1.2.0",
            "_view_count": null,
            "flex_flow": null,
            "width": null,
            "min_width": null,
            "border": null,
            "align_items": null,
            "bottom": null,
            "_model_module": "@jupyter-widgets/base",
            "top": null,
            "grid_column": null,
            "overflow_y": null,
            "overflow_x": null,
            "grid_auto_flow": null,
            "grid_area": null,
            "grid_template_columns": null,
            "flex": null,
            "_model_name": "LayoutModel",
            "justify_items": null,
            "grid_row": null,
            "max_height": null,
            "align_content": null,
            "visibility": null,
            "align_self": null,
            "height": null,
            "min_height": null,
            "padding": null,
            "grid_auto_rows": null,
            "grid_gap": null,
            "max_width": null,
            "order": null,
            "_view_module_version": "1.2.0",
            "grid_template_areas": null,
            "object_position": null,
            "object_fit": null,
            "grid_auto_columns": null,
            "margin": null,
            "display": null,
            "left": null
          }
        },
        "f3bf9f396c344be08298917f251a7d66": {
          "model_module": "@jupyter-widgets/controls",
          "model_name": "VBoxModel",
          "model_module_version": "1.5.0",
          "state": {
            "_view_name": "VBoxView",
            "_dom_classes": [],
            "_model_name": "VBoxModel",
            "_view_module": "@jupyter-widgets/controls",
            "_model_module_version": "1.5.0",
            "_view_count": null,
            "_view_module_version": "1.5.0",
            "box_style": "",
            "layout": "IPY_MODEL_9a5458ea787b47b88cf56d61e569ea05",
            "_model_module": "@jupyter-widgets/controls",
            "children": [
              "IPY_MODEL_ecb6659a095a4cd8bb777af4f20bf261",
              "IPY_MODEL_80b5a006dfc84a939dea07f7d17ab6ec"
            ]
          }
        },
        "9a5458ea787b47b88cf56d61e569ea05": {
          "model_module": "@jupyter-widgets/base",
          "model_name": "LayoutModel",
          "model_module_version": "1.2.0",
          "state": {
            "_view_name": "LayoutView",
            "grid_template_rows": null,
            "right": null,
            "justify_content": null,
            "_view_module": "@jupyter-widgets/base",
            "overflow": null,
            "_model_module_version": "1.2.0",
            "_view_count": null,
            "flex_flow": null,
            "width": null,
            "min_width": null,
            "border": null,
            "align_items": null,
            "bottom": null,
            "_model_module": "@jupyter-widgets/base",
            "top": null,
            "grid_column": null,
            "overflow_y": null,
            "overflow_x": null,
            "grid_auto_flow": null,
            "grid_area": null,
            "grid_template_columns": null,
            "flex": null,
            "_model_name": "LayoutModel",
            "justify_items": null,
            "grid_row": null,
            "max_height": null,
            "align_content": null,
            "visibility": null,
            "align_self": null,
            "height": null,
            "min_height": null,
            "padding": null,
            "grid_auto_rows": null,
            "grid_gap": null,
            "max_width": null,
            "order": null,
            "_view_module_version": "1.2.0",
            "grid_template_areas": null,
            "object_position": null,
            "object_fit": null,
            "grid_auto_columns": null,
            "margin": null,
            "display": null,
            "left": null
          }
        },
        "ecb6659a095a4cd8bb777af4f20bf261": {
          "model_module": "@jupyter-widgets/controls",
          "model_name": "LabelModel",
          "model_module_version": "1.5.0",
          "state": {
            "_view_name": "LabelView",
            "style": "IPY_MODEL_a9b03c0e9de34ae1858ca37d277f1cfb",
            "_dom_classes": [],
            "description": "",
            "_model_name": "LabelModel",
            "placeholder": "​",
            "_view_module": "@jupyter-widgets/controls",
            "_model_module_version": "1.5.0",
            "value": " 3.86MB of 3.86MB uploaded (0.00MB deduped)\r",
            "_view_count": null,
            "_view_module_version": "1.5.0",
            "description_tooltip": null,
            "_model_module": "@jupyter-widgets/controls",
            "layout": "IPY_MODEL_1b65946a870c43399aae8afa73c4ab84"
          }
        },
        "80b5a006dfc84a939dea07f7d17ab6ec": {
          "model_module": "@jupyter-widgets/controls",
          "model_name": "FloatProgressModel",
          "model_module_version": "1.5.0",
          "state": {
            "_view_name": "ProgressView",
            "style": "IPY_MODEL_dbf15d4558b145a19c380d69af631a48",
            "_dom_classes": [],
            "description": "",
            "_model_name": "FloatProgressModel",
            "bar_style": "",
            "max": 1,
            "_view_module": "@jupyter-widgets/controls",
            "_model_module_version": "1.5.0",
            "value": 1,
            "_view_count": null,
            "_view_module_version": "1.5.0",
            "orientation": "horizontal",
            "min": 0,
            "description_tooltip": null,
            "_model_module": "@jupyter-widgets/controls",
            "layout": "IPY_MODEL_085935b1e87d4fc2b9166ae06df64aa8"
          }
        },
        "a9b03c0e9de34ae1858ca37d277f1cfb": {
          "model_module": "@jupyter-widgets/controls",
          "model_name": "DescriptionStyleModel",
          "model_module_version": "1.5.0",
          "state": {
            "_view_name": "StyleView",
            "_model_name": "DescriptionStyleModel",
            "description_width": "",
            "_view_module": "@jupyter-widgets/base",
            "_model_module_version": "1.5.0",
            "_view_count": null,
            "_view_module_version": "1.2.0",
            "_model_module": "@jupyter-widgets/controls"
          }
        },
        "1b65946a870c43399aae8afa73c4ab84": {
          "model_module": "@jupyter-widgets/base",
          "model_name": "LayoutModel",
          "model_module_version": "1.2.0",
          "state": {
            "_view_name": "LayoutView",
            "grid_template_rows": null,
            "right": null,
            "justify_content": null,
            "_view_module": "@jupyter-widgets/base",
            "overflow": null,
            "_model_module_version": "1.2.0",
            "_view_count": null,
            "flex_flow": null,
            "width": null,
            "min_width": null,
            "border": null,
            "align_items": null,
            "bottom": null,
            "_model_module": "@jupyter-widgets/base",
            "top": null,
            "grid_column": null,
            "overflow_y": null,
            "overflow_x": null,
            "grid_auto_flow": null,
            "grid_area": null,
            "grid_template_columns": null,
            "flex": null,
            "_model_name": "LayoutModel",
            "justify_items": null,
            "grid_row": null,
            "max_height": null,
            "align_content": null,
            "visibility": null,
            "align_self": null,
            "height": null,
            "min_height": null,
            "padding": null,
            "grid_auto_rows": null,
            "grid_gap": null,
            "max_width": null,
            "order": null,
            "_view_module_version": "1.2.0",
            "grid_template_areas": null,
            "object_position": null,
            "object_fit": null,
            "grid_auto_columns": null,
            "margin": null,
            "display": null,
            "left": null
          }
        },
        "dbf15d4558b145a19c380d69af631a48": {
          "model_module": "@jupyter-widgets/controls",
          "model_name": "ProgressStyleModel",
          "model_module_version": "1.5.0",
          "state": {
            "_view_name": "StyleView",
            "_model_name": "ProgressStyleModel",
            "description_width": "",
            "_view_module": "@jupyter-widgets/base",
            "_model_module_version": "1.5.0",
            "_view_count": null,
            "_view_module_version": "1.2.0",
            "bar_color": null,
            "_model_module": "@jupyter-widgets/controls"
          }
        },
        "085935b1e87d4fc2b9166ae06df64aa8": {
          "model_module": "@jupyter-widgets/base",
          "model_name": "LayoutModel",
          "model_module_version": "1.2.0",
          "state": {
            "_view_name": "LayoutView",
            "grid_template_rows": null,
            "right": null,
            "justify_content": null,
            "_view_module": "@jupyter-widgets/base",
            "overflow": null,
            "_model_module_version": "1.2.0",
            "_view_count": null,
            "flex_flow": null,
            "width": null,
            "min_width": null,
            "border": null,
            "align_items": null,
            "bottom": null,
            "_model_module": "@jupyter-widgets/base",
            "top": null,
            "grid_column": null,
            "overflow_y": null,
            "overflow_x": null,
            "grid_auto_flow": null,
            "grid_area": null,
            "grid_template_columns": null,
            "flex": null,
            "_model_name": "LayoutModel",
            "justify_items": null,
            "grid_row": null,
            "max_height": null,
            "align_content": null,
            "visibility": null,
            "align_self": null,
            "height": null,
            "min_height": null,
            "padding": null,
            "grid_auto_rows": null,
            "grid_gap": null,
            "max_width": null,
            "order": null,
            "_view_module_version": "1.2.0",
            "grid_template_areas": null,
            "object_position": null,
            "object_fit": null,
            "grid_auto_columns": null,
            "margin": null,
            "display": null,
            "left": null
          }
        },
        "03edd61bce3b4c4f9a344bda3826f9d4": {
          "model_module": "@jupyter-widgets/controls",
          "model_name": "VBoxModel",
          "model_module_version": "1.5.0",
          "state": {
            "_view_name": "VBoxView",
            "_dom_classes": [],
            "_model_name": "VBoxModel",
            "_view_module": "@jupyter-widgets/controls",
            "_model_module_version": "1.5.0",
            "_view_count": null,
            "_view_module_version": "1.5.0",
            "box_style": "",
            "layout": "IPY_MODEL_6a3f502bb2e04947b211c25e46f7868a",
            "_model_module": "@jupyter-widgets/controls",
            "children": [
              "IPY_MODEL_c3b2f48832b2436391c8d56586ece33e",
              "IPY_MODEL_0eb863f7d59245f184df07768bb92575"
            ]
          }
        },
        "6a3f502bb2e04947b211c25e46f7868a": {
          "model_module": "@jupyter-widgets/base",
          "model_name": "LayoutModel",
          "model_module_version": "1.2.0",
          "state": {
            "_view_name": "LayoutView",
            "grid_template_rows": null,
            "right": null,
            "justify_content": null,
            "_view_module": "@jupyter-widgets/base",
            "overflow": null,
            "_model_module_version": "1.2.0",
            "_view_count": null,
            "flex_flow": null,
            "width": null,
            "min_width": null,
            "border": null,
            "align_items": null,
            "bottom": null,
            "_model_module": "@jupyter-widgets/base",
            "top": null,
            "grid_column": null,
            "overflow_y": null,
            "overflow_x": null,
            "grid_auto_flow": null,
            "grid_area": null,
            "grid_template_columns": null,
            "flex": null,
            "_model_name": "LayoutModel",
            "justify_items": null,
            "grid_row": null,
            "max_height": null,
            "align_content": null,
            "visibility": null,
            "align_self": null,
            "height": null,
            "min_height": null,
            "padding": null,
            "grid_auto_rows": null,
            "grid_gap": null,
            "max_width": null,
            "order": null,
            "_view_module_version": "1.2.0",
            "grid_template_areas": null,
            "object_position": null,
            "object_fit": null,
            "grid_auto_columns": null,
            "margin": null,
            "display": null,
            "left": null
          }
        },
        "c3b2f48832b2436391c8d56586ece33e": {
          "model_module": "@jupyter-widgets/controls",
          "model_name": "LabelModel",
          "model_module_version": "1.5.0",
          "state": {
            "_view_name": "LabelView",
            "style": "IPY_MODEL_bdb061252b134e12bcad2b49a5f59d41",
            "_dom_classes": [],
            "description": "",
            "_model_name": "LabelModel",
            "placeholder": "​",
            "_view_module": "@jupyter-widgets/controls",
            "_model_module_version": "1.5.0",
            "value": " 0.12MB of 0.12MB uploaded (0.00MB deduped)\r",
            "_view_count": null,
            "_view_module_version": "1.5.0",
            "description_tooltip": null,
            "_model_module": "@jupyter-widgets/controls",
            "layout": "IPY_MODEL_459546035f3841008d2fa6eef4e3c926"
          }
        },
        "0eb863f7d59245f184df07768bb92575": {
          "model_module": "@jupyter-widgets/controls",
          "model_name": "FloatProgressModel",
          "model_module_version": "1.5.0",
          "state": {
            "_view_name": "ProgressView",
            "style": "IPY_MODEL_2110b92ed6344fdfbb77fa60a79683ba",
            "_dom_classes": [],
            "description": "",
            "_model_name": "FloatProgressModel",
            "bar_style": "",
            "max": 1,
            "_view_module": "@jupyter-widgets/controls",
            "_model_module_version": "1.5.0",
            "value": 1,
            "_view_count": null,
            "_view_module_version": "1.5.0",
            "orientation": "horizontal",
            "min": 0,
            "description_tooltip": null,
            "_model_module": "@jupyter-widgets/controls",
            "layout": "IPY_MODEL_0458e4637d2f46c79dc1ce5984ed1040"
          }
        },
        "bdb061252b134e12bcad2b49a5f59d41": {
          "model_module": "@jupyter-widgets/controls",
          "model_name": "DescriptionStyleModel",
          "model_module_version": "1.5.0",
          "state": {
            "_view_name": "StyleView",
            "_model_name": "DescriptionStyleModel",
            "description_width": "",
            "_view_module": "@jupyter-widgets/base",
            "_model_module_version": "1.5.0",
            "_view_count": null,
            "_view_module_version": "1.2.0",
            "_model_module": "@jupyter-widgets/controls"
          }
        },
        "459546035f3841008d2fa6eef4e3c926": {
          "model_module": "@jupyter-widgets/base",
          "model_name": "LayoutModel",
          "model_module_version": "1.2.0",
          "state": {
            "_view_name": "LayoutView",
            "grid_template_rows": null,
            "right": null,
            "justify_content": null,
            "_view_module": "@jupyter-widgets/base",
            "overflow": null,
            "_model_module_version": "1.2.0",
            "_view_count": null,
            "flex_flow": null,
            "width": null,
            "min_width": null,
            "border": null,
            "align_items": null,
            "bottom": null,
            "_model_module": "@jupyter-widgets/base",
            "top": null,
            "grid_column": null,
            "overflow_y": null,
            "overflow_x": null,
            "grid_auto_flow": null,
            "grid_area": null,
            "grid_template_columns": null,
            "flex": null,
            "_model_name": "LayoutModel",
            "justify_items": null,
            "grid_row": null,
            "max_height": null,
            "align_content": null,
            "visibility": null,
            "align_self": null,
            "height": null,
            "min_height": null,
            "padding": null,
            "grid_auto_rows": null,
            "grid_gap": null,
            "max_width": null,
            "order": null,
            "_view_module_version": "1.2.0",
            "grid_template_areas": null,
            "object_position": null,
            "object_fit": null,
            "grid_auto_columns": null,
            "margin": null,
            "display": null,
            "left": null
          }
        },
        "2110b92ed6344fdfbb77fa60a79683ba": {
          "model_module": "@jupyter-widgets/controls",
          "model_name": "ProgressStyleModel",
          "model_module_version": "1.5.0",
          "state": {
            "_view_name": "StyleView",
            "_model_name": "ProgressStyleModel",
            "description_width": "",
            "_view_module": "@jupyter-widgets/base",
            "_model_module_version": "1.5.0",
            "_view_count": null,
            "_view_module_version": "1.2.0",
            "bar_color": null,
            "_model_module": "@jupyter-widgets/controls"
          }
        },
        "0458e4637d2f46c79dc1ce5984ed1040": {
          "model_module": "@jupyter-widgets/base",
          "model_name": "LayoutModel",
          "model_module_version": "1.2.0",
          "state": {
            "_view_name": "LayoutView",
            "grid_template_rows": null,
            "right": null,
            "justify_content": null,
            "_view_module": "@jupyter-widgets/base",
            "overflow": null,
            "_model_module_version": "1.2.0",
            "_view_count": null,
            "flex_flow": null,
            "width": null,
            "min_width": null,
            "border": null,
            "align_items": null,
            "bottom": null,
            "_model_module": "@jupyter-widgets/base",
            "top": null,
            "grid_column": null,
            "overflow_y": null,
            "overflow_x": null,
            "grid_auto_flow": null,
            "grid_area": null,
            "grid_template_columns": null,
            "flex": null,
            "_model_name": "LayoutModel",
            "justify_items": null,
            "grid_row": null,
            "max_height": null,
            "align_content": null,
            "visibility": null,
            "align_self": null,
            "height": null,
            "min_height": null,
            "padding": null,
            "grid_auto_rows": null,
            "grid_gap": null,
            "max_width": null,
            "order": null,
            "_view_module_version": "1.2.0",
            "grid_template_areas": null,
            "object_position": null,
            "object_fit": null,
            "grid_auto_columns": null,
            "margin": null,
            "display": null,
            "left": null
          }
        },
        "648e6f849bd4422083955aa7d595e0b2": {
          "model_module": "@jupyter-widgets/controls",
          "model_name": "VBoxModel",
          "model_module_version": "1.5.0",
          "state": {
            "_view_name": "VBoxView",
            "_dom_classes": [],
            "_model_name": "VBoxModel",
            "_view_module": "@jupyter-widgets/controls",
            "_model_module_version": "1.5.0",
            "_view_count": null,
            "_view_module_version": "1.5.0",
            "box_style": "",
            "layout": "IPY_MODEL_e3ce905123ab4aa5ab8b1c2d2059b9aa",
            "_model_module": "@jupyter-widgets/controls",
            "children": [
              "IPY_MODEL_5bcd25d4838341489f6ec534f1a15b44",
              "IPY_MODEL_857fa6c17e2f4a05961b925c2d57a756"
            ]
          }
        },
        "e3ce905123ab4aa5ab8b1c2d2059b9aa": {
          "model_module": "@jupyter-widgets/base",
          "model_name": "LayoutModel",
          "model_module_version": "1.2.0",
          "state": {
            "_view_name": "LayoutView",
            "grid_template_rows": null,
            "right": null,
            "justify_content": null,
            "_view_module": "@jupyter-widgets/base",
            "overflow": null,
            "_model_module_version": "1.2.0",
            "_view_count": null,
            "flex_flow": null,
            "width": null,
            "min_width": null,
            "border": null,
            "align_items": null,
            "bottom": null,
            "_model_module": "@jupyter-widgets/base",
            "top": null,
            "grid_column": null,
            "overflow_y": null,
            "overflow_x": null,
            "grid_auto_flow": null,
            "grid_area": null,
            "grid_template_columns": null,
            "flex": null,
            "_model_name": "LayoutModel",
            "justify_items": null,
            "grid_row": null,
            "max_height": null,
            "align_content": null,
            "visibility": null,
            "align_self": null,
            "height": null,
            "min_height": null,
            "padding": null,
            "grid_auto_rows": null,
            "grid_gap": null,
            "max_width": null,
            "order": null,
            "_view_module_version": "1.2.0",
            "grid_template_areas": null,
            "object_position": null,
            "object_fit": null,
            "grid_auto_columns": null,
            "margin": null,
            "display": null,
            "left": null
          }
        },
        "5bcd25d4838341489f6ec534f1a15b44": {
          "model_module": "@jupyter-widgets/controls",
          "model_name": "LabelModel",
          "model_module_version": "1.5.0",
          "state": {
            "_view_name": "LabelView",
            "style": "IPY_MODEL_a352b22b7216438fba52f38ab9b44bda",
            "_dom_classes": [],
            "description": "",
            "_model_name": "LabelModel",
            "placeholder": "​",
            "_view_module": "@jupyter-widgets/controls",
            "_model_module_version": "1.5.0",
            "value": " 0.09MB of 0.09MB uploaded (0.00MB deduped)\r",
            "_view_count": null,
            "_view_module_version": "1.5.0",
            "description_tooltip": null,
            "_model_module": "@jupyter-widgets/controls",
            "layout": "IPY_MODEL_91647da59eb548259635985c78b4cd82"
          }
        },
        "857fa6c17e2f4a05961b925c2d57a756": {
          "model_module": "@jupyter-widgets/controls",
          "model_name": "FloatProgressModel",
          "model_module_version": "1.5.0",
          "state": {
            "_view_name": "ProgressView",
            "style": "IPY_MODEL_a500f0c898ff4a938dcbe919fcba0836",
            "_dom_classes": [],
            "description": "",
            "_model_name": "FloatProgressModel",
            "bar_style": "",
            "max": 1,
            "_view_module": "@jupyter-widgets/controls",
            "_model_module_version": "1.5.0",
            "value": 1,
            "_view_count": null,
            "_view_module_version": "1.5.0",
            "orientation": "horizontal",
            "min": 0,
            "description_tooltip": null,
            "_model_module": "@jupyter-widgets/controls",
            "layout": "IPY_MODEL_a0be126d6ebc4505babd967d505337d5"
          }
        },
        "a352b22b7216438fba52f38ab9b44bda": {
          "model_module": "@jupyter-widgets/controls",
          "model_name": "DescriptionStyleModel",
          "model_module_version": "1.5.0",
          "state": {
            "_view_name": "StyleView",
            "_model_name": "DescriptionStyleModel",
            "description_width": "",
            "_view_module": "@jupyter-widgets/base",
            "_model_module_version": "1.5.0",
            "_view_count": null,
            "_view_module_version": "1.2.0",
            "_model_module": "@jupyter-widgets/controls"
          }
        },
        "91647da59eb548259635985c78b4cd82": {
          "model_module": "@jupyter-widgets/base",
          "model_name": "LayoutModel",
          "model_module_version": "1.2.0",
          "state": {
            "_view_name": "LayoutView",
            "grid_template_rows": null,
            "right": null,
            "justify_content": null,
            "_view_module": "@jupyter-widgets/base",
            "overflow": null,
            "_model_module_version": "1.2.0",
            "_view_count": null,
            "flex_flow": null,
            "width": null,
            "min_width": null,
            "border": null,
            "align_items": null,
            "bottom": null,
            "_model_module": "@jupyter-widgets/base",
            "top": null,
            "grid_column": null,
            "overflow_y": null,
            "overflow_x": null,
            "grid_auto_flow": null,
            "grid_area": null,
            "grid_template_columns": null,
            "flex": null,
            "_model_name": "LayoutModel",
            "justify_items": null,
            "grid_row": null,
            "max_height": null,
            "align_content": null,
            "visibility": null,
            "align_self": null,
            "height": null,
            "min_height": null,
            "padding": null,
            "grid_auto_rows": null,
            "grid_gap": null,
            "max_width": null,
            "order": null,
            "_view_module_version": "1.2.0",
            "grid_template_areas": null,
            "object_position": null,
            "object_fit": null,
            "grid_auto_columns": null,
            "margin": null,
            "display": null,
            "left": null
          }
        },
        "a500f0c898ff4a938dcbe919fcba0836": {
          "model_module": "@jupyter-widgets/controls",
          "model_name": "ProgressStyleModel",
          "model_module_version": "1.5.0",
          "state": {
            "_view_name": "StyleView",
            "_model_name": "ProgressStyleModel",
            "description_width": "",
            "_view_module": "@jupyter-widgets/base",
            "_model_module_version": "1.5.0",
            "_view_count": null,
            "_view_module_version": "1.2.0",
            "bar_color": null,
            "_model_module": "@jupyter-widgets/controls"
          }
        },
        "a0be126d6ebc4505babd967d505337d5": {
          "model_module": "@jupyter-widgets/base",
          "model_name": "LayoutModel",
          "model_module_version": "1.2.0",
          "state": {
            "_view_name": "LayoutView",
            "grid_template_rows": null,
            "right": null,
            "justify_content": null,
            "_view_module": "@jupyter-widgets/base",
            "overflow": null,
            "_model_module_version": "1.2.0",
            "_view_count": null,
            "flex_flow": null,
            "width": null,
            "min_width": null,
            "border": null,
            "align_items": null,
            "bottom": null,
            "_model_module": "@jupyter-widgets/base",
            "top": null,
            "grid_column": null,
            "overflow_y": null,
            "overflow_x": null,
            "grid_auto_flow": null,
            "grid_area": null,
            "grid_template_columns": null,
            "flex": null,
            "_model_name": "LayoutModel",
            "justify_items": null,
            "grid_row": null,
            "max_height": null,
            "align_content": null,
            "visibility": null,
            "align_self": null,
            "height": null,
            "min_height": null,
            "padding": null,
            "grid_auto_rows": null,
            "grid_gap": null,
            "max_width": null,
            "order": null,
            "_view_module_version": "1.2.0",
            "grid_template_areas": null,
            "object_position": null,
            "object_fit": null,
            "grid_auto_columns": null,
            "margin": null,
            "display": null,
            "left": null
          }
        },
        "91bc06794b414708b0c6a932b772c450": {
          "model_module": "@jupyter-widgets/controls",
          "model_name": "VBoxModel",
          "model_module_version": "1.5.0",
          "state": {
            "_view_name": "VBoxView",
            "_dom_classes": [],
            "_model_name": "VBoxModel",
            "_view_module": "@jupyter-widgets/controls",
            "_model_module_version": "1.5.0",
            "_view_count": null,
            "_view_module_version": "1.5.0",
            "box_style": "",
            "layout": "IPY_MODEL_a3d66da973b2419d8a3aaab30a9033fd",
            "_model_module": "@jupyter-widgets/controls",
            "children": [
              "IPY_MODEL_709af779d344463386ff507b0c059235",
              "IPY_MODEL_00c1924e16024db68b0c26c8ea2bfde6"
            ]
          }
        },
        "a3d66da973b2419d8a3aaab30a9033fd": {
          "model_module": "@jupyter-widgets/base",
          "model_name": "LayoutModel",
          "model_module_version": "1.2.0",
          "state": {
            "_view_name": "LayoutView",
            "grid_template_rows": null,
            "right": null,
            "justify_content": null,
            "_view_module": "@jupyter-widgets/base",
            "overflow": null,
            "_model_module_version": "1.2.0",
            "_view_count": null,
            "flex_flow": null,
            "width": null,
            "min_width": null,
            "border": null,
            "align_items": null,
            "bottom": null,
            "_model_module": "@jupyter-widgets/base",
            "top": null,
            "grid_column": null,
            "overflow_y": null,
            "overflow_x": null,
            "grid_auto_flow": null,
            "grid_area": null,
            "grid_template_columns": null,
            "flex": null,
            "_model_name": "LayoutModel",
            "justify_items": null,
            "grid_row": null,
            "max_height": null,
            "align_content": null,
            "visibility": null,
            "align_self": null,
            "height": null,
            "min_height": null,
            "padding": null,
            "grid_auto_rows": null,
            "grid_gap": null,
            "max_width": null,
            "order": null,
            "_view_module_version": "1.2.0",
            "grid_template_areas": null,
            "object_position": null,
            "object_fit": null,
            "grid_auto_columns": null,
            "margin": null,
            "display": null,
            "left": null
          }
        },
        "709af779d344463386ff507b0c059235": {
          "model_module": "@jupyter-widgets/controls",
          "model_name": "LabelModel",
          "model_module_version": "1.5.0",
          "state": {
            "_view_name": "LabelView",
            "style": "IPY_MODEL_1c6323bd3cde4b4785f6a8ac542ec229",
            "_dom_classes": [],
            "description": "",
            "_model_name": "LabelModel",
            "placeholder": "​",
            "_view_module": "@jupyter-widgets/controls",
            "_model_module_version": "1.5.0",
            "value": " 0.26MB of 0.26MB uploaded (0.00MB deduped)\r",
            "_view_count": null,
            "_view_module_version": "1.5.0",
            "description_tooltip": null,
            "_model_module": "@jupyter-widgets/controls",
            "layout": "IPY_MODEL_c7a67373879842a7927fbe937feefb15"
          }
        },
        "00c1924e16024db68b0c26c8ea2bfde6": {
          "model_module": "@jupyter-widgets/controls",
          "model_name": "FloatProgressModel",
          "model_module_version": "1.5.0",
          "state": {
            "_view_name": "ProgressView",
            "style": "IPY_MODEL_db4cc6b27ec241e79256438b0190987f",
            "_dom_classes": [],
            "description": "",
            "_model_name": "FloatProgressModel",
            "bar_style": "",
            "max": 1,
            "_view_module": "@jupyter-widgets/controls",
            "_model_module_version": "1.5.0",
            "value": 1,
            "_view_count": null,
            "_view_module_version": "1.5.0",
            "orientation": "horizontal",
            "min": 0,
            "description_tooltip": null,
            "_model_module": "@jupyter-widgets/controls",
            "layout": "IPY_MODEL_09123f0c32f9429d86461f7a56a3ffb8"
          }
        },
        "1c6323bd3cde4b4785f6a8ac542ec229": {
          "model_module": "@jupyter-widgets/controls",
          "model_name": "DescriptionStyleModel",
          "model_module_version": "1.5.0",
          "state": {
            "_view_name": "StyleView",
            "_model_name": "DescriptionStyleModel",
            "description_width": "",
            "_view_module": "@jupyter-widgets/base",
            "_model_module_version": "1.5.0",
            "_view_count": null,
            "_view_module_version": "1.2.0",
            "_model_module": "@jupyter-widgets/controls"
          }
        },
        "c7a67373879842a7927fbe937feefb15": {
          "model_module": "@jupyter-widgets/base",
          "model_name": "LayoutModel",
          "model_module_version": "1.2.0",
          "state": {
            "_view_name": "LayoutView",
            "grid_template_rows": null,
            "right": null,
            "justify_content": null,
            "_view_module": "@jupyter-widgets/base",
            "overflow": null,
            "_model_module_version": "1.2.0",
            "_view_count": null,
            "flex_flow": null,
            "width": null,
            "min_width": null,
            "border": null,
            "align_items": null,
            "bottom": null,
            "_model_module": "@jupyter-widgets/base",
            "top": null,
            "grid_column": null,
            "overflow_y": null,
            "overflow_x": null,
            "grid_auto_flow": null,
            "grid_area": null,
            "grid_template_columns": null,
            "flex": null,
            "_model_name": "LayoutModel",
            "justify_items": null,
            "grid_row": null,
            "max_height": null,
            "align_content": null,
            "visibility": null,
            "align_self": null,
            "height": null,
            "min_height": null,
            "padding": null,
            "grid_auto_rows": null,
            "grid_gap": null,
            "max_width": null,
            "order": null,
            "_view_module_version": "1.2.0",
            "grid_template_areas": null,
            "object_position": null,
            "object_fit": null,
            "grid_auto_columns": null,
            "margin": null,
            "display": null,
            "left": null
          }
        },
        "db4cc6b27ec241e79256438b0190987f": {
          "model_module": "@jupyter-widgets/controls",
          "model_name": "ProgressStyleModel",
          "model_module_version": "1.5.0",
          "state": {
            "_view_name": "StyleView",
            "_model_name": "ProgressStyleModel",
            "description_width": "",
            "_view_module": "@jupyter-widgets/base",
            "_model_module_version": "1.5.0",
            "_view_count": null,
            "_view_module_version": "1.2.0",
            "bar_color": null,
            "_model_module": "@jupyter-widgets/controls"
          }
        },
        "09123f0c32f9429d86461f7a56a3ffb8": {
          "model_module": "@jupyter-widgets/base",
          "model_name": "LayoutModel",
          "model_module_version": "1.2.0",
          "state": {
            "_view_name": "LayoutView",
            "grid_template_rows": null,
            "right": null,
            "justify_content": null,
            "_view_module": "@jupyter-widgets/base",
            "overflow": null,
            "_model_module_version": "1.2.0",
            "_view_count": null,
            "flex_flow": null,
            "width": null,
            "min_width": null,
            "border": null,
            "align_items": null,
            "bottom": null,
            "_model_module": "@jupyter-widgets/base",
            "top": null,
            "grid_column": null,
            "overflow_y": null,
            "overflow_x": null,
            "grid_auto_flow": null,
            "grid_area": null,
            "grid_template_columns": null,
            "flex": null,
            "_model_name": "LayoutModel",
            "justify_items": null,
            "grid_row": null,
            "max_height": null,
            "align_content": null,
            "visibility": null,
            "align_self": null,
            "height": null,
            "min_height": null,
            "padding": null,
            "grid_auto_rows": null,
            "grid_gap": null,
            "max_width": null,
            "order": null,
            "_view_module_version": "1.2.0",
            "grid_template_areas": null,
            "object_position": null,
            "object_fit": null,
            "grid_auto_columns": null,
            "margin": null,
            "display": null,
            "left": null
          }
        },
        "45bec8a60fa5497f9c2f6fc8a962dab5": {
          "model_module": "@jupyter-widgets/controls",
          "model_name": "VBoxModel",
          "model_module_version": "1.5.0",
          "state": {
            "_view_name": "VBoxView",
            "_dom_classes": [],
            "_model_name": "VBoxModel",
            "_view_module": "@jupyter-widgets/controls",
            "_model_module_version": "1.5.0",
            "_view_count": null,
            "_view_module_version": "1.5.0",
            "box_style": "",
            "layout": "IPY_MODEL_cd5667f72b154026b5f4522b4b28d497",
            "_model_module": "@jupyter-widgets/controls",
            "children": [
              "IPY_MODEL_d728d657a68d4975a7c0f4713a203429",
              "IPY_MODEL_268c2d50ecd84afebbe8e55bf76dd802"
            ]
          }
        },
        "cd5667f72b154026b5f4522b4b28d497": {
          "model_module": "@jupyter-widgets/base",
          "model_name": "LayoutModel",
          "model_module_version": "1.2.0",
          "state": {
            "_view_name": "LayoutView",
            "grid_template_rows": null,
            "right": null,
            "justify_content": null,
            "_view_module": "@jupyter-widgets/base",
            "overflow": null,
            "_model_module_version": "1.2.0",
            "_view_count": null,
            "flex_flow": null,
            "width": null,
            "min_width": null,
            "border": null,
            "align_items": null,
            "bottom": null,
            "_model_module": "@jupyter-widgets/base",
            "top": null,
            "grid_column": null,
            "overflow_y": null,
            "overflow_x": null,
            "grid_auto_flow": null,
            "grid_area": null,
            "grid_template_columns": null,
            "flex": null,
            "_model_name": "LayoutModel",
            "justify_items": null,
            "grid_row": null,
            "max_height": null,
            "align_content": null,
            "visibility": null,
            "align_self": null,
            "height": null,
            "min_height": null,
            "padding": null,
            "grid_auto_rows": null,
            "grid_gap": null,
            "max_width": null,
            "order": null,
            "_view_module_version": "1.2.0",
            "grid_template_areas": null,
            "object_position": null,
            "object_fit": null,
            "grid_auto_columns": null,
            "margin": null,
            "display": null,
            "left": null
          }
        },
        "d728d657a68d4975a7c0f4713a203429": {
          "model_module": "@jupyter-widgets/controls",
          "model_name": "LabelModel",
          "model_module_version": "1.5.0",
          "state": {
            "_view_name": "LabelView",
            "style": "IPY_MODEL_e8c9d798c2fe4ad58729c831a829a688",
            "_dom_classes": [],
            "description": "",
            "_model_name": "LabelModel",
            "placeholder": "​",
            "_view_module": "@jupyter-widgets/controls",
            "_model_module_version": "1.5.0",
            "value": " 0.40MB of 0.40MB uploaded (0.00MB deduped)\r",
            "_view_count": null,
            "_view_module_version": "1.5.0",
            "description_tooltip": null,
            "_model_module": "@jupyter-widgets/controls",
            "layout": "IPY_MODEL_e49f98e8bde946d28b313e2fd5996172"
          }
        },
        "268c2d50ecd84afebbe8e55bf76dd802": {
          "model_module": "@jupyter-widgets/controls",
          "model_name": "FloatProgressModel",
          "model_module_version": "1.5.0",
          "state": {
            "_view_name": "ProgressView",
            "style": "IPY_MODEL_6f8d96b532d14bcebc13e496cdd11f9f",
            "_dom_classes": [],
            "description": "",
            "_model_name": "FloatProgressModel",
            "bar_style": "",
            "max": 1,
            "_view_module": "@jupyter-widgets/controls",
            "_model_module_version": "1.5.0",
            "value": 1,
            "_view_count": null,
            "_view_module_version": "1.5.0",
            "orientation": "horizontal",
            "min": 0,
            "description_tooltip": null,
            "_model_module": "@jupyter-widgets/controls",
            "layout": "IPY_MODEL_74aafeb6d74f46dda51bf8b79dc1de0b"
          }
        },
        "e8c9d798c2fe4ad58729c831a829a688": {
          "model_module": "@jupyter-widgets/controls",
          "model_name": "DescriptionStyleModel",
          "model_module_version": "1.5.0",
          "state": {
            "_view_name": "StyleView",
            "_model_name": "DescriptionStyleModel",
            "description_width": "",
            "_view_module": "@jupyter-widgets/base",
            "_model_module_version": "1.5.0",
            "_view_count": null,
            "_view_module_version": "1.2.0",
            "_model_module": "@jupyter-widgets/controls"
          }
        },
        "e49f98e8bde946d28b313e2fd5996172": {
          "model_module": "@jupyter-widgets/base",
          "model_name": "LayoutModel",
          "model_module_version": "1.2.0",
          "state": {
            "_view_name": "LayoutView",
            "grid_template_rows": null,
            "right": null,
            "justify_content": null,
            "_view_module": "@jupyter-widgets/base",
            "overflow": null,
            "_model_module_version": "1.2.0",
            "_view_count": null,
            "flex_flow": null,
            "width": null,
            "min_width": null,
            "border": null,
            "align_items": null,
            "bottom": null,
            "_model_module": "@jupyter-widgets/base",
            "top": null,
            "grid_column": null,
            "overflow_y": null,
            "overflow_x": null,
            "grid_auto_flow": null,
            "grid_area": null,
            "grid_template_columns": null,
            "flex": null,
            "_model_name": "LayoutModel",
            "justify_items": null,
            "grid_row": null,
            "max_height": null,
            "align_content": null,
            "visibility": null,
            "align_self": null,
            "height": null,
            "min_height": null,
            "padding": null,
            "grid_auto_rows": null,
            "grid_gap": null,
            "max_width": null,
            "order": null,
            "_view_module_version": "1.2.0",
            "grid_template_areas": null,
            "object_position": null,
            "object_fit": null,
            "grid_auto_columns": null,
            "margin": null,
            "display": null,
            "left": null
          }
        },
        "6f8d96b532d14bcebc13e496cdd11f9f": {
          "model_module": "@jupyter-widgets/controls",
          "model_name": "ProgressStyleModel",
          "model_module_version": "1.5.0",
          "state": {
            "_view_name": "StyleView",
            "_model_name": "ProgressStyleModel",
            "description_width": "",
            "_view_module": "@jupyter-widgets/base",
            "_model_module_version": "1.5.0",
            "_view_count": null,
            "_view_module_version": "1.2.0",
            "bar_color": null,
            "_model_module": "@jupyter-widgets/controls"
          }
        },
        "74aafeb6d74f46dda51bf8b79dc1de0b": {
          "model_module": "@jupyter-widgets/base",
          "model_name": "LayoutModel",
          "model_module_version": "1.2.0",
          "state": {
            "_view_name": "LayoutView",
            "grid_template_rows": null,
            "right": null,
            "justify_content": null,
            "_view_module": "@jupyter-widgets/base",
            "overflow": null,
            "_model_module_version": "1.2.0",
            "_view_count": null,
            "flex_flow": null,
            "width": null,
            "min_width": null,
            "border": null,
            "align_items": null,
            "bottom": null,
            "_model_module": "@jupyter-widgets/base",
            "top": null,
            "grid_column": null,
            "overflow_y": null,
            "overflow_x": null,
            "grid_auto_flow": null,
            "grid_area": null,
            "grid_template_columns": null,
            "flex": null,
            "_model_name": "LayoutModel",
            "justify_items": null,
            "grid_row": null,
            "max_height": null,
            "align_content": null,
            "visibility": null,
            "align_self": null,
            "height": null,
            "min_height": null,
            "padding": null,
            "grid_auto_rows": null,
            "grid_gap": null,
            "max_width": null,
            "order": null,
            "_view_module_version": "1.2.0",
            "grid_template_areas": null,
            "object_position": null,
            "object_fit": null,
            "grid_auto_columns": null,
            "margin": null,
            "display": null,
            "left": null
          }
        }
      }
    }
  },
  "cells": [
    {
      "cell_type": "markdown",
      "metadata": {
        "id": "view-in-github",
        "colab_type": "text"
      },
      "source": [
        "<a href=\"https://colab.research.google.com/github/PrinceWallyy/CV_DeepLearning/blob/master/ACML_Assignment_2_Exercise_2.ipynb\" target=\"_parent\"><img src=\"https://colab.research.google.com/assets/colab-badge.svg\" alt=\"Open In Colab\"/></a>"
      ]
    },
    {
      "cell_type": "markdown",
      "metadata": {
        "id": "b18b2Zf1J_9_"
      },
      "source": [
        "# Weights & Biases"
      ]
    },
    {
      "cell_type": "code",
      "metadata": {
        "id": "urEejbRfJVBm"
      },
      "source": [
        "!pip install wandb -q"
      ],
      "execution_count": null,
      "outputs": []
    },
    {
      "cell_type": "code",
      "metadata": {
        "colab": {
          "base_uri": "https://localhost:8080/"
        },
        "id": "o9g6coDaJau2",
        "outputId": "e2cc223f-ec9c-4185-ae1e-f80fe86f31f2"
      },
      "source": [
        "import wandb\n",
        "from wandb.keras import WandbCallback\n",
        "\n",
        "wandb.login()"
      ],
      "execution_count": null,
      "outputs": [
        {
          "output_type": "stream",
          "name": "stderr",
          "text": [
            "\u001b[34m\u001b[1mwandb\u001b[0m: Currently logged in as: \u001b[33mprincewallyy\u001b[0m (use `wandb login --relogin` to force relogin)\n"
          ]
        },
        {
          "output_type": "execute_result",
          "data": {
            "text/plain": [
              "True"
            ]
          },
          "metadata": {},
          "execution_count": 2
        }
      ]
    },
    {
      "cell_type": "markdown",
      "metadata": {
        "id": "moXyCnn5Q0G8"
      },
      "source": [
        "# Preprocess"
      ]
    },
    {
      "cell_type": "code",
      "metadata": {
        "id": "419dEF9YJ1YW"
      },
      "source": [
        "import numpy as np\n",
        "import matplotlib.pyplot as plt\n",
        "from sklearn.model_selection import train_test_split\n",
        "import tensorflow as tf\n",
        "from tensorflow.keras import datasets, layers, models\n",
        "from keras.datasets import cifar10\n",
        "from keras.utils import np_utils\n",
        "\n",
        "np.random.seed(42)\n",
        "tf.random.set_seed(42)"
      ],
      "execution_count": null,
      "outputs": []
    },
    {
      "cell_type": "code",
      "metadata": {
        "id": "GH7cMjBFNJS9"
      },
      "source": [
        "(x_train, _), (x_test, _) = cifar10.load_data()\n",
        "data = np.vstack((x_train, x_test))\n",
        "data = data / 255\n",
        "(x_train, x_val, x_test) = np.vsplit(data, np.array([48000, 54000]))\n",
        "assert x_train.shape == (48000, 32, 32, 3)\n",
        "assert x_val.shape == (6000, 32, 32, 3)\n",
        "assert x_test.shape == (6000, 32, 32, 3)\n",
        "\n",
        "x_train = x_train.astype('float32')\n",
        "x_val = x_val.astype('float32')\n",
        "x_test = x_test.astype('float32')"
      ],
      "execution_count": null,
      "outputs": []
    },
    {
      "cell_type": "markdown",
      "metadata": {
        "id": "q2Ty9BmxLLxW"
      },
      "source": [
        "# Sweep"
      ]
    },
    {
      "cell_type": "code",
      "metadata": {
        "colab": {
          "base_uri": "https://localhost:8080/"
        },
        "id": "j3SL2cOkLUvx",
        "outputId": "56693be7-6ad1-4751-f4b5-0c4d907ce557"
      },
      "source": [
        "sweep_config = {\n",
        "  \"name\" : \"CAE_Random_Optimization\",\n",
        "  \"method\" : \"random\",\n",
        "  \"metric\":{\n",
        "    \"name\": \"val_loss\",\n",
        "    \"goal\": \"minimize\"\n",
        "  },\n",
        "  \"parameters\" : {\n",
        "    \"kernel\" :{\n",
        "      \"values\" :[1, 3, 5, 7]\n",
        "    },\n",
        "    \"stride\" :{\n",
        "      \"values\" :[1]\n",
        "    },\n",
        "    \"padding\" :{\n",
        "      \"values\" :['same']\n",
        "    },\n",
        "    \"layer_1_filter\" :{\n",
        "      \"values\" :[8, 12, 16, 32]\n",
        "    },\n",
        "    \"layer_2_filter\" :{\n",
        "      \"values\" :[12, 16, 32, 64]\n",
        "    },\n",
        "    \"layer_3_filter\" :{\n",
        "      \"values\" :[16, 32, 64, 128]\n",
        "    },\n",
        "    \"layer_4_filter\" :{\n",
        "      \"values\" :[12, 16, 32, 64]\n",
        "    }\n",
        "  }\n",
        "}\n",
        "\n",
        "sweep_id = wandb.sweep(sweep_config, project=\"Assignment 2\")"
      ],
      "execution_count": null,
      "outputs": [
        {
          "output_type": "stream",
          "name": "stdout",
          "text": [
            "Create sweep with ID: h4ud3tou\n",
            "Sweep URL: https://wandb.ai/princewallyy/Assignment%202/sweeps/h4ud3tou\n"
          ]
        }
      ]
    },
    {
      "cell_type": "markdown",
      "metadata": {
        "id": "ewChAJwEa8qt"
      },
      "source": [
        "# Convolutional AutoEncoder"
      ]
    },
    {
      "cell_type": "code",
      "metadata": {
        "id": "OQpukAsMbAb0"
      },
      "source": [
        "input_shape = (32, 32, 3)"
      ],
      "execution_count": null,
      "outputs": []
    },
    {
      "cell_type": "code",
      "metadata": {
        "id": "g-G7SxZvbSUK"
      },
      "source": [
        "def createModel(config):\n",
        "  model = models.Sequential()\n",
        "  model.add(layers.Conv2D(filters=config.layer_1_filter, kernel_size=(config.kernel, config.kernel), strides=config.stride,\n",
        "                          padding=config.padding, activation='relu', input_shape=input_shape))\n",
        "  model.add(layers.MaxPooling2D(pool_size=(2, 2)))\n",
        "\n",
        "  model.add(layers.Conv2D(filters=config.layer_2_filter, kernel_size=(config.kernel, config.kernel), strides=config.stride,\n",
        "                          padding=config.padding, activation='relu'))\n",
        "  model.add(layers.MaxPooling2D(pool_size=(2, 2)))\n",
        "\n",
        "  model.add(layers.Conv2D(filters=config.layer_3_filter, kernel_size=(config.kernel, config.kernel), strides=config.stride,\n",
        "                          padding=config.padding, activation='relu'))\n",
        "  model.add(layers.UpSampling2D(size=(2, 2)))\n",
        "\n",
        "  model.add(layers.Conv2D(filters=config.layer_4_filter, kernel_size=(config.kernel, config.kernel), strides=config.stride,\n",
        "                          padding=config.padding, activation='relu'))\n",
        "  model.add(layers.UpSampling2D(size=(2, 2)))\n",
        "\n",
        "  model.add(layers.Conv2D(3, (3, 3), padding='same', activation='sigmoid'))\n",
        "\n",
        "  return model"
      ],
      "execution_count": null,
      "outputs": []
    },
    {
      "cell_type": "markdown",
      "metadata": {
        "id": "TGc4oKgwQgtu"
      },
      "source": [
        "# Training"
      ]
    },
    {
      "cell_type": "code",
      "metadata": {
        "id": "uNDyUK25gixQ"
      },
      "source": [
        "def train():\n",
        "  with wandb.init() as run:\n",
        "    config = wandb.config\n",
        "    model = createModel(config)\n",
        "\n",
        "    model.compile(optimizer='adam', loss='mean_squared_error', metrics=['accuracy'])\n",
        "\n",
        "    model.fit(x_train, x_train, epochs=10, validation_data=(x_val, x_val), callbacks=[WandbCallback()])\n",
        "\n",
        "    loss, accuracy = model.evaluate(x_test, x_test)\n",
        "    wandb.log({'Test Error Rate': round((1 - accuracy) * 100, 2)})"
      ],
      "execution_count": null,
      "outputs": []
    },
    {
      "cell_type": "code",
      "metadata": {
        "id": "0_8gEIFolAPZ",
        "colab": {
          "base_uri": "https://localhost:8080/",
          "referenced_widgets": [
            "02d65108efaa4a81a21f7b54c6bf7206",
            "06bb690d6a1f4c0f81489070803ce87b",
            "ef0f507d9f4d43c5b5e94686e72f9183",
            "6458b6c4a19542dc9d58d6359a1ef867",
            "54626fef89814dfc99b83e0ab923f203",
            "076a6d6eeb844bcd97f1ce86032e8834",
            "095efb19d499475babbe4e426e2109ea",
            "a87bb25bdd97417fab7c1ec56be0ce19",
            "bc3de7e471774145a8208199ee34e20f",
            "8332a03d0c064f538bca2fb25684233f",
            "78f04d4627c84ae7abe8be61dbef09b3",
            "ccb49110ae804f5eb19c2252420412f1",
            "dcac3b37a54e4177a63eed62e553060b",
            "da0d15af1a3e468aab49b8a51bb5c733",
            "f121803ebd7d4b9b94bd857c3761c2e9",
            "3fe6379dbfff4e82b7e806e93283d0d0",
            "be0c86b254be4064bf760e9eebfb7931",
            "3d30eb97a7f245db9972e4c83ee008ef",
            "3a545c423eb242168bccee8c0ac5a8d5",
            "db6789cda99246998f0b55b4e64206ee",
            "252d336962e14729801358678cdd47d1",
            "6194a6ae1b66488397e9bc6f67d4f180",
            "3011ef102a0740f2baa83d95856ac953",
            "8119c318c60e45769eb12ef2b2a545a1",
            "f3bf9f396c344be08298917f251a7d66",
            "9a5458ea787b47b88cf56d61e569ea05",
            "ecb6659a095a4cd8bb777af4f20bf261",
            "80b5a006dfc84a939dea07f7d17ab6ec",
            "a9b03c0e9de34ae1858ca37d277f1cfb",
            "1b65946a870c43399aae8afa73c4ab84",
            "dbf15d4558b145a19c380d69af631a48",
            "085935b1e87d4fc2b9166ae06df64aa8",
            "03edd61bce3b4c4f9a344bda3826f9d4",
            "6a3f502bb2e04947b211c25e46f7868a",
            "c3b2f48832b2436391c8d56586ece33e",
            "0eb863f7d59245f184df07768bb92575",
            "bdb061252b134e12bcad2b49a5f59d41",
            "459546035f3841008d2fa6eef4e3c926",
            "2110b92ed6344fdfbb77fa60a79683ba",
            "0458e4637d2f46c79dc1ce5984ed1040",
            "648e6f849bd4422083955aa7d595e0b2",
            "e3ce905123ab4aa5ab8b1c2d2059b9aa",
            "5bcd25d4838341489f6ec534f1a15b44",
            "857fa6c17e2f4a05961b925c2d57a756",
            "a352b22b7216438fba52f38ab9b44bda",
            "91647da59eb548259635985c78b4cd82",
            "a500f0c898ff4a938dcbe919fcba0836",
            "a0be126d6ebc4505babd967d505337d5",
            "91bc06794b414708b0c6a932b772c450",
            "a3d66da973b2419d8a3aaab30a9033fd",
            "709af779d344463386ff507b0c059235",
            "00c1924e16024db68b0c26c8ea2bfde6",
            "1c6323bd3cde4b4785f6a8ac542ec229",
            "c7a67373879842a7927fbe937feefb15",
            "db4cc6b27ec241e79256438b0190987f",
            "09123f0c32f9429d86461f7a56a3ffb8",
            "45bec8a60fa5497f9c2f6fc8a962dab5",
            "cd5667f72b154026b5f4522b4b28d497",
            "d728d657a68d4975a7c0f4713a203429",
            "268c2d50ecd84afebbe8e55bf76dd802",
            "e8c9d798c2fe4ad58729c831a829a688",
            "e49f98e8bde946d28b313e2fd5996172",
            "6f8d96b532d14bcebc13e496cdd11f9f",
            "74aafeb6d74f46dda51bf8b79dc1de0b"
          ]
        },
        "outputId": "da0eb3f3-02de-4d65-fd4e-fe25b92a7e4f"
      },
      "source": [
        "wandb.agent(sweep_id, function=train, count=10, project=\"Assignment 2\")"
      ],
      "execution_count": null,
      "outputs": [
        {
          "output_type": "stream",
          "name": "stderr",
          "text": [
            "\u001b[34m\u001b[1mwandb\u001b[0m: Agent Starting Run: 8lkxoshf with config:\n",
            "\u001b[34m\u001b[1mwandb\u001b[0m: \tkernel: 7\n",
            "\u001b[34m\u001b[1mwandb\u001b[0m: \tlayer_1_filter: 16\n",
            "\u001b[34m\u001b[1mwandb\u001b[0m: \tlayer_2_filter: 16\n",
            "\u001b[34m\u001b[1mwandb\u001b[0m: \tlayer_3_filter: 16\n",
            "\u001b[34m\u001b[1mwandb\u001b[0m: \tlayer_4_filter: 12\n",
            "\u001b[34m\u001b[1mwandb\u001b[0m: \tpadding: same\n",
            "\u001b[34m\u001b[1mwandb\u001b[0m: \tstride: 1\n"
          ]
        },
        {
          "output_type": "display_data",
          "data": {
            "text/html": [
              "\n",
              "                    Syncing run <strong><a href=\"https://wandb.ai/princewallyy/Assignment%202/runs/8lkxoshf\" target=\"_blank\">ancient-sweep-1</a></strong> to <a href=\"https://wandb.ai/princewallyy/Assignment%202\" target=\"_blank\">Weights & Biases</a> (<a href=\"https://docs.wandb.com/integrations/jupyter.html\" target=\"_blank\">docs</a>).<br/>\n",
              "Sweep page: <a href=\"https://wandb.ai/princewallyy/Assignment%202/sweeps/h4ud3tou\" target=\"_blank\">https://wandb.ai/princewallyy/Assignment%202/sweeps/h4ud3tou</a><br/>\n",
              "\n",
              "                "
            ],
            "text/plain": [
              "<IPython.core.display.HTML object>"
            ]
          },
          "metadata": {}
        },
        {
          "output_type": "stream",
          "name": "stdout",
          "text": [
            "Epoch 1/10\n",
            "   5/1500 [..............................] - ETA: 20s - loss: 0.0608 - accuracy: 0.4282     WARNING:tensorflow:Callback method `on_train_batch_end` is slow compared to the batch time (batch time: 0.0062s vs `on_train_batch_end` time: 0.0062s). Check your callbacks.\n",
            "1500/1500 [==============================] - 43s 9ms/step - loss: 0.0110 - accuracy: 0.6720 - val_loss: 0.0066 - val_accuracy: 0.7478\n",
            "Epoch 2/10\n",
            "1500/1500 [==============================] - 13s 9ms/step - loss: 0.0061 - accuracy: 0.7524 - val_loss: 0.0055 - val_accuracy: 0.7423\n",
            "Epoch 3/10\n",
            "1500/1500 [==============================] - 13s 9ms/step - loss: 0.0053 - accuracy: 0.7681 - val_loss: 0.0049 - val_accuracy: 0.7657\n",
            "Epoch 4/10\n",
            "1500/1500 [==============================] - 13s 9ms/step - loss: 0.0048 - accuracy: 0.7764 - val_loss: 0.0047 - val_accuracy: 0.7843\n",
            "Epoch 5/10\n",
            "1500/1500 [==============================] - 13s 9ms/step - loss: 0.0045 - accuracy: 0.7812 - val_loss: 0.0044 - val_accuracy: 0.8039\n",
            "Epoch 6/10\n",
            "1500/1500 [==============================] - 13s 9ms/step - loss: 0.0043 - accuracy: 0.7868 - val_loss: 0.0040 - val_accuracy: 0.7864\n",
            "Epoch 7/10\n",
            "1500/1500 [==============================] - 13s 9ms/step - loss: 0.0041 - accuracy: 0.7894 - val_loss: 0.0039 - val_accuracy: 0.7961\n",
            "Epoch 8/10\n",
            "1500/1500 [==============================] - 13s 9ms/step - loss: 0.0040 - accuracy: 0.7909 - val_loss: 0.0038 - val_accuracy: 0.7982\n",
            "Epoch 9/10\n",
            "1500/1500 [==============================] - 13s 9ms/step - loss: 0.0038 - accuracy: 0.7942 - val_loss: 0.0038 - val_accuracy: 0.7975\n",
            "Epoch 10/10\n",
            "1500/1500 [==============================] - 13s 9ms/step - loss: 0.0037 - accuracy: 0.7953 - val_loss: 0.0035 - val_accuracy: 0.7963\n",
            "188/188 [==============================] - 1s 6ms/step - loss: 0.0035 - accuracy: 0.7953\n"
          ]
        },
        {
          "output_type": "display_data",
          "data": {
            "text/html": [
              "<br/>Waiting for W&B process to finish, PID 673... <strong style=\"color:green\">(success).</strong>"
            ],
            "text/plain": [
              "<IPython.core.display.HTML object>"
            ]
          },
          "metadata": {}
        },
        {
          "output_type": "display_data",
          "data": {
            "application/vnd.jupyter.widget-view+json": {
              "model_id": "02d65108efaa4a81a21f7b54c6bf7206",
              "version_minor": 0,
              "version_major": 2
            },
            "text/plain": [
              "VBox(children=(Label(value=' 0.48MB of 0.48MB uploaded (0.00MB deduped)\\r'), FloatProgress(value=1.0, max=1.0)…"
            ]
          },
          "metadata": {}
        },
        {
          "output_type": "display_data",
          "data": {
            "text/html": [
              "<style>\n",
              "    table.wandb td:nth-child(1) { padding: 0 10px; text-align: right }\n",
              "    .wandb-row { display: flex; flex-direction: row; flex-wrap: wrap; width: 100% }\n",
              "    .wandb-col { display: flex; flex-direction: column; flex-basis: 100%; flex: 1; padding: 10px; }\n",
              "    </style>\n",
              "<div class=\"wandb-row\"><div class=\"wandb-col\">\n",
              "<h3>Run history:</h3><br/><table class=\"wandb\"><tr><td>Test Error Rate</td><td>▁</td></tr><tr><td>accuracy</td><td>▁▆▆▇▇█████</td></tr><tr><td>epoch</td><td>▁▂▃▃▄▅▆▆▇█</td></tr><tr><td>loss</td><td>█▃▃▂▂▂▁▁▁▁</td></tr><tr><td>val_accuracy</td><td>▂▁▄▆█▆▇▇▇▇</td></tr><tr><td>val_loss</td><td>█▆▄▄▃▂▂▂▂▁</td></tr></table><br/></div><div class=\"wandb-col\">\n",
              "<h3>Run summary:</h3><br/><table class=\"wandb\"><tr><td>Test Error Rate</td><td>20.47</td></tr><tr><td>accuracy</td><td>0.79529</td></tr><tr><td>best_epoch</td><td>9</td></tr><tr><td>best_val_loss</td><td>0.00352</td></tr><tr><td>epoch</td><td>9</td></tr><tr><td>loss</td><td>0.00368</td></tr><tr><td>val_accuracy</td><td>0.79626</td></tr><tr><td>val_loss</td><td>0.00352</td></tr></table>\n",
              "</div></div>\n",
              "Synced 5 W&B file(s), 1 media file(s), 0 artifact file(s) and 1 other file(s)\n",
              "<br/>Synced <strong style=\"color:#cdcd00\">ancient-sweep-1</strong>: <a href=\"https://wandb.ai/princewallyy/Assignment%202/runs/8lkxoshf\" target=\"_blank\">https://wandb.ai/princewallyy/Assignment%202/runs/8lkxoshf</a><br/>\n",
              "Find logs at: <code>./wandb/run-20211108_110749-8lkxoshf/logs</code><br/>\n"
            ],
            "text/plain": [
              "<IPython.core.display.HTML object>"
            ]
          },
          "metadata": {}
        },
        {
          "output_type": "stream",
          "name": "stderr",
          "text": [
            "\u001b[34m\u001b[1mwandb\u001b[0m: Agent Starting Run: x46rwalj with config:\n",
            "\u001b[34m\u001b[1mwandb\u001b[0m: \tkernel: 5\n",
            "\u001b[34m\u001b[1mwandb\u001b[0m: \tlayer_1_filter: 32\n",
            "\u001b[34m\u001b[1mwandb\u001b[0m: \tlayer_2_filter: 64\n",
            "\u001b[34m\u001b[1mwandb\u001b[0m: \tlayer_3_filter: 16\n",
            "\u001b[34m\u001b[1mwandb\u001b[0m: \tlayer_4_filter: 32\n",
            "\u001b[34m\u001b[1mwandb\u001b[0m: \tpadding: same\n",
            "\u001b[34m\u001b[1mwandb\u001b[0m: \tstride: 1\n"
          ]
        },
        {
          "output_type": "display_data",
          "data": {
            "text/html": [
              "\n",
              "                    Syncing run <strong><a href=\"https://wandb.ai/princewallyy/Assignment%202/runs/x46rwalj\" target=\"_blank\">hardy-sweep-2</a></strong> to <a href=\"https://wandb.ai/princewallyy/Assignment%202\" target=\"_blank\">Weights & Biases</a> (<a href=\"https://docs.wandb.com/integrations/jupyter.html\" target=\"_blank\">docs</a>).<br/>\n",
              "Sweep page: <a href=\"https://wandb.ai/princewallyy/Assignment%202/sweeps/h4ud3tou\" target=\"_blank\">https://wandb.ai/princewallyy/Assignment%202/sweeps/h4ud3tou</a><br/>\n",
              "\n",
              "                "
            ],
            "text/plain": [
              "<IPython.core.display.HTML object>"
            ]
          },
          "metadata": {}
        },
        {
          "output_type": "stream",
          "name": "stdout",
          "text": [
            "Epoch 1/10\n",
            "   4/1500 [..............................] - ETA: 28s - loss: 0.0602 - accuracy: 0.4190  WARNING:tensorflow:Callback method `on_train_batch_end` is slow compared to the batch time (batch time: 0.0066s vs `on_train_batch_end` time: 0.0102s). Check your callbacks.\n",
            "1500/1500 [==============================] - 18s 12ms/step - loss: 0.0078 - accuracy: 0.7299 - val_loss: 0.0045 - val_accuracy: 0.7781\n",
            "Epoch 2/10\n",
            "1500/1500 [==============================] - 17s 11ms/step - loss: 0.0041 - accuracy: 0.7874 - val_loss: 0.0037 - val_accuracy: 0.7791\n",
            "Epoch 3/10\n",
            "1500/1500 [==============================] - 17s 11ms/step - loss: 0.0037 - accuracy: 0.7990 - val_loss: 0.0034 - val_accuracy: 0.8041\n",
            "Epoch 4/10\n",
            "1500/1500 [==============================] - 17s 11ms/step - loss: 0.0034 - accuracy: 0.8038 - val_loss: 0.0032 - val_accuracy: 0.8073\n",
            "Epoch 5/10\n",
            "1500/1500 [==============================] - 17s 11ms/step - loss: 0.0031 - accuracy: 0.8068 - val_loss: 0.0029 - val_accuracy: 0.7890\n",
            "Epoch 6/10\n",
            "1500/1500 [==============================] - 17s 11ms/step - loss: 0.0029 - accuracy: 0.8085 - val_loss: 0.0027 - val_accuracy: 0.8064\n",
            "Epoch 7/10\n",
            "1500/1500 [==============================] - 17s 11ms/step - loss: 0.0027 - accuracy: 0.8101 - val_loss: 0.0026 - val_accuracy: 0.8148\n",
            "Epoch 8/10\n",
            "1500/1500 [==============================] - 17s 11ms/step - loss: 0.0026 - accuracy: 0.8121 - val_loss: 0.0025 - val_accuracy: 0.8223\n",
            "Epoch 9/10\n",
            "1500/1500 [==============================] - 17s 12ms/step - loss: 0.0025 - accuracy: 0.8125 - val_loss: 0.0027 - val_accuracy: 0.8069\n",
            "Epoch 10/10\n",
            "1500/1500 [==============================] - 17s 12ms/step - loss: 0.0023 - accuracy: 0.8147 - val_loss: 0.0022 - val_accuracy: 0.8070\n",
            "188/188 [==============================] - 1s 6ms/step - loss: 0.0022 - accuracy: 0.8059\n"
          ]
        },
        {
          "output_type": "display_data",
          "data": {
            "text/html": [
              "<br/>Waiting for W&B process to finish, PID 790... <strong style=\"color:green\">(success).</strong>"
            ],
            "text/plain": [
              "<IPython.core.display.HTML object>"
            ]
          },
          "metadata": {}
        },
        {
          "output_type": "display_data",
          "data": {
            "application/vnd.jupyter.widget-view+json": {
              "model_id": "bc3de7e471774145a8208199ee34e20f",
              "version_minor": 0,
              "version_major": 2
            },
            "text/plain": [
              "VBox(children=(Label(value=' 1.12MB of 1.12MB uploaded (0.00MB deduped)\\r'), FloatProgress(value=1.0, max=1.0)…"
            ]
          },
          "metadata": {}
        },
        {
          "output_type": "display_data",
          "data": {
            "text/html": [
              "<style>\n",
              "    table.wandb td:nth-child(1) { padding: 0 10px; text-align: right }\n",
              "    .wandb-row { display: flex; flex-direction: row; flex-wrap: wrap; width: 100% }\n",
              "    .wandb-col { display: flex; flex-direction: column; flex-basis: 100%; flex: 1; padding: 10px; }\n",
              "    </style>\n",
              "<div class=\"wandb-row\"><div class=\"wandb-col\">\n",
              "<h3>Run history:</h3><br/><table class=\"wandb\"><tr><td>Test Error Rate</td><td>▁</td></tr><tr><td>accuracy</td><td>▁▆▇▇▇▇████</td></tr><tr><td>epoch</td><td>▁▂▃▃▄▅▆▆▇█</td></tr><tr><td>loss</td><td>█▃▃▂▂▂▂▁▁▁</td></tr><tr><td>val_accuracy</td><td>▁▁▅▆▃▅▇█▆▆</td></tr><tr><td>val_loss</td><td>█▆▅▄▃▃▂▂▃▁</td></tr></table><br/></div><div class=\"wandb-col\">\n",
              "<h3>Run summary:</h3><br/><table class=\"wandb\"><tr><td>Test Error Rate</td><td>19.41</td></tr><tr><td>accuracy</td><td>0.81474</td></tr><tr><td>best_epoch</td><td>9</td></tr><tr><td>best_val_loss</td><td>0.0022</td></tr><tr><td>epoch</td><td>9</td></tr><tr><td>loss</td><td>0.00234</td></tr><tr><td>val_accuracy</td><td>0.80696</td></tr><tr><td>val_loss</td><td>0.0022</td></tr></table>\n",
              "</div></div>\n",
              "Synced 5 W&B file(s), 1 media file(s), 0 artifact file(s) and 1 other file(s)\n",
              "<br/>Synced <strong style=\"color:#cdcd00\">hardy-sweep-2</strong>: <a href=\"https://wandb.ai/princewallyy/Assignment%202/runs/x46rwalj\" target=\"_blank\">https://wandb.ai/princewallyy/Assignment%202/runs/x46rwalj</a><br/>\n",
              "Find logs at: <code>./wandb/run-20211108_111131-x46rwalj/logs</code><br/>\n"
            ],
            "text/plain": [
              "<IPython.core.display.HTML object>"
            ]
          },
          "metadata": {}
        },
        {
          "output_type": "stream",
          "name": "stderr",
          "text": [
            "\u001b[34m\u001b[1mwandb\u001b[0m: Agent Starting Run: m7n33f3z with config:\n",
            "\u001b[34m\u001b[1mwandb\u001b[0m: \tkernel: 7\n",
            "\u001b[34m\u001b[1mwandb\u001b[0m: \tlayer_1_filter: 8\n",
            "\u001b[34m\u001b[1mwandb\u001b[0m: \tlayer_2_filter: 32\n",
            "\u001b[34m\u001b[1mwandb\u001b[0m: \tlayer_3_filter: 16\n",
            "\u001b[34m\u001b[1mwandb\u001b[0m: \tlayer_4_filter: 32\n",
            "\u001b[34m\u001b[1mwandb\u001b[0m: \tpadding: same\n",
            "\u001b[34m\u001b[1mwandb\u001b[0m: \tstride: 1\n"
          ]
        },
        {
          "output_type": "display_data",
          "data": {
            "text/html": [
              "\n",
              "                    Syncing run <strong><a href=\"https://wandb.ai/princewallyy/Assignment%202/runs/m7n33f3z\" target=\"_blank\">true-sweep-3</a></strong> to <a href=\"https://wandb.ai/princewallyy/Assignment%202\" target=\"_blank\">Weights & Biases</a> (<a href=\"https://docs.wandb.com/integrations/jupyter.html\" target=\"_blank\">docs</a>).<br/>\n",
              "Sweep page: <a href=\"https://wandb.ai/princewallyy/Assignment%202/sweeps/h4ud3tou\" target=\"_blank\">https://wandb.ai/princewallyy/Assignment%202/sweeps/h4ud3tou</a><br/>\n",
              "\n",
              "                "
            ],
            "text/plain": [
              "<IPython.core.display.HTML object>"
            ]
          },
          "metadata": {}
        },
        {
          "output_type": "stream",
          "name": "stdout",
          "text": [
            "Epoch 1/10\n",
            "1500/1500 [==============================] - 18s 11ms/step - loss: 0.0100 - accuracy: 0.7024 - val_loss: 0.0064 - val_accuracy: 0.7598\n",
            "Epoch 2/10\n",
            "1500/1500 [==============================] - 15s 10ms/step - loss: 0.0057 - accuracy: 0.7596 - val_loss: 0.0052 - val_accuracy: 0.7827\n",
            "Epoch 3/10\n",
            "1500/1500 [==============================] - 15s 10ms/step - loss: 0.0049 - accuracy: 0.7723 - val_loss: 0.0045 - val_accuracy: 0.7892\n",
            "Epoch 4/10\n",
            "1500/1500 [==============================] - 16s 10ms/step - loss: 0.0045 - accuracy: 0.7777 - val_loss: 0.0042 - val_accuracy: 0.7850\n",
            "Epoch 5/10\n",
            "1500/1500 [==============================] - 15s 10ms/step - loss: 0.0042 - accuracy: 0.7820 - val_loss: 0.0039 - val_accuracy: 0.7728\n",
            "Epoch 6/10\n",
            "1500/1500 [==============================] - 15s 10ms/step - loss: 0.0039 - accuracy: 0.7852 - val_loss: 0.0037 - val_accuracy: 0.7461\n",
            "Epoch 7/10\n",
            "1500/1500 [==============================] - 15s 10ms/step - loss: 0.0037 - accuracy: 0.7882 - val_loss: 0.0035 - val_accuracy: 0.8014\n",
            "Epoch 8/10\n",
            "1500/1500 [==============================] - 15s 10ms/step - loss: 0.0036 - accuracy: 0.7901 - val_loss: 0.0033 - val_accuracy: 0.8087\n",
            "Epoch 9/10\n",
            "1500/1500 [==============================] - 15s 10ms/step - loss: 0.0034 - accuracy: 0.7921 - val_loss: 0.0036 - val_accuracy: 0.8083\n",
            "Epoch 10/10\n",
            "1500/1500 [==============================] - 16s 10ms/step - loss: 0.0033 - accuracy: 0.7927 - val_loss: 0.0031 - val_accuracy: 0.8050\n",
            "188/188 [==============================] - 1s 6ms/step - loss: 0.0031 - accuracy: 0.8037\n"
          ]
        },
        {
          "output_type": "display_data",
          "data": {
            "text/html": [
              "<br/>Waiting for W&B process to finish, PID 890... <strong style=\"color:green\">(success).</strong>"
            ],
            "text/plain": [
              "<IPython.core.display.HTML object>"
            ]
          },
          "metadata": {}
        },
        {
          "output_type": "display_data",
          "data": {
            "application/vnd.jupyter.widget-view+json": {
              "model_id": "be0c86b254be4064bf760e9eebfb7931",
              "version_minor": 0,
              "version_major": 2
            },
            "text/plain": [
              "VBox(children=(Label(value=' 0.80MB of 0.80MB uploaded (0.00MB deduped)\\r'), FloatProgress(value=1.0, max=1.0)…"
            ]
          },
          "metadata": {}
        },
        {
          "output_type": "display_data",
          "data": {
            "text/html": [
              "<style>\n",
              "    table.wandb td:nth-child(1) { padding: 0 10px; text-align: right }\n",
              "    .wandb-row { display: flex; flex-direction: row; flex-wrap: wrap; width: 100% }\n",
              "    .wandb-col { display: flex; flex-direction: column; flex-basis: 100%; flex: 1; padding: 10px; }\n",
              "    </style>\n",
              "<div class=\"wandb-row\"><div class=\"wandb-col\">\n",
              "<h3>Run history:</h3><br/><table class=\"wandb\"><tr><td>Test Error Rate</td><td>▁</td></tr><tr><td>accuracy</td><td>▁▅▆▇▇▇████</td></tr><tr><td>epoch</td><td>▁▂▃▃▄▅▆▆▇█</td></tr><tr><td>loss</td><td>█▄▃▂▂▂▁▁▁▁</td></tr><tr><td>val_accuracy</td><td>▃▅▆▅▄▁▇███</td></tr><tr><td>val_loss</td><td>█▆▄▃▃▂▂▂▂▁</td></tr></table><br/></div><div class=\"wandb-col\">\n",
              "<h3>Run summary:</h3><br/><table class=\"wandb\"><tr><td>Test Error Rate</td><td>19.63</td></tr><tr><td>accuracy</td><td>0.79269</td></tr><tr><td>best_epoch</td><td>9</td></tr><tr><td>best_val_loss</td><td>0.00307</td></tr><tr><td>epoch</td><td>9</td></tr><tr><td>loss</td><td>0.00329</td></tr><tr><td>val_accuracy</td><td>0.80501</td></tr><tr><td>val_loss</td><td>0.00307</td></tr></table>\n",
              "</div></div>\n",
              "Synced 5 W&B file(s), 1 media file(s), 0 artifact file(s) and 1 other file(s)\n",
              "<br/>Synced <strong style=\"color:#cdcd00\">true-sweep-3</strong>: <a href=\"https://wandb.ai/princewallyy/Assignment%202/runs/m7n33f3z\" target=\"_blank\">https://wandb.ai/princewallyy/Assignment%202/runs/m7n33f3z</a><br/>\n",
              "Find logs at: <code>./wandb/run-20211108_111435-m7n33f3z/logs</code><br/>\n"
            ],
            "text/plain": [
              "<IPython.core.display.HTML object>"
            ]
          },
          "metadata": {}
        },
        {
          "output_type": "stream",
          "name": "stderr",
          "text": [
            "\u001b[34m\u001b[1mwandb\u001b[0m: Agent Starting Run: alljgmux with config:\n",
            "\u001b[34m\u001b[1mwandb\u001b[0m: \tkernel: 7\n",
            "\u001b[34m\u001b[1mwandb\u001b[0m: \tlayer_1_filter: 32\n",
            "\u001b[34m\u001b[1mwandb\u001b[0m: \tlayer_2_filter: 32\n",
            "\u001b[34m\u001b[1mwandb\u001b[0m: \tlayer_3_filter: 128\n",
            "\u001b[34m\u001b[1mwandb\u001b[0m: \tlayer_4_filter: 12\n",
            "\u001b[34m\u001b[1mwandb\u001b[0m: \tpadding: same\n",
            "\u001b[34m\u001b[1mwandb\u001b[0m: \tstride: 1\n"
          ]
        },
        {
          "output_type": "display_data",
          "data": {
            "text/html": [
              "\n",
              "                    Syncing run <strong><a href=\"https://wandb.ai/princewallyy/Assignment%202/runs/alljgmux\" target=\"_blank\">daily-sweep-4</a></strong> to <a href=\"https://wandb.ai/princewallyy/Assignment%202\" target=\"_blank\">Weights & Biases</a> (<a href=\"https://docs.wandb.com/integrations/jupyter.html\" target=\"_blank\">docs</a>).<br/>\n",
              "Sweep page: <a href=\"https://wandb.ai/princewallyy/Assignment%202/sweeps/h4ud3tou\" target=\"_blank\">https://wandb.ai/princewallyy/Assignment%202/sweeps/h4ud3tou</a><br/>\n",
              "\n",
              "                "
            ],
            "text/plain": [
              "<IPython.core.display.HTML object>"
            ]
          },
          "metadata": {}
        },
        {
          "output_type": "stream",
          "name": "stdout",
          "text": [
            "Epoch 1/10\n",
            "   4/1500 [..............................] - ETA: 28s - loss: 0.0609 - accuracy: 0.2868  WARNING:tensorflow:Callback method `on_train_batch_end` is slow compared to the batch time (batch time: 0.0058s vs `on_train_batch_end` time: 0.0099s). Check your callbacks.\n",
            "1500/1500 [==============================] - 21s 13ms/step - loss: 0.0094 - accuracy: 0.7045 - val_loss: 0.0048 - val_accuracy: 0.7666\n",
            "Epoch 2/10\n",
            "1500/1500 [==============================] - 20s 13ms/step - loss: 0.0046 - accuracy: 0.7731 - val_loss: 0.0053 - val_accuracy: 0.7568\n",
            "Epoch 3/10\n",
            "1500/1500 [==============================] - 20s 13ms/step - loss: 0.0039 - accuracy: 0.7837 - val_loss: 0.0036 - val_accuracy: 0.7924\n",
            "Epoch 4/10\n",
            "1500/1500 [==============================] - 20s 13ms/step - loss: 0.0036 - accuracy: 0.7888 - val_loss: 0.0032 - val_accuracy: 0.8103\n",
            "Epoch 5/10\n",
            "1500/1500 [==============================] - 20s 13ms/step - loss: 0.0032 - accuracy: 0.7953 - val_loss: 0.0040 - val_accuracy: 0.7987\n",
            "Epoch 6/10\n",
            "1500/1500 [==============================] - 20s 13ms/step - loss: 0.0030 - accuracy: 0.7997 - val_loss: 0.0029 - val_accuracy: 0.7920\n",
            "Epoch 7/10\n",
            "1500/1500 [==============================] - 20s 13ms/step - loss: 0.0028 - accuracy: 0.8030 - val_loss: 0.0028 - val_accuracy: 0.7651\n",
            "Epoch 8/10\n",
            "1500/1500 [==============================] - 20s 13ms/step - loss: 0.0026 - accuracy: 0.8037 - val_loss: 0.0023 - val_accuracy: 0.8189\n",
            "Epoch 9/10\n",
            "1500/1500 [==============================] - 19s 13ms/step - loss: 0.0025 - accuracy: 0.8065 - val_loss: 0.0024 - val_accuracy: 0.7798\n",
            "Epoch 10/10\n",
            "1500/1500 [==============================] - 19s 13ms/step - loss: 0.0024 - accuracy: 0.8079 - val_loss: 0.0023 - val_accuracy: 0.8205\n",
            "188/188 [==============================] - 1s 8ms/step - loss: 0.0023 - accuracy: 0.8199\n"
          ]
        },
        {
          "output_type": "display_data",
          "data": {
            "text/html": [
              "<br/>Waiting for W&B process to finish, PID 992... <strong style=\"color:green\">(success).</strong>"
            ],
            "text/plain": [
              "<IPython.core.display.HTML object>"
            ]
          },
          "metadata": {}
        },
        {
          "output_type": "display_data",
          "data": {
            "application/vnd.jupyter.widget-view+json": {
              "model_id": "f3bf9f396c344be08298917f251a7d66",
              "version_minor": 0,
              "version_major": 2
            },
            "text/plain": [
              "VBox(children=(Label(value=' 3.85MB of 3.85MB uploaded (0.00MB deduped)\\r'), FloatProgress(value=1.0, max=1.0)…"
            ]
          },
          "metadata": {}
        },
        {
          "output_type": "display_data",
          "data": {
            "text/html": [
              "<style>\n",
              "    table.wandb td:nth-child(1) { padding: 0 10px; text-align: right }\n",
              "    .wandb-row { display: flex; flex-direction: row; flex-wrap: wrap; width: 100% }\n",
              "    .wandb-col { display: flex; flex-direction: column; flex-basis: 100%; flex: 1; padding: 10px; }\n",
              "    </style>\n",
              "<div class=\"wandb-row\"><div class=\"wandb-col\">\n",
              "<h3>Run history:</h3><br/><table class=\"wandb\"><tr><td>Test Error Rate</td><td>▁</td></tr><tr><td>accuracy</td><td>▁▆▆▇▇▇████</td></tr><tr><td>epoch</td><td>▁▂▃▃▄▅▆▆▇█</td></tr><tr><td>loss</td><td>█▃▃▂▂▂▁▁▁▁</td></tr><tr><td>val_accuracy</td><td>▂▁▅▇▆▅▂█▄█</td></tr><tr><td>val_loss</td><td>▇█▄▃▅▂▂▁▁▁</td></tr></table><br/></div><div class=\"wandb-col\">\n",
              "<h3>Run summary:</h3><br/><table class=\"wandb\"><tr><td>Test Error Rate</td><td>18.01</td></tr><tr><td>accuracy</td><td>0.80794</td></tr><tr><td>best_epoch</td><td>9</td></tr><tr><td>best_val_loss</td><td>0.0023</td></tr><tr><td>epoch</td><td>9</td></tr><tr><td>loss</td><td>0.00235</td></tr><tr><td>val_accuracy</td><td>0.82049</td></tr><tr><td>val_loss</td><td>0.0023</td></tr></table>\n",
              "</div></div>\n",
              "Synced 5 W&B file(s), 1 media file(s), 0 artifact file(s) and 1 other file(s)\n",
              "<br/>Synced <strong style=\"color:#cdcd00\">daily-sweep-4</strong>: <a href=\"https://wandb.ai/princewallyy/Assignment%202/runs/alljgmux\" target=\"_blank\">https://wandb.ai/princewallyy/Assignment%202/runs/alljgmux</a><br/>\n",
              "Find logs at: <code>./wandb/run-20211108_111811-alljgmux/logs</code><br/>\n"
            ],
            "text/plain": [
              "<IPython.core.display.HTML object>"
            ]
          },
          "metadata": {}
        },
        {
          "output_type": "stream",
          "name": "stderr",
          "text": [
            "\u001b[34m\u001b[1mwandb\u001b[0m: Agent Starting Run: pfuftjfg with config:\n",
            "\u001b[34m\u001b[1mwandb\u001b[0m: \tkernel: 1\n",
            "\u001b[34m\u001b[1mwandb\u001b[0m: \tlayer_1_filter: 32\n",
            "\u001b[34m\u001b[1mwandb\u001b[0m: \tlayer_2_filter: 12\n",
            "\u001b[34m\u001b[1mwandb\u001b[0m: \tlayer_3_filter: 32\n",
            "\u001b[34m\u001b[1mwandb\u001b[0m: \tlayer_4_filter: 64\n",
            "\u001b[34m\u001b[1mwandb\u001b[0m: \tpadding: same\n",
            "\u001b[34m\u001b[1mwandb\u001b[0m: \tstride: 1\n"
          ]
        },
        {
          "output_type": "display_data",
          "data": {
            "text/html": [
              "\n",
              "                    Syncing run <strong><a href=\"https://wandb.ai/princewallyy/Assignment%202/runs/pfuftjfg\" target=\"_blank\">major-sweep-5</a></strong> to <a href=\"https://wandb.ai/princewallyy/Assignment%202\" target=\"_blank\">Weights & Biases</a> (<a href=\"https://docs.wandb.com/integrations/jupyter.html\" target=\"_blank\">docs</a>).<br/>\n",
              "Sweep page: <a href=\"https://wandb.ai/princewallyy/Assignment%202/sweeps/h4ud3tou\" target=\"_blank\">https://wandb.ai/princewallyy/Assignment%202/sweeps/h4ud3tou</a><br/>\n",
              "\n",
              "                "
            ],
            "text/plain": [
              "<IPython.core.display.HTML object>"
            ]
          },
          "metadata": {}
        },
        {
          "output_type": "stream",
          "name": "stdout",
          "text": [
            "Epoch 1/10\n",
            "1500/1500 [==============================] - 15s 9ms/step - loss: 0.0117 - accuracy: 0.7868 - val_loss: 0.0098 - val_accuracy: 0.8326\n",
            "Epoch 2/10\n",
            "1500/1500 [==============================] - 13s 9ms/step - loss: 0.0098 - accuracy: 0.8374 - val_loss: 0.0097 - val_accuracy: 0.8204\n",
            "Epoch 3/10\n",
            "1500/1500 [==============================] - 13s 9ms/step - loss: 0.0097 - accuracy: 0.8417 - val_loss: 0.0097 - val_accuracy: 0.8424\n",
            "Epoch 4/10\n",
            "1500/1500 [==============================] - 14s 9ms/step - loss: 0.0097 - accuracy: 0.8457 - val_loss: 0.0097 - val_accuracy: 0.8464\n",
            "Epoch 5/10\n",
            "1500/1500 [==============================] - 13s 9ms/step - loss: 0.0097 - accuracy: 0.8466 - val_loss: 0.0096 - val_accuracy: 0.8363\n",
            "Epoch 6/10\n",
            "1500/1500 [==============================] - 14s 9ms/step - loss: 0.0097 - accuracy: 0.8426 - val_loss: 0.0096 - val_accuracy: 0.8388\n",
            "Epoch 7/10\n",
            "1500/1500 [==============================] - 14s 9ms/step - loss: 0.0097 - accuracy: 0.8404 - val_loss: 0.0096 - val_accuracy: 0.8419\n",
            "Epoch 8/10\n",
            "1500/1500 [==============================] - 14s 9ms/step - loss: 0.0097 - accuracy: 0.8412 - val_loss: 0.0097 - val_accuracy: 0.8430\n",
            "Epoch 9/10\n",
            "1500/1500 [==============================] - 13s 9ms/step - loss: 0.0096 - accuracy: 0.8415 - val_loss: 0.0096 - val_accuracy: 0.8366\n",
            "Epoch 10/10\n",
            "1500/1500 [==============================] - 13s 9ms/step - loss: 0.0096 - accuracy: 0.8420 - val_loss: 0.0096 - val_accuracy: 0.8367\n",
            "188/188 [==============================] - 1s 7ms/step - loss: 0.0096 - accuracy: 0.8350\n"
          ]
        },
        {
          "output_type": "display_data",
          "data": {
            "text/html": [
              "<br/>Waiting for W&B process to finish, PID 1092... <strong style=\"color:green\">(success).</strong>"
            ],
            "text/plain": [
              "<IPython.core.display.HTML object>"
            ]
          },
          "metadata": {}
        },
        {
          "output_type": "display_data",
          "data": {
            "application/vnd.jupyter.widget-view+json": {
              "model_id": "03edd61bce3b4c4f9a344bda3826f9d4",
              "version_minor": 0,
              "version_major": 2
            },
            "text/plain": [
              "VBox(children=(Label(value=' 0.11MB of 0.11MB uploaded (0.00MB deduped)\\r'), FloatProgress(value=1.0, max=1.0)…"
            ]
          },
          "metadata": {}
        },
        {
          "output_type": "display_data",
          "data": {
            "text/html": [
              "<style>\n",
              "    table.wandb td:nth-child(1) { padding: 0 10px; text-align: right }\n",
              "    .wandb-row { display: flex; flex-direction: row; flex-wrap: wrap; width: 100% }\n",
              "    .wandb-col { display: flex; flex-direction: column; flex-basis: 100%; flex: 1; padding: 10px; }\n",
              "    </style>\n",
              "<div class=\"wandb-row\"><div class=\"wandb-col\">\n",
              "<h3>Run history:</h3><br/><table class=\"wandb\"><tr><td>Test Error Rate</td><td>▁</td></tr><tr><td>accuracy</td><td>▁▇▇███▇▇▇▇</td></tr><tr><td>epoch</td><td>▁▂▃▃▄▅▆▆▇█</td></tr><tr><td>loss</td><td>█▁▁▁▁▁▁▁▁▁</td></tr><tr><td>val_accuracy</td><td>▄▁▇█▅▆▇▇▅▅</td></tr><tr><td>val_loss</td><td>█▅▅▅▂▂▂▅▂▁</td></tr></table><br/></div><div class=\"wandb-col\">\n",
              "<h3>Run summary:</h3><br/><table class=\"wandb\"><tr><td>Test Error Rate</td><td>16.5</td></tr><tr><td>accuracy</td><td>0.84197</td></tr><tr><td>best_epoch</td><td>9</td></tr><tr><td>best_val_loss</td><td>0.00958</td></tr><tr><td>epoch</td><td>9</td></tr><tr><td>loss</td><td>0.00964</td></tr><tr><td>val_accuracy</td><td>0.83669</td></tr><tr><td>val_loss</td><td>0.00958</td></tr></table>\n",
              "</div></div>\n",
              "Synced 5 W&B file(s), 1 media file(s), 0 artifact file(s) and 1 other file(s)\n",
              "<br/>Synced <strong style=\"color:#cdcd00\">major-sweep-5</strong>: <a href=\"https://wandb.ai/princewallyy/Assignment%202/runs/pfuftjfg\" target=\"_blank\">https://wandb.ai/princewallyy/Assignment%202/runs/pfuftjfg</a><br/>\n",
              "Find logs at: <code>./wandb/run-20211108_112150-pfuftjfg/logs</code><br/>\n"
            ],
            "text/plain": [
              "<IPython.core.display.HTML object>"
            ]
          },
          "metadata": {}
        },
        {
          "output_type": "stream",
          "name": "stderr",
          "text": [
            "\u001b[34m\u001b[1mwandb\u001b[0m: Agent Starting Run: smhq6r6o with config:\n",
            "\u001b[34m\u001b[1mwandb\u001b[0m: \tkernel: 1\n",
            "\u001b[34m\u001b[1mwandb\u001b[0m: \tlayer_1_filter: 16\n",
            "\u001b[34m\u001b[1mwandb\u001b[0m: \tlayer_2_filter: 32\n",
            "\u001b[34m\u001b[1mwandb\u001b[0m: \tlayer_3_filter: 32\n",
            "\u001b[34m\u001b[1mwandb\u001b[0m: \tlayer_4_filter: 16\n",
            "\u001b[34m\u001b[1mwandb\u001b[0m: \tpadding: same\n",
            "\u001b[34m\u001b[1mwandb\u001b[0m: \tstride: 1\n"
          ]
        },
        {
          "output_type": "display_data",
          "data": {
            "text/html": [
              "\n",
              "                    Syncing run <strong><a href=\"https://wandb.ai/princewallyy/Assignment%202/runs/smhq6r6o\" target=\"_blank\">pretty-sweep-6</a></strong> to <a href=\"https://wandb.ai/princewallyy/Assignment%202\" target=\"_blank\">Weights & Biases</a> (<a href=\"https://docs.wandb.com/integrations/jupyter.html\" target=\"_blank\">docs</a>).<br/>\n",
              "Sweep page: <a href=\"https://wandb.ai/princewallyy/Assignment%202/sweeps/h4ud3tou\" target=\"_blank\">https://wandb.ai/princewallyy/Assignment%202/sweeps/h4ud3tou</a><br/>\n",
              "\n",
              "                "
            ],
            "text/plain": [
              "<IPython.core.display.HTML object>"
            ]
          },
          "metadata": {}
        },
        {
          "output_type": "stream",
          "name": "stdout",
          "text": [
            "Epoch 1/10\n",
            "1500/1500 [==============================] - 13s 8ms/step - loss: 0.0127 - accuracy: 0.7482 - val_loss: 0.0099 - val_accuracy: 0.8229\n",
            "Epoch 2/10\n",
            "1500/1500 [==============================] - 12s 8ms/step - loss: 0.0099 - accuracy: 0.8260 - val_loss: 0.0097 - val_accuracy: 0.8212\n",
            "Epoch 3/10\n",
            "1500/1500 [==============================] - 11s 8ms/step - loss: 0.0098 - accuracy: 0.8303 - val_loss: 0.0097 - val_accuracy: 0.8288\n",
            "Epoch 4/10\n",
            "1500/1500 [==============================] - 11s 8ms/step - loss: 0.0097 - accuracy: 0.8326 - val_loss: 0.0097 - val_accuracy: 0.8370\n",
            "Epoch 5/10\n",
            "1500/1500 [==============================] - 11s 8ms/step - loss: 0.0097 - accuracy: 0.8338 - val_loss: 0.0096 - val_accuracy: 0.8322\n",
            "Epoch 6/10\n",
            "1500/1500 [==============================] - 11s 8ms/step - loss: 0.0097 - accuracy: 0.8348 - val_loss: 0.0096 - val_accuracy: 0.8322\n",
            "Epoch 7/10\n",
            "1500/1500 [==============================] - 11s 7ms/step - loss: 0.0097 - accuracy: 0.8360 - val_loss: 0.0096 - val_accuracy: 0.8367\n",
            "Epoch 8/10\n",
            "1500/1500 [==============================] - 12s 8ms/step - loss: 0.0097 - accuracy: 0.8373 - val_loss: 0.0096 - val_accuracy: 0.8374\n",
            "Epoch 9/10\n",
            "1500/1500 [==============================] - 11s 8ms/step - loss: 0.0097 - accuracy: 0.8385 - val_loss: 0.0096 - val_accuracy: 0.8331\n",
            "Epoch 10/10\n",
            "1500/1500 [==============================] - 11s 8ms/step - loss: 0.0097 - accuracy: 0.8398 - val_loss: 0.0096 - val_accuracy: 0.8408\n",
            "188/188 [==============================] - 1s 4ms/step - loss: 0.0096 - accuracy: 0.8402\n"
          ]
        },
        {
          "output_type": "display_data",
          "data": {
            "text/html": [
              "<br/>Waiting for W&B process to finish, PID 1192... <strong style=\"color:green\">(success).</strong>"
            ],
            "text/plain": [
              "<IPython.core.display.HTML object>"
            ]
          },
          "metadata": {}
        },
        {
          "output_type": "display_data",
          "data": {
            "application/vnd.jupyter.widget-view+json": {
              "model_id": "648e6f849bd4422083955aa7d595e0b2",
              "version_minor": 0,
              "version_major": 2
            },
            "text/plain": [
              "VBox(children=(Label(value=' 0.08MB of 0.08MB uploaded (0.00MB deduped)\\r'), FloatProgress(value=1.0, max=1.0)…"
            ]
          },
          "metadata": {}
        },
        {
          "output_type": "display_data",
          "data": {
            "text/html": [
              "<style>\n",
              "    table.wandb td:nth-child(1) { padding: 0 10px; text-align: right }\n",
              "    .wandb-row { display: flex; flex-direction: row; flex-wrap: wrap; width: 100% }\n",
              "    .wandb-col { display: flex; flex-direction: column; flex-basis: 100%; flex: 1; padding: 10px; }\n",
              "    </style>\n",
              "<div class=\"wandb-row\"><div class=\"wandb-col\">\n",
              "<h3>Run history:</h3><br/><table class=\"wandb\"><tr><td>Test Error Rate</td><td>▁</td></tr><tr><td>accuracy</td><td>▁▇▇▇██████</td></tr><tr><td>epoch</td><td>▁▂▃▃▄▅▆▆▇█</td></tr><tr><td>loss</td><td>█▁▁▁▁▁▁▁▁▁</td></tr><tr><td>val_accuracy</td><td>▂▁▄▇▅▅▇▇▅█</td></tr><tr><td>val_loss</td><td>█▅▅▄▂▂▂▂▂▁</td></tr></table><br/></div><div class=\"wandb-col\">\n",
              "<h3>Run summary:</h3><br/><table class=\"wandb\"><tr><td>Test Error Rate</td><td>15.98</td></tr><tr><td>accuracy</td><td>0.83979</td></tr><tr><td>best_epoch</td><td>9</td></tr><tr><td>best_val_loss</td><td>0.00959</td></tr><tr><td>epoch</td><td>9</td></tr><tr><td>loss</td><td>0.00966</td></tr><tr><td>val_accuracy</td><td>0.8408</td></tr><tr><td>val_loss</td><td>0.00959</td></tr></table>\n",
              "</div></div>\n",
              "Synced 5 W&B file(s), 1 media file(s), 0 artifact file(s) and 1 other file(s)\n",
              "<br/>Synced <strong style=\"color:#cdcd00\">pretty-sweep-6</strong>: <a href=\"https://wandb.ai/princewallyy/Assignment%202/runs/smhq6r6o\" target=\"_blank\">https://wandb.ai/princewallyy/Assignment%202/runs/smhq6r6o</a><br/>\n",
              "Find logs at: <code>./wandb/run-20211108_112428-smhq6r6o/logs</code><br/>\n"
            ],
            "text/plain": [
              "<IPython.core.display.HTML object>"
            ]
          },
          "metadata": {}
        },
        {
          "output_type": "stream",
          "name": "stderr",
          "text": [
            "\u001b[34m\u001b[1mwandb\u001b[0m: Agent Starting Run: izashlin with config:\n",
            "\u001b[34m\u001b[1mwandb\u001b[0m: \tkernel: 3\n",
            "\u001b[34m\u001b[1mwandb\u001b[0m: \tlayer_1_filter: 32\n",
            "\u001b[34m\u001b[1mwandb\u001b[0m: \tlayer_2_filter: 32\n",
            "\u001b[34m\u001b[1mwandb\u001b[0m: \tlayer_3_filter: 16\n",
            "\u001b[34m\u001b[1mwandb\u001b[0m: \tlayer_4_filter: 16\n",
            "\u001b[34m\u001b[1mwandb\u001b[0m: \tpadding: same\n",
            "\u001b[34m\u001b[1mwandb\u001b[0m: \tstride: 1\n"
          ]
        },
        {
          "output_type": "display_data",
          "data": {
            "text/html": [
              "\n",
              "                    Syncing run <strong><a href=\"https://wandb.ai/princewallyy/Assignment%202/runs/izashlin\" target=\"_blank\">stilted-sweep-7</a></strong> to <a href=\"https://wandb.ai/princewallyy/Assignment%202\" target=\"_blank\">Weights & Biases</a> (<a href=\"https://docs.wandb.com/integrations/jupyter.html\" target=\"_blank\">docs</a>).<br/>\n",
              "Sweep page: <a href=\"https://wandb.ai/princewallyy/Assignment%202/sweeps/h4ud3tou\" target=\"_blank\">https://wandb.ai/princewallyy/Assignment%202/sweeps/h4ud3tou</a><br/>\n",
              "\n",
              "                "
            ],
            "text/plain": [
              "<IPython.core.display.HTML object>"
            ]
          },
          "metadata": {}
        },
        {
          "output_type": "stream",
          "name": "stdout",
          "text": [
            "Epoch 1/10\n",
            "1500/1500 [==============================] - 14s 9ms/step - loss: 0.0087 - accuracy: 0.7204 - val_loss: 0.0055 - val_accuracy: 0.7607\n",
            "Epoch 2/10\n",
            "1500/1500 [==============================] - 12s 8ms/step - loss: 0.0051 - accuracy: 0.7718 - val_loss: 0.0046 - val_accuracy: 0.7773\n",
            "Epoch 3/10\n",
            "1500/1500 [==============================] - 12s 8ms/step - loss: 0.0044 - accuracy: 0.7886 - val_loss: 0.0042 - val_accuracy: 0.7891\n",
            "Epoch 4/10\n",
            "1500/1500 [==============================] - 12s 8ms/step - loss: 0.0041 - accuracy: 0.7948 - val_loss: 0.0040 - val_accuracy: 0.7868\n",
            "Epoch 5/10\n",
            "1500/1500 [==============================] - 12s 8ms/step - loss: 0.0038 - accuracy: 0.7986 - val_loss: 0.0037 - val_accuracy: 0.7918\n",
            "Epoch 6/10\n",
            "1500/1500 [==============================] - 12s 8ms/step - loss: 0.0036 - accuracy: 0.8014 - val_loss: 0.0035 - val_accuracy: 0.8092\n",
            "Epoch 7/10\n",
            "1500/1500 [==============================] - 12s 8ms/step - loss: 0.0034 - accuracy: 0.8037 - val_loss: 0.0034 - val_accuracy: 0.8058\n",
            "Epoch 8/10\n",
            "1500/1500 [==============================] - 12s 8ms/step - loss: 0.0033 - accuracy: 0.8042 - val_loss: 0.0032 - val_accuracy: 0.8142\n",
            "Epoch 9/10\n",
            "1500/1500 [==============================] - 13s 8ms/step - loss: 0.0032 - accuracy: 0.8060 - val_loss: 0.0032 - val_accuracy: 0.8083\n",
            "Epoch 10/10\n",
            "1500/1500 [==============================] - 12s 8ms/step - loss: 0.0031 - accuracy: 0.8077 - val_loss: 0.0031 - val_accuracy: 0.7975\n",
            "188/188 [==============================] - 1s 5ms/step - loss: 0.0031 - accuracy: 0.7966\n"
          ]
        },
        {
          "output_type": "display_data",
          "data": {
            "text/html": [
              "<br/>Waiting for W&B process to finish, PID 1295... <strong style=\"color:green\">(success).</strong>"
            ],
            "text/plain": [
              "<IPython.core.display.HTML object>"
            ]
          },
          "metadata": {}
        },
        {
          "output_type": "display_data",
          "data": {
            "application/vnd.jupyter.widget-view+json": {
              "model_id": "91bc06794b414708b0c6a932b772c450",
              "version_minor": 0,
              "version_major": 2
            },
            "text/plain": [
              "VBox(children=(Label(value=' 0.25MB of 0.25MB uploaded (0.00MB deduped)\\r'), FloatProgress(value=1.0, max=1.0)…"
            ]
          },
          "metadata": {}
        },
        {
          "output_type": "display_data",
          "data": {
            "text/html": [
              "<style>\n",
              "    table.wandb td:nth-child(1) { padding: 0 10px; text-align: right }\n",
              "    .wandb-row { display: flex; flex-direction: row; flex-wrap: wrap; width: 100% }\n",
              "    .wandb-col { display: flex; flex-direction: column; flex-basis: 100%; flex: 1; padding: 10px; }\n",
              "    </style>\n",
              "<div class=\"wandb-row\"><div class=\"wandb-col\">\n",
              "<h3>Run history:</h3><br/><table class=\"wandb\"><tr><td>Test Error Rate</td><td>▁</td></tr><tr><td>accuracy</td><td>▁▅▆▇▇▇████</td></tr><tr><td>epoch</td><td>▁▂▃▃▄▅▆▆▇█</td></tr><tr><td>loss</td><td>█▄▃▂▂▂▁▁▁▁</td></tr><tr><td>val_accuracy</td><td>▁▃▅▄▅▇▇█▇▆</td></tr><tr><td>val_loss</td><td>█▅▄▃▃▂▂▁▁▁</td></tr></table><br/></div><div class=\"wandb-col\">\n",
              "<h3>Run summary:</h3><br/><table class=\"wandb\"><tr><td>Test Error Rate</td><td>20.34</td></tr><tr><td>accuracy</td><td>0.80773</td></tr><tr><td>best_epoch</td><td>9</td></tr><tr><td>best_val_loss</td><td>0.00313</td></tr><tr><td>epoch</td><td>9</td></tr><tr><td>loss</td><td>0.00308</td></tr><tr><td>val_accuracy</td><td>0.79754</td></tr><tr><td>val_loss</td><td>0.00313</td></tr></table>\n",
              "</div></div>\n",
              "Synced 5 W&B file(s), 1 media file(s), 0 artifact file(s) and 1 other file(s)\n",
              "<br/>Synced <strong style=\"color:#cdcd00\">stilted-sweep-7</strong>: <a href=\"https://wandb.ai/princewallyy/Assignment%202/runs/izashlin\" target=\"_blank\">https://wandb.ai/princewallyy/Assignment%202/runs/izashlin</a><br/>\n",
              "Find logs at: <code>./wandb/run-20211108_112706-izashlin/logs</code><br/>\n"
            ],
            "text/plain": [
              "<IPython.core.display.HTML object>"
            ]
          },
          "metadata": {}
        },
        {
          "output_type": "stream",
          "name": "stderr",
          "text": [
            "\u001b[34m\u001b[1mwandb\u001b[0m: Agent Starting Run: 8oadxbtl with config:\n",
            "\u001b[34m\u001b[1mwandb\u001b[0m: \tkernel: 7\n",
            "\u001b[34m\u001b[1mwandb\u001b[0m: \tlayer_1_filter: 8\n",
            "\u001b[34m\u001b[1mwandb\u001b[0m: \tlayer_2_filter: 16\n",
            "\u001b[34m\u001b[1mwandb\u001b[0m: \tlayer_3_filter: 16\n",
            "\u001b[34m\u001b[1mwandb\u001b[0m: \tlayer_4_filter: 12\n",
            "\u001b[34m\u001b[1mwandb\u001b[0m: \tpadding: same\n",
            "\u001b[34m\u001b[1mwandb\u001b[0m: \tstride: 1\n"
          ]
        },
        {
          "output_type": "display_data",
          "data": {
            "text/html": [
              "\n",
              "                    Syncing run <strong><a href=\"https://wandb.ai/princewallyy/Assignment%202/runs/8oadxbtl\" target=\"_blank\">drawn-sweep-8</a></strong> to <a href=\"https://wandb.ai/princewallyy/Assignment%202\" target=\"_blank\">Weights & Biases</a> (<a href=\"https://docs.wandb.com/integrations/jupyter.html\" target=\"_blank\">docs</a>).<br/>\n",
              "Sweep page: <a href=\"https://wandb.ai/princewallyy/Assignment%202/sweeps/h4ud3tou\" target=\"_blank\">https://wandb.ai/princewallyy/Assignment%202/sweeps/h4ud3tou</a><br/>\n",
              "\n",
              "                "
            ],
            "text/plain": [
              "<IPython.core.display.HTML object>"
            ]
          },
          "metadata": {}
        },
        {
          "output_type": "stream",
          "name": "stdout",
          "text": [
            "Epoch 1/10\n",
            "1500/1500 [==============================] - 15s 10ms/step - loss: 0.0120 - accuracy: 0.6108 - val_loss: 0.0070 - val_accuracy: 0.7044\n",
            "Epoch 2/10\n",
            "1500/1500 [==============================] - 15s 10ms/step - loss: 0.0065 - accuracy: 0.7277 - val_loss: 0.0058 - val_accuracy: 0.7387\n",
            "Epoch 3/10\n",
            "1500/1500 [==============================] - 19s 13ms/step - loss: 0.0057 - accuracy: 0.7519 - val_loss: 0.0064 - val_accuracy: 0.7608\n",
            "Epoch 4/10\n",
            "1500/1500 [==============================] - 17s 11ms/step - loss: 0.0053 - accuracy: 0.7616 - val_loss: 0.0052 - val_accuracy: 0.7758\n",
            "Epoch 5/10\n",
            "1500/1500 [==============================] - 15s 10ms/step - loss: 0.0049 - accuracy: 0.7686 - val_loss: 0.0049 - val_accuracy: 0.7537\n",
            "Epoch 6/10\n",
            "1500/1500 [==============================] - 14s 9ms/step - loss: 0.0047 - accuracy: 0.7718 - val_loss: 0.0046 - val_accuracy: 0.7813\n",
            "Epoch 7/10\n",
            "1500/1500 [==============================] - 13s 9ms/step - loss: 0.0045 - accuracy: 0.7759 - val_loss: 0.0046 - val_accuracy: 0.7590\n",
            "Epoch 8/10\n",
            "1500/1500 [==============================] - 13s 8ms/step - loss: 0.0043 - accuracy: 0.7777 - val_loss: 0.0042 - val_accuracy: 0.7950\n",
            "Epoch 9/10\n",
            "1500/1500 [==============================] - 13s 9ms/step - loss: 0.0042 - accuracy: 0.7810 - val_loss: 0.0041 - val_accuracy: 0.7961\n",
            "Epoch 10/10\n",
            "1500/1500 [==============================] - 12s 8ms/step - loss: 0.0041 - accuracy: 0.7827 - val_loss: 0.0039 - val_accuracy: 0.7958\n",
            "188/188 [==============================] - 1s 5ms/step - loss: 0.0038 - accuracy: 0.7950\n"
          ]
        },
        {
          "output_type": "display_data",
          "data": {
            "text/html": [
              "<br/>Waiting for W&B process to finish, PID 1395... <strong style=\"color:green\">(success).</strong>"
            ],
            "text/plain": [
              "<IPython.core.display.HTML object>"
            ]
          },
          "metadata": {}
        },
        {
          "output_type": "display_data",
          "data": {
            "application/vnd.jupyter.widget-view+json": {
              "model_id": "45bec8a60fa5497f9c2f6fc8a962dab5",
              "version_minor": 0,
              "version_major": 2
            },
            "text/plain": [
              "VBox(children=(Label(value=' 0.39MB of 0.39MB uploaded (0.00MB deduped)\\r'), FloatProgress(value=1.0, max=1.0)…"
            ]
          },
          "metadata": {}
        },
        {
          "output_type": "display_data",
          "data": {
            "text/html": [
              "<style>\n",
              "    table.wandb td:nth-child(1) { padding: 0 10px; text-align: right }\n",
              "    .wandb-row { display: flex; flex-direction: row; flex-wrap: wrap; width: 100% }\n",
              "    .wandb-col { display: flex; flex-direction: column; flex-basis: 100%; flex: 1; padding: 10px; }\n",
              "    </style>\n",
              "<div class=\"wandb-row\"><div class=\"wandb-col\">\n",
              "<h3>Run history:</h3><br/><table class=\"wandb\"><tr><td>Test Error Rate</td><td>▁</td></tr><tr><td>accuracy</td><td>▁▆▇▇▇█████</td></tr><tr><td>epoch</td><td>▁▂▃▃▄▅▆▆▇█</td></tr><tr><td>loss</td><td>█▃▂▂▂▂▁▁▁▁</td></tr><tr><td>val_accuracy</td><td>▁▄▅▆▅▇▅███</td></tr><tr><td>val_loss</td><td>█▅▇▄▃▃▃▂▁▁</td></tr></table><br/></div><div class=\"wandb-col\">\n",
              "<h3>Run summary:</h3><br/><table class=\"wandb\"><tr><td>Test Error Rate</td><td>20.5</td></tr><tr><td>accuracy</td><td>0.78273</td></tr><tr><td>best_epoch</td><td>9</td></tr><tr><td>best_val_loss</td><td>0.00385</td></tr><tr><td>epoch</td><td>9</td></tr><tr><td>loss</td><td>0.00408</td></tr><tr><td>val_accuracy</td><td>0.7958</td></tr><tr><td>val_loss</td><td>0.00385</td></tr></table>\n",
              "</div></div>\n",
              "Synced 5 W&B file(s), 1 media file(s), 0 artifact file(s) and 1 other file(s)\n",
              "<br/>Synced <strong style=\"color:#cdcd00\">drawn-sweep-8</strong>: <a href=\"https://wandb.ai/princewallyy/Assignment%202/runs/8oadxbtl\" target=\"_blank\">https://wandb.ai/princewallyy/Assignment%202/runs/8oadxbtl</a><br/>\n",
              "Find logs at: <code>./wandb/run-20211108_112941-8oadxbtl/logs</code><br/>\n"
            ],
            "text/plain": [
              "<IPython.core.display.HTML object>"
            ]
          },
          "metadata": {}
        },
        {
          "output_type": "stream",
          "name": "stderr",
          "text": [
            "\u001b[34m\u001b[1mwandb\u001b[0m: Agent Starting Run: fxorty0g with config:\n",
            "\u001b[34m\u001b[1mwandb\u001b[0m: \tkernel: 3\n",
            "\u001b[34m\u001b[1mwandb\u001b[0m: \tlayer_1_filter: 12\n",
            "\u001b[34m\u001b[1mwandb\u001b[0m: \tlayer_2_filter: 32\n",
            "\u001b[34m\u001b[1mwandb\u001b[0m: \tlayer_3_filter: 128\n",
            "\u001b[34m\u001b[1mwandb\u001b[0m: \tlayer_4_filter: 12\n",
            "\u001b[34m\u001b[1mwandb\u001b[0m: \tpadding: same\n",
            "\u001b[34m\u001b[1mwandb\u001b[0m: \tstride: 1\n"
          ]
        },
        {
          "output_type": "display_data",
          "data": {
            "text/html": [
              "\n",
              "                    Syncing run <strong><a href=\"https://wandb.ai/princewallyy/Assignment%202/runs/fxorty0g\" target=\"_blank\">hardy-sweep-9</a></strong> to <a href=\"https://wandb.ai/princewallyy/Assignment%202\" target=\"_blank\">Weights & Biases</a> (<a href=\"https://docs.wandb.com/integrations/jupyter.html\" target=\"_blank\">docs</a>).<br/>\n",
              "Sweep page: <a href=\"https://wandb.ai/princewallyy/Assignment%202/sweeps/h4ud3tou\" target=\"_blank\">https://wandb.ai/princewallyy/Assignment%202/sweeps/h4ud3tou</a><br/>\n",
              "\n",
              "                "
            ],
            "text/plain": [
              "<IPython.core.display.HTML object>"
            ]
          },
          "metadata": {}
        }
      ]
    }
  ]
}