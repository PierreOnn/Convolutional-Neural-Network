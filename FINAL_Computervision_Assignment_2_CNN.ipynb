{
  "nbformat": 4,
  "nbformat_minor": 0,
  "metadata": {
    "colab": {
      "name": "FINAL - Computervision Assignment 2: CNN",
      "provenance": [],
      "collapsed_sections": [],
      "toc_visible": true,
      "include_colab_link": true
    },
    "kernelspec": {
      "name": "python3",
      "display_name": "Python 3"
    },
    "language_info": {
      "name": "python"
    },
    "accelerator": "GPU",
    "widgets": {
      "application/vnd.jupyter.widget-state+json": {
        "93081787ff1d4b3aa01ad61375a39732": {
          "model_module": "@jupyter-widgets/controls",
          "model_name": "VBoxModel",
          "state": {
            "_view_name": "VBoxView",
            "_dom_classes": [],
            "_model_name": "VBoxModel",
            "_view_module": "@jupyter-widgets/controls",
            "_model_module_version": "1.5.0",
            "_view_count": null,
            "_view_module_version": "1.5.0",
            "box_style": "",
            "layout": "IPY_MODEL_58076421044e4c61ab246474226539d4",
            "_model_module": "@jupyter-widgets/controls",
            "children": [
              "IPY_MODEL_a6fdabdb53d149db9eb331f18a056fb8",
              "IPY_MODEL_5cd20820ed5c461b9cfbb9c1b582b7c8"
            ]
          }
        },
        "58076421044e4c61ab246474226539d4": {
          "model_module": "@jupyter-widgets/base",
          "model_name": "LayoutModel",
          "state": {
            "_view_name": "LayoutView",
            "grid_template_rows": null,
            "right": null,
            "justify_content": null,
            "_view_module": "@jupyter-widgets/base",
            "overflow": null,
            "_model_module_version": "1.2.0",
            "_view_count": null,
            "flex_flow": null,
            "width": null,
            "min_width": null,
            "border": null,
            "align_items": null,
            "bottom": null,
            "_model_module": "@jupyter-widgets/base",
            "top": null,
            "grid_column": null,
            "overflow_y": null,
            "overflow_x": null,
            "grid_auto_flow": null,
            "grid_area": null,
            "grid_template_columns": null,
            "flex": null,
            "_model_name": "LayoutModel",
            "justify_items": null,
            "grid_row": null,
            "max_height": null,
            "align_content": null,
            "visibility": null,
            "align_self": null,
            "height": null,
            "min_height": null,
            "padding": null,
            "grid_auto_rows": null,
            "grid_gap": null,
            "max_width": null,
            "order": null,
            "_view_module_version": "1.2.0",
            "grid_template_areas": null,
            "object_position": null,
            "object_fit": null,
            "grid_auto_columns": null,
            "margin": null,
            "display": null,
            "left": null
          }
        },
        "a6fdabdb53d149db9eb331f18a056fb8": {
          "model_module": "@jupyter-widgets/controls",
          "model_name": "LabelModel",
          "state": {
            "_view_name": "LabelView",
            "style": "IPY_MODEL_61053f8b18ba4b0ebcb14ecf544ebf76",
            "_dom_classes": [],
            "description": "",
            "_model_name": "LabelModel",
            "placeholder": "​",
            "_view_module": "@jupyter-widgets/controls",
            "_model_module_version": "1.5.0",
            "value": " 41.17MB of 41.17MB uploaded (0.00MB deduped)\r",
            "_view_count": null,
            "_view_module_version": "1.5.0",
            "description_tooltip": null,
            "_model_module": "@jupyter-widgets/controls",
            "layout": "IPY_MODEL_12a31d8aa6b8495db55c147dab5c1a4d"
          }
        },
        "5cd20820ed5c461b9cfbb9c1b582b7c8": {
          "model_module": "@jupyter-widgets/controls",
          "model_name": "FloatProgressModel",
          "state": {
            "_view_name": "ProgressView",
            "style": "IPY_MODEL_4e1d26c1e3c94b42bad4e4bbe280de4c",
            "_dom_classes": [],
            "description": "",
            "_model_name": "FloatProgressModel",
            "bar_style": "",
            "max": 1,
            "_view_module": "@jupyter-widgets/controls",
            "_model_module_version": "1.5.0",
            "value": 1,
            "_view_count": null,
            "_view_module_version": "1.5.0",
            "orientation": "horizontal",
            "min": 0,
            "description_tooltip": null,
            "_model_module": "@jupyter-widgets/controls",
            "layout": "IPY_MODEL_f75f071bb7e843bd8e284afb884ff8fc"
          }
        },
        "61053f8b18ba4b0ebcb14ecf544ebf76": {
          "model_module": "@jupyter-widgets/controls",
          "model_name": "DescriptionStyleModel",
          "state": {
            "_view_name": "StyleView",
            "_model_name": "DescriptionStyleModel",
            "description_width": "",
            "_view_module": "@jupyter-widgets/base",
            "_model_module_version": "1.5.0",
            "_view_count": null,
            "_view_module_version": "1.2.0",
            "_model_module": "@jupyter-widgets/controls"
          }
        },
        "12a31d8aa6b8495db55c147dab5c1a4d": {
          "model_module": "@jupyter-widgets/base",
          "model_name": "LayoutModel",
          "state": {
            "_view_name": "LayoutView",
            "grid_template_rows": null,
            "right": null,
            "justify_content": null,
            "_view_module": "@jupyter-widgets/base",
            "overflow": null,
            "_model_module_version": "1.2.0",
            "_view_count": null,
            "flex_flow": null,
            "width": null,
            "min_width": null,
            "border": null,
            "align_items": null,
            "bottom": null,
            "_model_module": "@jupyter-widgets/base",
            "top": null,
            "grid_column": null,
            "overflow_y": null,
            "overflow_x": null,
            "grid_auto_flow": null,
            "grid_area": null,
            "grid_template_columns": null,
            "flex": null,
            "_model_name": "LayoutModel",
            "justify_items": null,
            "grid_row": null,
            "max_height": null,
            "align_content": null,
            "visibility": null,
            "align_self": null,
            "height": null,
            "min_height": null,
            "padding": null,
            "grid_auto_rows": null,
            "grid_gap": null,
            "max_width": null,
            "order": null,
            "_view_module_version": "1.2.0",
            "grid_template_areas": null,
            "object_position": null,
            "object_fit": null,
            "grid_auto_columns": null,
            "margin": null,
            "display": null,
            "left": null
          }
        },
        "4e1d26c1e3c94b42bad4e4bbe280de4c": {
          "model_module": "@jupyter-widgets/controls",
          "model_name": "ProgressStyleModel",
          "state": {
            "_view_name": "StyleView",
            "_model_name": "ProgressStyleModel",
            "description_width": "",
            "_view_module": "@jupyter-widgets/base",
            "_model_module_version": "1.5.0",
            "_view_count": null,
            "_view_module_version": "1.2.0",
            "bar_color": null,
            "_model_module": "@jupyter-widgets/controls"
          }
        },
        "f75f071bb7e843bd8e284afb884ff8fc": {
          "model_module": "@jupyter-widgets/base",
          "model_name": "LayoutModel",
          "state": {
            "_view_name": "LayoutView",
            "grid_template_rows": null,
            "right": null,
            "justify_content": null,
            "_view_module": "@jupyter-widgets/base",
            "overflow": null,
            "_model_module_version": "1.2.0",
            "_view_count": null,
            "flex_flow": null,
            "width": null,
            "min_width": null,
            "border": null,
            "align_items": null,
            "bottom": null,
            "_model_module": "@jupyter-widgets/base",
            "top": null,
            "grid_column": null,
            "overflow_y": null,
            "overflow_x": null,
            "grid_auto_flow": null,
            "grid_area": null,
            "grid_template_columns": null,
            "flex": null,
            "_model_name": "LayoutModel",
            "justify_items": null,
            "grid_row": null,
            "max_height": null,
            "align_content": null,
            "visibility": null,
            "align_self": null,
            "height": null,
            "min_height": null,
            "padding": null,
            "grid_auto_rows": null,
            "grid_gap": null,
            "max_width": null,
            "order": null,
            "_view_module_version": "1.2.0",
            "grid_template_areas": null,
            "object_position": null,
            "object_fit": null,
            "grid_auto_columns": null,
            "margin": null,
            "display": null,
            "left": null
          }
        }
      }
    }
  },
  "cells": [
    {
      "cell_type": "markdown",
      "metadata": {
        "id": "view-in-github",
        "colab_type": "text"
      },
      "source": [
        "<a href=\"https://colab.research.google.com/github/PrinceWallyy/CV_DeepLearning/blob/master/FINAL_Computervision_Assignment_2_CNN.ipynb\" target=\"_parent\"><img src=\"https://colab.research.google.com/assets/colab-badge.svg\" alt=\"Open In Colab\"/></a>"
      ]
    },
    {
      "cell_type": "markdown",
      "metadata": {
        "id": "S6rRBFvS6YR1"
      },
      "source": [
        "# Preprocess"
      ]
    },
    {
      "cell_type": "code",
      "metadata": {
        "colab": {
          "base_uri": "https://localhost:8080/"
        },
        "id": "dy3DFAk450XT",
        "outputId": "8c67e898-5ce2-4e65-e255-31e0c260c982"
      },
      "source": [
        "from google.colab import drive\n",
        "drive.mount(\"/content/drive\")\n",
        "path = '/content/drive/MyDrive/MU/Computer Vision/Assignment 2 - CNN/'"
      ],
      "execution_count": 25,
      "outputs": [
        {
          "output_type": "stream",
          "text": [
            "Drive already mounted at /content/drive; to attempt to forcibly remount, call drive.mount(\"/content/drive\", force_remount=True).\n"
          ],
          "name": "stdout"
        }
      ]
    },
    {
      "cell_type": "code",
      "metadata": {
        "id": "en3LMoBYKXEb"
      },
      "source": [
        "%%capture\n",
        "!pip install wandb -q"
      ],
      "execution_count": 26,
      "outputs": []
    },
    {
      "cell_type": "code",
      "metadata": {
        "colab": {
          "base_uri": "https://localhost:8080/"
        },
        "id": "O58u7H8c55nc",
        "outputId": "8815afca-e8ab-407c-d6c5-17c1bac5283f"
      },
      "source": [
        "import wandb\n",
        "from wandb.keras import WandbCallback\n",
        "\n",
        "# WandB – Login to your wandb account so you can log all your metrics\n",
        "wandb.login()"
      ],
      "execution_count": 27,
      "outputs": [
        {
          "output_type": "stream",
          "text": [
            "\u001b[34m\u001b[1mwandb\u001b[0m: \u001b[33mWARNING\u001b[0m Calling wandb.login() after wandb.init() has no effect.\n"
          ],
          "name": "stderr"
        },
        {
          "output_type": "execute_result",
          "data": {
            "text/plain": [
              "True"
            ]
          },
          "metadata": {
            "tags": []
          },
          "execution_count": 27
        }
      ]
    },
    {
      "cell_type": "code",
      "metadata": {
        "id": "1HLBIvLa6KFx"
      },
      "source": [
        "#load libaries\n",
        "import pandas as pd\n",
        "import numpy as np\n",
        "import tensorflow as tf\n",
        "from matplotlib import pyplot as plt\n",
        "from matplotlib.pyplot import figure\n",
        "from tensorflow.keras import datasets, layers, models\n",
        "import matplotlib.pyplot as plt\n",
        "import os\n",
        "\n",
        "\n",
        "# Set the random seeds\n",
        "os.environ['TF_CUDNN_DETERMINISTIC'] = '1' \n",
        "np.random.seed(42)\n",
        "tf.random.set_seed(42)"
      ],
      "execution_count": 28,
      "outputs": []
    },
    {
      "cell_type": "code",
      "metadata": {
        "id": "vuV-ay2a6SGD"
      },
      "source": [
        "#emotion map\n",
        "emotion_map = {\n",
        "    0:'anger',\n",
        "    1:'disgust',\n",
        "    2:'fear', \n",
        "    3:'happiness', \n",
        "    4: 'sadness', \n",
        "    5: 'surprise', \n",
        "    6: 'neutral'}"
      ],
      "execution_count": 29,
      "outputs": []
    },
    {
      "cell_type": "markdown",
      "metadata": {
        "id": "NS0e9yV46xDQ"
      },
      "source": [
        "# Data"
      ]
    },
    {
      "cell_type": "code",
      "metadata": {
        "id": "HTJfKITs6z91"
      },
      "source": [
        "#load data\n",
        "data = pd.read_csv(path+'fer2013.csv', delimiter=',')"
      ],
      "execution_count": 30,
      "outputs": []
    },
    {
      "cell_type": "code",
      "metadata": {
        "id": "In3WQhVr63Zd"
      },
      "source": [
        " df_train = data[data[\"Usage\"]==\"Training\"]\n",
        " df_test_public = data[data[\"Usage\"]==\"PublicTest\"]\n",
        " df_test_private = data[data[\"Usage\"]==\"PrivateTest\"] "
      ],
      "execution_count": 31,
      "outputs": []
    },
    {
      "cell_type": "markdown",
      "metadata": {
        "id": "Chn97ElQ4wvr"
      },
      "source": [
        "## Format training set:"
      ]
    },
    {
      "cell_type": "code",
      "metadata": {
        "colab": {
          "base_uri": "https://localhost:8080/"
        },
        "id": "FIL1MT9f66Pj",
        "outputId": "65a40731-69ff-4261-fb4c-db82be3604ad"
      },
      "source": [
        "import math\n",
        "import numpy as np\n",
        "import pandas as pd\n",
        "from sklearn.model_selection import train_test_split\n",
        "from skimage import io, transform\n",
        "import torchvision\n",
        "import torch\n",
        "\n",
        "#get image size\n",
        "image_size = len(df_train['pixels'].iloc[0].split(' '))\n",
        "width = int(math.sqrt(image_size))\n",
        "height = int(math.sqrt(image_size))\n",
        "\n",
        "#reshape image, and add dimension for CNN \n",
        "img_features = df_train['pixels'].apply(lambda x: np.array(x.split()).reshape(height, width, 1).astype('float32'))\n",
        "img_features = np.stack(img_features, axis=0)\n",
        "img_features = img_features / 255.0\n",
        "#remove index from label\n",
        "img_labels =  np.array(df_train['emotion'])\n",
        "\n",
        "#shuffle and split into train and test set:\n",
        "X_train, X_valid, y_train, y_valid = train_test_split(img_features, img_labels,\n",
        "                                                      shuffle=True, stratify=img_labels,\n",
        "                                                      test_size=0.3, random_state=42)\n",
        "print(X_train.shape, X_valid.shape, y_train.shape, y_valid.shape)"
      ],
      "execution_count": 32,
      "outputs": [
        {
          "output_type": "stream",
          "text": [
            "(20096, 48, 48, 1) (8613, 48, 48, 1) (20096,) (8613,)\n"
          ],
          "name": "stdout"
        }
      ]
    },
    {
      "cell_type": "markdown",
      "metadata": {
        "id": "e33aqyeV4z6D"
      },
      "source": [
        "## Format testing set:"
      ]
    },
    {
      "cell_type": "code",
      "metadata": {
        "id": "EicVOPlP0_gw"
      },
      "source": [
        "#reshape image, and add dimension for CNN \n",
        "img_features = df_test_private['pixels'].apply(lambda x: np.array(x.split()).reshape(height, width, 1).astype('float32'))\n",
        "img_features = np.stack(img_features, axis=0)\n",
        "img_features = img_features / 255.0\n",
        "\n",
        "#remove index from label\n",
        "img_labels =  np.array(df_test_private['emotion'])\n",
        "X_private_test = img_features\n",
        "y_private_test = img_labels\n",
        "\n",
        "#reshape image, and add dimension for CNN \n",
        "img_features = df_test_public['pixels'].apply(lambda x: np.array(x.split()).reshape(height, width, 1).astype('float32'))\n",
        "img_features = np.stack(img_features, axis=0)\n",
        "img_features = img_features / 255.0\n",
        "\n",
        "#remove index from label\n",
        "img_labels =  np.array(df_test_public['emotion'])\n",
        "X_public_test = img_features\n",
        "y_public_test = img_labels"
      ],
      "execution_count": 33,
      "outputs": []
    },
    {
      "cell_type": "markdown",
      "metadata": {
        "id": "3hoGWIRh68uo"
      },
      "source": [
        "# Training\n",
        "\n",
        "## Weights and Biases Sweep\n",
        "Here a Weights and Biases sweep gets defined (only run once to initalize).\n",
        "The worker then takes care of using the right parameters.\n"
      ]
    },
    {
      "cell_type": "code",
      "metadata": {
        "id": "v5ELX2wP6-2n",
        "colab": {
          "base_uri": "https://localhost:8080/"
        },
        "outputId": "0d8e90c7-8135-4368-fb2e-82e3e5c711e4"
      },
      "source": [
        "import wandb\n",
        "\n",
        "sweep_config = {\n",
        "  \"name\" : \"CNN_Bayes_optimization\",\n",
        "  #Search method\n",
        "  \"method\" : \"bayes\",\n",
        "  \"metric\":{\n",
        "    \"name\": \"val_loss\",\n",
        "    \"goal\": \"minimize\"\n",
        "  },\n",
        "  \"parameters\" : {\n",
        "    \"epochs\" : {\n",
        "      \"values\" : [15]\n",
        "    },\n",
        "    \"learning_rate\" :{\n",
        "      \"values\" : [0.0005]\n",
        "    },\n",
        "    \"layer_1_filter\" :{\n",
        "      \"values\" :[64]\n",
        "    },\n",
        "    \"layer_2_filter\" :{\n",
        "      \"values\" :[256]\n",
        "    },\n",
        "    \"layer_3_filter\" :{\n",
        "      \"values\" :[256]\n",
        "    },\n",
        "    \"layer_4_filter\" :{\n",
        "      \"values\" :[512]\n",
        "    },\n",
        "    \"dropout\" :{\n",
        "      \"values\" :[0.25]\n",
        "    },\n",
        "    \"batchnorm\" :{\n",
        "      \"values\" :[True]\n",
        "    },\n",
        "    \"batch_size\": {\n",
        "        \"values\": [64]\n",
        "    },\n",
        "    \"loss_function\": {\n",
        "        \"values\": [\"sparse_categorical_crossentropy\"]\n",
        "    }\n",
        "    \n",
        "\n",
        "  }\n",
        "}\n",
        "\n",
        "sweep_id = wandb.sweep(sweep_config,\n",
        "                        entity=\"mu_cv_cnn\",\n",
        "                        project=\"mu-cv-assignment2\")"
      ],
      "execution_count": null,
      "outputs": [
        {
          "output_type": "stream",
          "text": [
            "Create sweep with ID: 6llkfa0j\n",
            "Sweep URL: https://wandb.ai/mu_cv_cnn/mu-cv-assignment2/sweeps/6llkfa0j\n"
          ],
          "name": "stdout"
        }
      ]
    },
    {
      "cell_type": "code",
      "metadata": {
        "id": "YOP-Evvu7DW2"
      },
      "source": [
        "#To use if you want to run a differnt sweep: \n",
        "#sweep_id = \"6llkfa0j\""
      ],
      "execution_count": 13,
      "outputs": []
    },
    {
      "cell_type": "code",
      "metadata": {
        "id": "6uu4qTtk7FxJ"
      },
      "source": [
        "import gc\n",
        "# Custom Callback To Include in Callbacks List At Training Time\n",
        "# collect garbage to reduce RAM usage\n",
        "class GarbageCollectorCallback(tf.keras.callbacks.Callback):\n",
        "    def on_epoch_end(self, epoch, logs=None):\n",
        "        gc.collect()"
      ],
      "execution_count": 14,
      "outputs": []
    },
    {
      "cell_type": "code",
      "metadata": {
        "id": "8MHHtoyD7HiR"
      },
      "source": [
        "#Define mode\n",
        "def make_model(config):\n",
        "  # WandB Config managed by sweeps \n",
        "  model = models.Sequential()\n",
        "\n",
        "  # First convolutional block:\n",
        "  model.add(layers.Conv2D(config.layer_1_filter, (3,3), padding='same', input_shape=(48,48,1)))\n",
        "  # if batchnorm is activated\n",
        "  if config.batchnorm:\n",
        "    model.add(layers.BatchNormalization())\n",
        "  model.add(layers.Activation('relu'))\n",
        "  model.add(layers.MaxPooling2D(pool_size=(2,2)))\n",
        "  if config.dropout > 0:\n",
        "    model.add(layers.Dropout(config.dropout))\n",
        "\n",
        "  # Second convolutional block:\n",
        "  model.add(layers.Conv2D(config.layer_2_filter,(5,5), padding='same'))\n",
        "  if config.batchnorm:\n",
        "    model.add(layers.BatchNormalization())\n",
        "  model.add(layers.Activation('relu'))\n",
        "  model.add(layers.MaxPooling2D(pool_size=(2,2)))\n",
        "  if config.dropout > 0:\n",
        "    model.add(layers.Dropout(config.dropout))\n",
        "\n",
        "  \n",
        "  # Third convolutional block:\n",
        "  model.add(layers.Conv2D(config.layer_3_filter,(3,3), padding='same'))\n",
        "  if config.batchnorm:\n",
        "    model.add(layers.BatchNormalization())\n",
        "  model.add(layers.Activation('relu'))\n",
        "  model.add(layers.MaxPooling2D(pool_size=(2,2)))\n",
        "  if config.dropout > 0:\n",
        "    model.add(layers.Dropout(config.dropout))\n",
        "\n",
        "  # Fourth convolutional block:\n",
        "  model.add(layers.Conv2D(config.layer_4_filter,(3,3), padding='same'))\n",
        "  if config.batchnorm:\n",
        "    model.add(layers.BatchNormalization())\n",
        "  model.add(layers.Activation('relu'))\n",
        "  model.add(layers.MaxPooling2D(pool_size=(2,2)))\n",
        "  if config.dropout > 0:\n",
        "    model.add(layers.Dropout(config.dropout))\n",
        "\n",
        "  model.add(layers.Flatten())\n",
        "\n",
        "  # First fully connected Block\n",
        "  model.add(layers.Dense(256))\n",
        "  if config.batchnorm:\n",
        "    model.add(layers.BatchNormalization())\n",
        "  model.add(layers.Activation('relu'))\n",
        "  if config.dropout > 0:\n",
        "    model.add(layers.Dropout(config.dropout))\n",
        "\n",
        "  # Second fully connected Block\n",
        "  model.add(layers.Dense(512))\n",
        "  if config.batchnorm:\n",
        "    model.add(layers.BatchNormalization())\n",
        "  model.add(layers.Activation('relu'))\n",
        "  if config.dropout > 0:\n",
        "    model.add(layers.Dropout(config.dropout))\n",
        "  #Output layer\n",
        "  model.add(layers.Dense(7, activation='softmax'))\n",
        "  return model"
      ],
      "execution_count": 15,
      "outputs": []
    },
    {
      "cell_type": "code",
      "metadata": {
        "id": "FREk5R8ErxHp"
      },
      "source": [
        "#convert label number to emotion, for plotting\n",
        "y_emotion = [emotion_map[label] for label in y_valid]"
      ],
      "execution_count": 24,
      "outputs": []
    },
    {
      "cell_type": "code",
      "metadata": {
        "id": "uSVjjnTt7K_l",
        "colab": {
          "base_uri": "https://localhost:8080/",
          "height": 1000,
          "referenced_widgets": [
            "93081787ff1d4b3aa01ad61375a39732",
            "58076421044e4c61ab246474226539d4",
            "a6fdabdb53d149db9eb331f18a056fb8",
            "5cd20820ed5c461b9cfbb9c1b582b7c8",
            "61053f8b18ba4b0ebcb14ecf544ebf76",
            "12a31d8aa6b8495db55c147dab5c1a4d",
            "4e1d26c1e3c94b42bad4e4bbe280de4c",
            "f75f071bb7e843bd8e284afb884ff8fc"
          ]
        },
        "outputId": "18abe9e8-c0f4-42be-b3f5-f7b110fa4ab3"
      },
      "source": [
        "#define train method\n",
        "def train():\n",
        "    with wandb.init() as run:\n",
        "        #get config\n",
        "        config = wandb.config\n",
        "        #make model\n",
        "        model = make_model(config)\n",
        "        optimizer = tf.keras.optimizers.Adam(config.learning_rate) \n",
        "        model.compile(optimizer, config.loss_function, metrics=['acc'])\n",
        "\n",
        "        loss = model.fit(X_train, y_train, epochs=config.epochs, \n",
        "                          validation_data=(X_valid, y_valid),\n",
        "                          batch_size = config.batch_size,\n",
        "                          #log weights, gradients, images and model\n",
        "                          callbacks=[WandbCallback(log_weights=True,data_type='image',labels=y_emotion,save_model=True,log_gradients=True,save_graph=True,training_data=(X_train,y_train),validation_data=(X_valid,y_valid)),GarbageCollectorCallback()])\n",
        "        #Evaluate on private test\n",
        "        private_loss, private_accuracy = model.evaluate(X_private_test, y_private_test)\n",
        "        wandb.log({'private_test_accuracy': private_accuracy,\n",
        "                   'private_test_loss': private_loss\n",
        "                   })\n",
        "\n",
        "        #Evaluate on public test\n",
        "        public_loss, public_accuracy = model.evaluate(X_public_test, y_public_test)\n",
        "        wandb.log({'public_test_accuracy': public_accuracy,\n",
        "                   'public_test_loss': public_loss\n",
        "                   })\n",
        "        predictions = model.predict(X_public_test)\n",
        "        #log confusion matrix\n",
        "        wandb.log({\"conf_mat\" : wandb.plot.confusion_matrix(probs=None,\n",
        "                        y_true=y_public_test, preds=predictions,\n",
        "                        class_names=['anger','disgust','fear','happiness','sadness','surprise','neutral'])})\n",
        "        \n",
        "count = 1 # number of runs to execute\n",
        "wandb.agent(sweep_id, function=train, count=count,\n",
        "                        entity=\"mu_cv_cnn\",\n",
        "                        project=\"mu-cv-assignment2\")"
      ],
      "execution_count": 20,
      "outputs": [
        {
          "output_type": "stream",
          "text": [
            "\u001b[34m\u001b[1mwandb\u001b[0m: Agent Starting Run: 3vhb7znl with config:\n",
            "\u001b[34m\u001b[1mwandb\u001b[0m: \tbatch_size: 64\n",
            "\u001b[34m\u001b[1mwandb\u001b[0m: \tbatchnorm: True\n",
            "\u001b[34m\u001b[1mwandb\u001b[0m: \tdropout: 0.25\n",
            "\u001b[34m\u001b[1mwandb\u001b[0m: \tepochs: 15\n",
            "\u001b[34m\u001b[1mwandb\u001b[0m: \tlayer_1_filter: 64\n",
            "\u001b[34m\u001b[1mwandb\u001b[0m: \tlayer_2_filter: 256\n",
            "\u001b[34m\u001b[1mwandb\u001b[0m: \tlayer_3_filter: 256\n",
            "\u001b[34m\u001b[1mwandb\u001b[0m: \tlayer_4_filter: 512\n",
            "\u001b[34m\u001b[1mwandb\u001b[0m: \tlearning_rate: 0.0005\n",
            "\u001b[34m\u001b[1mwandb\u001b[0m: \tloss_function: sparse_categorical_crossentropy\n"
          ],
          "name": "stderr"
        },
        {
          "output_type": "display_data",
          "data": {
            "text/html": [
              "\n",
              "                Tracking run with wandb version 0.10.30<br/>\n",
              "                Syncing run <strong style=\"color:#cdcd00\">youthful-sweep-4</strong> to <a href=\"https://wandb.ai\" target=\"_blank\">Weights & Biases</a> <a href=\"https://docs.wandb.com/integrations/jupyter.html\" target=\"_blank\">(Documentation)</a>.<br/>\n",
              "                Project page: <a href=\"https://wandb.ai/mu_cv_cnn/mu-cv-assignment2\" target=\"_blank\">https://wandb.ai/mu_cv_cnn/mu-cv-assignment2</a><br/>\n",
              "                Sweep page: <a href=\"https://wandb.ai/mu_cv_cnn/mu-cv-assignment2/sweeps/6llkfa0j\" target=\"_blank\">https://wandb.ai/mu_cv_cnn/mu-cv-assignment2/sweeps/6llkfa0j</a><br/>\n",
              "Run page: <a href=\"https://wandb.ai/mu_cv_cnn/mu-cv-assignment2/runs/3vhb7znl\" target=\"_blank\">https://wandb.ai/mu_cv_cnn/mu-cv-assignment2/runs/3vhb7znl</a><br/>\n",
              "                Run data is saved locally in <code>/content/CV_DeepLearning/code/wandb/run-20210525_114712-3vhb7znl</code><br/><br/>\n",
              "            "
            ],
            "text/plain": [
              "<IPython.core.display.HTML object>"
            ]
          },
          "metadata": {
            "tags": []
          }
        },
        {
          "output_type": "stream",
          "text": [
            "Epoch 1/15\n",
            "  6/314 [..............................] - ETA: 21s - loss: 2.7687 - acc: 0.1017WARNING:tensorflow:Callback method `on_train_batch_end` is slow compared to the batch time (batch time: 0.0131s vs `on_train_batch_end` time: 0.0616s). Check your callbacks.\n",
            "314/314 [==============================] - 22s 67ms/step - loss: 2.0647 - acc: 0.2244 - val_loss: 1.9963 - val_acc: 0.1939\n",
            "Epoch 2/15\n",
            "314/314 [==============================] - 21s 67ms/step - loss: 1.6666 - acc: 0.3634 - val_loss: 1.5825 - val_acc: 0.3876\n",
            "Epoch 3/15\n",
            "314/314 [==============================] - 21s 67ms/step - loss: 1.4693 - acc: 0.4316 - val_loss: 1.3334 - val_acc: 0.4887\n",
            "Epoch 4/15\n",
            "314/314 [==============================] - 21s 67ms/step - loss: 1.3268 - acc: 0.4942 - val_loss: 1.3005 - val_acc: 0.4947\n",
            "Epoch 5/15\n",
            "314/314 [==============================] - 21s 67ms/step - loss: 1.2382 - acc: 0.5291 - val_loss: 1.2465 - val_acc: 0.5197\n",
            "Epoch 6/15\n",
            "314/314 [==============================] - 21s 67ms/step - loss: 1.1834 - acc: 0.5490 - val_loss: 1.1967 - val_acc: 0.5388\n",
            "Epoch 7/15\n",
            "314/314 [==============================] - 21s 67ms/step - loss: 1.1266 - acc: 0.5664 - val_loss: 1.1430 - val_acc: 0.5682\n",
            "Epoch 8/15\n",
            "314/314 [==============================] - 21s 67ms/step - loss: 1.0919 - acc: 0.5836 - val_loss: 1.1492 - val_acc: 0.5617\n",
            "Epoch 9/15\n",
            "314/314 [==============================] - 21s 68ms/step - loss: 1.0426 - acc: 0.6045 - val_loss: 1.5278 - val_acc: 0.4331\n",
            "Epoch 10/15\n",
            "314/314 [==============================] - 21s 67ms/step - loss: 0.9974 - acc: 0.6241 - val_loss: 1.1163 - val_acc: 0.5811\n",
            "Epoch 11/15\n",
            "314/314 [==============================] - 21s 67ms/step - loss: 0.9515 - acc: 0.6429 - val_loss: 1.1632 - val_acc: 0.5658\n",
            "Epoch 12/15\n",
            "314/314 [==============================] - 21s 67ms/step - loss: 0.9253 - acc: 0.6501 - val_loss: 1.0870 - val_acc: 0.5945\n",
            "Epoch 13/15\n",
            "314/314 [==============================] - 21s 67ms/step - loss: 0.8898 - acc: 0.6645 - val_loss: 1.0833 - val_acc: 0.5953\n",
            "Epoch 14/15\n",
            "314/314 [==============================] - 21s 67ms/step - loss: 0.8484 - acc: 0.6799 - val_loss: 1.0694 - val_acc: 0.6037\n",
            "Epoch 15/15\n",
            "314/314 [==============================] - 21s 67ms/step - loss: 0.8002 - acc: 0.6980 - val_loss: 1.1265 - val_acc: 0.5837\n",
            "113/113 [==============================] - 1s 11ms/step - loss: 1.1071 - acc: 0.5968\n",
            "113/113 [==============================] - 1s 9ms/step - loss: 1.1555 - acc: 0.5726\n"
          ],
          "name": "stdout"
        },
        {
          "output_type": "display_data",
          "data": {
            "text/html": [
              "<br/>Waiting for W&B process to finish, PID 5304<br/>Program failed with code 1.  Press ctrl-c to abort syncing."
            ],
            "text/plain": [
              "<IPython.core.display.HTML object>"
            ]
          },
          "metadata": {
            "tags": []
          }
        },
        {
          "output_type": "display_data",
          "data": {
            "application/vnd.jupyter.widget-view+json": {
              "model_id": "93081787ff1d4b3aa01ad61375a39732",
              "version_minor": 0,
              "version_major": 2
            },
            "text/plain": [
              "VBox(children=(Label(value=' 41.10MB of 41.10MB uploaded (0.00MB deduped)\\r'), FloatProgress(value=1.0, max=1.…"
            ]
          },
          "metadata": {
            "tags": []
          }
        },
        {
          "output_type": "display_data",
          "data": {
            "text/html": [
              "Find user logs for this run at: <code>/content/CV_DeepLearning/code/wandb/run-20210525_114712-3vhb7znl/logs/debug.log</code>"
            ],
            "text/plain": [
              "<IPython.core.display.HTML object>"
            ]
          },
          "metadata": {
            "tags": []
          }
        },
        {
          "output_type": "display_data",
          "data": {
            "text/html": [
              "Find internal logs for this run at: <code>/content/CV_DeepLearning/code/wandb/run-20210525_114712-3vhb7znl/logs/debug-internal.log</code>"
            ],
            "text/plain": [
              "<IPython.core.display.HTML object>"
            ]
          },
          "metadata": {
            "tags": []
          }
        },
        {
          "output_type": "display_data",
          "data": {
            "text/html": [
              "<h3>Run summary:</h3><br/><style>\n",
              "    table.wandb td:nth-child(1) { padding: 0 10px; text-align: right }\n",
              "    </style><table class=\"wandb\">\n",
              "<tr><td>epoch</td><td>14</td></tr><tr><td>loss</td><td>0.82043</td></tr><tr><td>acc</td><td>0.69044</td></tr><tr><td>val_loss</td><td>1.12649</td></tr><tr><td>val_acc</td><td>0.58365</td></tr><tr><td>_runtime</td><td>891</td></tr><tr><td>_timestamp</td><td>1621944123</td></tr><tr><td>_step</td><td>16</td></tr><tr><td>best_val_loss</td><td>1.0694</td></tr><tr><td>best_epoch</td><td>13</td></tr><tr><td>private_test_accuracy</td><td>0.59682</td></tr><tr><td>private_test_loss</td><td>1.10709</td></tr><tr><td>public_test_accuracy</td><td>0.57258</td></tr><tr><td>public_test_loss</td><td>1.15549</td></tr></table>"
            ],
            "text/plain": [
              "<IPython.core.display.HTML object>"
            ]
          },
          "metadata": {
            "tags": []
          }
        },
        {
          "output_type": "display_data",
          "data": {
            "text/html": [
              "<h3>Run history:</h3><br/><style>\n",
              "    table.wandb td:nth-child(1) { padding: 0 10px; text-align: right }\n",
              "    </style><table class=\"wandb\">\n",
              "<tr><td>epoch</td><td>▁▁▂▃▃▃▄▅▅▅▆▇▇▇█</td></tr><tr><td>loss</td><td>█▆▅▄▄▃▃▃▂▂▂▂▁▁▁</td></tr><tr><td>acc</td><td>▁▃▄▅▅▆▆▆▇▇▇▇███</td></tr><tr><td>val_loss</td><td>█▅▃▃▂▂▂▂▄▁▂▁▁▁▁</td></tr><tr><td>val_acc</td><td>▁▄▆▆▇▇▇▇▅█▇████</td></tr><tr><td>_runtime</td><td>▁▂▂▃▃▃▄▅▅▆▆▆▇▇███</td></tr><tr><td>_timestamp</td><td>▁▂▂▃▃▃▄▅▅▆▆▆▇▇███</td></tr><tr><td>_step</td><td>▁▁▂▂▃▃▄▄▅▅▅▆▆▇▇██</td></tr><tr><td>private_test_accuracy</td><td>▁</td></tr><tr><td>private_test_loss</td><td>▁</td></tr><tr><td>public_test_accuracy</td><td>▁</td></tr><tr><td>public_test_loss</td><td>▁</td></tr></table><br/>"
            ],
            "text/plain": [
              "<IPython.core.display.HTML object>"
            ]
          },
          "metadata": {
            "tags": []
          }
        },
        {
          "output_type": "display_data",
          "data": {
            "text/html": [
              "Synced 5 W&B file(s), 541 media file(s), 0 artifact file(s) and 1 other file(s)"
            ],
            "text/plain": [
              "<IPython.core.display.HTML object>"
            ]
          },
          "metadata": {
            "tags": []
          }
        },
        {
          "output_type": "display_data",
          "data": {
            "text/html": [
              "\n",
              "                    <br/>Synced <strong style=\"color:#cdcd00\">youthful-sweep-4</strong>: <a href=\"https://wandb.ai/mu_cv_cnn/mu-cv-assignment2/runs/3vhb7znl\" target=\"_blank\">https://wandb.ai/mu_cv_cnn/mu-cv-assignment2/runs/3vhb7znl</a><br/>\n",
              "                "
            ],
            "text/plain": [
              "<IPython.core.display.HTML object>"
            ]
          },
          "metadata": {
            "tags": []
          }
        },
        {
          "output_type": "stream",
          "text": [
            "Run 3vhb7znl errored: ValueError('The truth value of an array with more than one element is ambiguous. Use a.any() or a.all()')\n",
            "\u001b[34m\u001b[1mwandb\u001b[0m: \u001b[32m\u001b[41mERROR\u001b[0m Run 3vhb7znl errored: ValueError('The truth value of an array with more than one element is ambiguous. Use a.any() or a.all()')\n"
          ],
          "name": "stderr"
        }
      ]
    },
    {
      "cell_type": "markdown",
      "metadata": {
        "id": "_vq4Dbtu4asn"
      },
      "source": [
        "# Old code for Grid search"
      ]
    },
    {
      "cell_type": "code",
      "metadata": {
        "id": "7jAIxyLo7TJi"
      },
      "source": [
        "#params:\n",
        "import gc\n",
        "learning_rates = [0.0005]\n",
        "epochs = 15\n",
        "layer_1_filter = [64,128]\n",
        "layer_2_filter = [128,256]\n",
        "layer_3_filter = [256,512]\n",
        "layer_4_filter = [512,1028]\n",
        "dropout = [0,0.25,0.5]\n",
        "batchnorm = [True,False]\n",
        "number_runs = 0\n",
        "lz = 16\n",
        "\n",
        "for lr in learning_rates:\n",
        "  for l1 in layer_1_filter:\n",
        "    for l2 in layer_2_filter:\n",
        "      for l3 in layer_3_filter:\n",
        "        for l4 in layer_4_filter:\n",
        "          for bn in batchnorm:\n",
        "            for dr in dropout:\n",
        "              tf.keras.backend.clear_session()\n",
        "              if number_runs < 10:\n",
        "                number_runs += 1\n",
        "                continue\n",
        "              run = wandb.init(project='MU-CV-Assignment2',\n",
        "                              config={  # and include hyperparameters and metadata\n",
        "                                  \"learning_rate\": lr,\n",
        "                                  \"epochs\": epochs,\n",
        "                                  \"batch_size\": 64,\n",
        "                                  \"loss_function\": \"sparse_categorical_crossentropy\",\n",
        "                                  \"architecture\": \"CNN-4-Layers+\",\n",
        "                                  \"dataset\": \"FER-2013\",\n",
        "                                  \"layer_1_filter\": l1,\n",
        "                                  \"layer_2_filter\": l2,\n",
        "                                  \"layer_3_filter\": l3,\n",
        "                                  \"layer_4_filter\": l4,\n",
        "                                  \"layers\": lz,\n",
        "                                  \"dropout\": dr,\n",
        "                                  \"batchnorm\": bn\n",
        "                              },\n",
        "                              entity=\"mu_cv_cnn\")\n",
        "              #change name of the run to be more speaking:\n",
        "              wandb.run.name = \"C_\"+str(l1)+\"_\"+str(l2)+\"_\"+str(l3)+\"_\"+str(l4)+\"_D\"+\"256_512\"+\"_DR_\"+str(dr)+\"_BN_\"+str(bn)+\"_\"+str(number_runs)\n",
        "              #wandb.run.save()\n",
        "              config = wandb.config  # We'll use this to configure our experiment\n",
        "\n",
        "\n",
        "              \n",
        "\n",
        "\n",
        "              # Compile model like you usually do.\n",
        "              # Notice that we use config, so our metadata matches what gets executed\n",
        "              optimizer = tf.keras.optimizers.Adam(config.learning_rate) \n",
        "              model.compile(optimizer, config.loss_function, metrics=['acc'])\n",
        "\n",
        "              history = model.fit(X_train, y_train, epochs=config.epochs, \n",
        "                                  validation_data=(X_valid, y_valid),\n",
        "                                  batch_size = config.batch_size,\n",
        "                                  callbacks=[WandbCallback(),GarbageCollectorCallback()])\n",
        "              # Dont save images\n",
        "              #                   callbacks=[WandbCallback(data_type=\"image\", labels=y_train)])\n",
        "\n",
        "              loss, accuracy = model.evaluate(X_valid, y_valid)\n",
        "              print('Test Error Rate: ', round((1 - accuracy) * 100, 2))\n",
        "\n",
        "              # With wandb.log, we can easily pass in metrics as key-value pairs.\n",
        "              wandb.log({'Test Error Rate': round((1 - accuracy) * 100, 2)})\n",
        "\n",
        "              run.join()\n",
        "              number_runs += 1\n",
        "              del model\n",
        "              del history\n",
        "              gc.collect()"
      ],
      "execution_count": null,
      "outputs": []
    },
    {
      "cell_type": "code",
      "metadata": {
        "colab": {
          "base_uri": "https://localhost:8080/",
          "height": 600
        },
        "id": "Tf0cPYW4_uDe",
        "outputId": "59e47651-ae7e-4e0c-b76b-9da8d9ef41eb"
      },
      "source": [
        "wandb.init(job_type=\"analysis\")"
      ],
      "execution_count": null,
      "outputs": [
        {
          "output_type": "display_data",
          "data": {
            "text/html": [
              "\n",
              "                Tracking run with wandb version 0.10.30<br/>\n",
              "                Syncing run <strong style=\"color:#cdcd00\">eternal-sweep-3</strong> to <a href=\"https://wandb.ai\" target=\"_blank\">Weights & Biases</a> <a href=\"https://docs.wandb.com/integrations/jupyter.html\" target=\"_blank\">(Documentation)</a>.<br/>\n",
              "                Project page: <a href=\"https://wandb.ai/mu_cv_cnn/mu-cv-assignment2\" target=\"_blank\">https://wandb.ai/mu_cv_cnn/mu-cv-assignment2</a><br/>\n",
              "                Sweep page: <a href=\"https://wandb.ai/mu_cv_cnn/mu-cv-assignment2/sweeps/6llkfa0j\" target=\"_blank\">https://wandb.ai/mu_cv_cnn/mu-cv-assignment2/sweeps/6llkfa0j</a><br/>\n",
              "Run page: <a href=\"https://wandb.ai/mu_cv_cnn/mu-cv-assignment2/runs/gcjll3pq\" target=\"_blank\">https://wandb.ai/mu_cv_cnn/mu-cv-assignment2/runs/gcjll3pq</a><br/>\n",
              "                Run data is saved locally in <code>/content/CV_DeepLearning/code/wandb/run-20210525_100807-gcjll3pq</code><br/><br/>\n",
              "            "
            ],
            "text/plain": [
              "<IPython.core.display.HTML object>"
            ]
          },
          "metadata": {
            "tags": []
          }
        },
        {
          "output_type": "execute_result",
          "data": {
            "text/plain": [
              "<wandb.sdk.wandb_run.Run at 0x7fdbaeec2490>"
            ],
            "text/html": [
              "<h1>Run(gcjll3pq)</h1><iframe src=\"https://wandb.ai/mu_cv_cnn/mu-cv-assignment2/runs/gcjll3pq\" style=\"border:none;width:100%;height:400px\"></iframe>"
            ]
          },
          "metadata": {
            "tags": []
          },
          "execution_count": 28
        }
      ]
    },
    {
      "cell_type": "markdown",
      "metadata": {
        "id": "7NuBHQcy7RbG"
      },
      "source": [
        "# Code for plotting the comparison of different search strategies"
      ]
    },
    {
      "cell_type": "code",
      "metadata": {
        "id": "O-t0YqfN_QLw"
      },
      "source": [
        "import wandb\n",
        "api = wandb.Api()\n",
        "runs = api.runs(\"mu_cv_cnn/mu-cv-assignment2\")\n",
        "summary_list = [] \n",
        "config_list = [] \n",
        "name_list = [] \n",
        "for run in runs: \n",
        "    # run.summary are the output key/values like accuracy.  We call ._json_dict to omit large files \n",
        "    summary_list.append(run.summary._json_dict) \n",
        "\n",
        "    # run.config is the input metrics.  We remove special values that start with _.\n",
        "    config_list.append({k:v for k,v in run.config.items()}) \n",
        "\n",
        "    # run.name is the name of the run.\n",
        "    name_list.append(run.name)       \n",
        "\n",
        "import pandas as pd \n",
        "summary_df = pd.DataFrame.from_records(summary_list) \n",
        "config_df = pd.DataFrame.from_records(config_list) \n",
        "name_df = pd.DataFrame({'name': name_list}) \n",
        "all_df = pd.concat([name_df, config_df,summary_df], axis=1)"
      ],
      "execution_count": null,
      "outputs": []
    },
    {
      "cell_type": "code",
      "metadata": {
        "id": "gzjcsizF_6tP"
      },
      "source": [
        "all_df.to_csv(path+\"project.csv\")"
      ],
      "execution_count": null,
      "outputs": []
    },
    {
      "cell_type": "code",
      "metadata": {
        "colab": {
          "base_uri": "https://localhost:8080/"
        },
        "id": "0jq0MOc_ACG2",
        "outputId": "b7b4da11-0242-454e-bb06-976d46a7ec50"
      },
      "source": [
        "all_df.columns"
      ],
      "execution_count": null,
      "outputs": [
        {
          "output_type": "execute_result",
          "data": {
            "text/plain": [
              "Index(['name', 'epochs', 'dropout', 'batchnorm', 'batch_size', 'learning_rate',\n",
              "       'loss_function', 'layer_1_filter', 'layer_2_filter', 'layer_3_filter',\n",
              "       'layer_4_filter', 'layers', 'dataset', 'architecture', 'dropout_value',\n",
              "       'layer_1_filters', 'layer_2_filters', 'layer_3_filters',\n",
              "       'layer_4_filters', 'layer_5_filter', 'gradients/dense/bias.gradient',\n",
              "       'parameters/conv2d.weights', 'parameters/conv2d_1.weights',\n",
              "       'gradients/conv2d_3/kernel.gradient', 'parameters/conv2d.bias',\n",
              "       'parameters/dense_2.bias', 'gradients/dense_1/bias.gradient',\n",
              "       'gradients/batch_normalization/gamma.gradient', 'public_test_loss',\n",
              "       'gradients/batch_normalization_5/gamma.gradient',\n",
              "       'gradients/conv2d_1/kernel.gradient', 'gradients/dense/kernel.gradient',\n",
              "       'epoch', '_step', 'acc', 'gradients/conv2d_1/bias.gradient',\n",
              "       'gradients/batch_normalization_4/gamma.gradient', 'loss',\n",
              "       'gradients/conv2d_2/kernel.gradient',\n",
              "       'gradients/batch_normalization_3/beta.gradient',\n",
              "       'parameters/dense_1.bias',\n",
              "       'gradients/batch_normalization_2/gamma.gradient',\n",
              "       'parameters/dense.weights',\n",
              "       'gradients/batch_normalization_3/gamma.gradient',\n",
              "       'parameters/conv2d_3.bias', 'val_loss', 'examples', 'private_test_loss',\n",
              "       'parameters/conv2d_2.bias',\n",
              "       'gradients/batch_normalization_5/beta.gradient',\n",
              "       'parameters/conv2d_3.weights', 'gradients/conv2d/bias.gradient',\n",
              "       'private_test_accuracy', 'gradients/dense_2/kernel.gradient',\n",
              "       'best_val_loss', '_timestamp',\n",
              "       'gradients/batch_normalization_1/beta.gradient',\n",
              "       'parameters/conv2d_2.weights',\n",
              "       'gradients/batch_normalization_2/beta.gradient', '_runtime',\n",
              "       'gradients/dense_2/bias.gradient', 'val_acc',\n",
              "       'gradients/conv2d_3/bias.gradient',\n",
              "       'gradients/batch_normalization_1/gamma.gradient',\n",
              "       'gradients/conv2d/kernel.gradient', 'gradients/conv2d_2/bias.gradient',\n",
              "       'parameters/dense_2.weights',\n",
              "       'gradients/batch_normalization_4/beta.gradient',\n",
              "       'parameters/dense.bias', 'public_test_accuracy',\n",
              "       'parameters/dense_1.weights',\n",
              "       'gradients/batch_normalization/beta.gradient',\n",
              "       'gradients/dense_1/kernel.gradient', 'parameters/conv2d_1.bias',\n",
              "       'graph', 'best_epoch', 'lr', 'Test Error Rate'],\n",
              "      dtype='object')"
            ]
          },
          "metadata": {
            "tags": []
          },
          "execution_count": 4
        }
      ]
    },
    {
      "cell_type": "code",
      "metadata": {
        "id": "VaAHI9fXBbCW"
      },
      "source": [
        "import wandb\n",
        "api = wandb.Api()\n",
        "valid = api.sweep(\"mu_cv_cnn/mu-cv-assignment2/6llkfa0j\")\n",
        "bayes_dropout = api.sweep(\"mu_cv_cnn/mu-cv-assignment2/r588c1ll\")\n",
        "bayes= api.sweep(\"mu_cv_cnn/mu-cv-assignment2/9k18s8pr\")\n",
        "random = api.sweep(\"mu_cv_cnn/mu-cv-assignment2/zjl5q11e\")\n"
      ],
      "execution_count": null,
      "outputs": []
    },
    {
      "cell_type": "code",
      "metadata": {
        "colab": {
          "base_uri": "https://localhost:8080/"
        },
        "id": "m66W-lNBDTPt",
        "outputId": "402d2cd6-389e-4464-da88-96c08d3a4d4b"
      },
      "source": [
        "valid.runs"
      ],
      "execution_count": null,
      "outputs": [
        {
          "output_type": "execute_result",
          "data": {
            "text/plain": [
              "[<Run mu_cv_cnn/mu-cv-assignment2/p71wud18 (finished)>,\n",
              " <Run mu_cv_cnn/mu-cv-assignment2/5s5iphfl (finished)>]"
            ]
          },
          "metadata": {
            "tags": []
          },
          "execution_count": 6
        }
      ]
    },
    {
      "cell_type": "code",
      "metadata": {
        "id": "ZsWms5gODBCC"
      },
      "source": [
        "\n",
        "summary_list = [] \n",
        "config_list = [] \n",
        "name_list = [] \n",
        "for run in valid.runs: \n",
        "    # run.summary are the output key/values like accuracy.  We call ._json_dict to omit large files \n",
        "    summary_list.append(run.summary._json_dict) \n",
        "\n",
        "    # run.config is the input metrics.  We remove special values that start with _.\n",
        "    config_list.append({k:v for k,v in run.config.items()}) \n",
        "\n",
        "    # run.name is the name of the run.\n",
        "    name_list.append(run.name)       \n",
        "\n",
        "import pandas as pd \n",
        "summary_df = pd.DataFrame.from_records(summary_list) \n",
        "config_df = pd.DataFrame.from_records(config_list) \n",
        "name_df = pd.DataFrame({'name': name_list}) \n",
        "valid_df = pd.concat([name_df, config_df,summary_df], axis=1)"
      ],
      "execution_count": null,
      "outputs": []
    },
    {
      "cell_type": "code",
      "metadata": {
        "id": "UfViYimFDlze"
      },
      "source": [
        "\n",
        "summary_list = [] \n",
        "config_list = [] \n",
        "name_list = [] \n",
        "for run in bayes_dropout.runs: \n",
        "    # run.summary are the output key/values like accuracy.  We call ._json_dict to omit large files \n",
        "    summary_list.append(run.summary._json_dict) \n",
        "\n",
        "    # run.config is the input metrics.  We remove special values that start with _.\n",
        "    config_list.append({k:v for k,v in run.config.items()}) \n",
        "\n",
        "    # run.name is the name of the run.\n",
        "    name_list.append(run.name)       \n",
        "\n",
        "import pandas as pd \n",
        "summary_df = pd.DataFrame.from_records(summary_list) \n",
        "config_df = pd.DataFrame.from_records(config_list) \n",
        "name_df = pd.DataFrame({'name': name_list}) \n",
        "bayes_dropout_df = pd.concat([name_df, config_df,summary_df], axis=1)\n",
        "\n",
        "summary_list = [] \n",
        "config_list = [] \n",
        "name_list = [] \n",
        "for run in bayes.runs: \n",
        "    # run.summary are the output key/values like accuracy.  We call ._json_dict to omit large files \n",
        "    summary_list.append(run.summary._json_dict) \n",
        "\n",
        "    # run.config is the input metrics.  We remove special values that start with _.\n",
        "    config_list.append({k:v for k,v in run.config.items()}) \n",
        "\n",
        "    # run.name is the name of the run.\n",
        "    name_list.append(run.name)       \n",
        "\n",
        "import pandas as pd \n",
        "summary_df = pd.DataFrame.from_records(summary_list) \n",
        "config_df = pd.DataFrame.from_records(config_list) \n",
        "name_df = pd.DataFrame({'name': name_list}) \n",
        "bayes_df = pd.concat([name_df, config_df,summary_df], axis=1)\n",
        "\n",
        "summary_list = [] \n",
        "config_list = [] \n",
        "name_list = [] \n",
        "for run in random.runs: \n",
        "    # run.summary are the output key/values like accuracy.  We call ._json_dict to omit large files \n",
        "    summary_list.append(run.summary._json_dict) \n",
        "\n",
        "    # run.config is the input metrics.  We remove special values that start with _.\n",
        "    config_list.append({k:v for k,v in run.config.items()}) \n",
        "\n",
        "    # run.name is the name of the run.\n",
        "    name_list.append(run.name)       \n",
        "\n",
        "import pandas as pd \n",
        "summary_df = pd.DataFrame.from_records(summary_list) \n",
        "config_df = pd.DataFrame.from_records(config_list) \n",
        "name_df = pd.DataFrame({'name': name_list}) \n",
        "random_df = pd.concat([name_df, config_df,summary_df], axis=1)"
      ],
      "execution_count": null,
      "outputs": []
    },
    {
      "cell_type": "code",
      "metadata": {
        "id": "0A7Bt2VOEt5t"
      },
      "source": [
        "bayes_df[\"sweep\"]=\"bayes\"\n",
        "random_df[\"sweep\"]=\"random\""
      ],
      "execution_count": null,
      "outputs": []
    },
    {
      "cell_type": "code",
      "metadata": {
        "id": "FqtXTsSJEM8y"
      },
      "source": [
        " frames = [bayes_df, random_df]\n",
        "\n",
        "result = pd.concat(frames)"
      ],
      "execution_count": null,
      "outputs": []
    },
    {
      "cell_type": "code",
      "metadata": {
        "colab": {
          "base_uri": "https://localhost:8080/"
        },
        "id": "Z68xb1L2E0KP",
        "outputId": "a9ead536-5b49-4c0e-b38e-97ff34dece1b"
      },
      "source": [
        "result[\"sweep\"]"
      ],
      "execution_count": null,
      "outputs": [
        {
          "output_type": "execute_result",
          "data": {
            "text/plain": [
              "0      bayes\n",
              "1      bayes\n",
              "2      bayes\n",
              "3      bayes\n",
              "4      bayes\n",
              "5      bayes\n",
              "6      bayes\n",
              "7      bayes\n",
              "8      bayes\n",
              "9      bayes\n",
              "10     bayes\n",
              "11     bayes\n",
              "12     bayes\n",
              "13     bayes\n",
              "14     bayes\n",
              "0     random\n",
              "1     random\n",
              "2     random\n",
              "3     random\n",
              "4     random\n",
              "5     random\n",
              "6     random\n",
              "7     random\n",
              "8     random\n",
              "9     random\n",
              "10    random\n",
              "11    random\n",
              "12    random\n",
              "13    random\n",
              "14    random\n",
              "Name: sweep, dtype: object"
            ]
          },
          "metadata": {
            "tags": []
          },
          "execution_count": 12
        }
      ]
    },
    {
      "cell_type": "code",
      "metadata": {
        "colab": {
          "base_uri": "https://localhost:8080/",
          "height": 542
        },
        "id": "Pk9foDS2EfCh",
        "outputId": "d9345c75-8e01-433f-8de1-7e45ec17538a"
      },
      "source": [
        "import plotly.express as px\n",
        "fig = px.scatter(result, x=result.index, y=\"val_acc\", color=\"sweep\",\n",
        "                 hover_data=['dropout',\n",
        "                             'layer_1_filter',\n",
        "                             'layer_2_filter',\n",
        "                             'layer_3_filter',\n",
        "                             'layer_4_filter',\n",
        "                             'batchnorm',], template=\"plotly_white\",\n",
        "                 labels={\n",
        "                     \"val_acc\": \"Validation accuracy\",\n",
        "                     \"x\": \"# run\"\n",
        "                 })\n",
        "fig.show()"
      ],
      "execution_count": null,
      "outputs": [
        {
          "output_type": "display_data",
          "data": {
            "text/html": [
              "<html>\n",
              "<head><meta charset=\"utf-8\" /></head>\n",
              "<body>\n",
              "    <div>\n",
              "            <script src=\"https://cdnjs.cloudflare.com/ajax/libs/mathjax/2.7.5/MathJax.js?config=TeX-AMS-MML_SVG\"></script><script type=\"text/javascript\">if (window.MathJax) {MathJax.Hub.Config({SVG: {font: \"STIX-Web\"}});}</script>\n",
              "                <script type=\"text/javascript\">window.PlotlyConfig = {MathJaxConfig: 'local'};</script>\n",
              "        <script src=\"https://cdn.plot.ly/plotly-latest.min.js\"></script>    \n",
              "            <div id=\"6296afa5-3b3b-45d4-8486-4efd7c33c45f\" class=\"plotly-graph-div\" style=\"height:525px; width:100%;\"></div>\n",
              "            <script type=\"text/javascript\">\n",
              "                \n",
              "                    window.PLOTLYENV=window.PLOTLYENV || {};\n",
              "                    \n",
              "                if (document.getElementById(\"6296afa5-3b3b-45d4-8486-4efd7c33c45f\")) {\n",
              "                    Plotly.newPlot(\n",
              "                        '6296afa5-3b3b-45d4-8486-4efd7c33c45f',\n",
              "                        [{\"customdata\": [[0.0, 64.0, 256.0, 256.0, 512.0, 0.0], [0.25, 64.0, 512.0, 128.0, 256.0, 1.0], [0.5, 64.0, 1028.0, 512.0, 128.0, 1.0], [0.25, 128.0, 1028.0, 128.0, 256.0, 0.0], [0.5, 64.0, 128.0, 1028.0, 128.0, 0.0], [0.0, 128.0, 128.0, 256.0, 512.0, 1.0], [0.5, 128.0, 512.0, 1028.0, 128.0, 0.0], [0.0, 128.0, 128.0, 1028.0, 256.0, 1.0], [0.5, 64.0, 256.0, 512.0, 256.0, 0.0], [0.25, 128.0, 512.0, 256.0, 256.0, 0.0], [0.25, 64.0, 1028.0, 512.0, 512.0, 0.0], [0.25, 128.0, 256.0, 128.0, 512.0, 0.0], [0.25, 64.0, 256.0, 1028.0, 512.0, 0.0], [0.0, 128.0, 1028.0, 256.0, 512.0, 0.0], [0.5, 64.0, 256.0, 128.0, 512.0, 1.0]], \"hoverlabel\": {\"namelength\": 0}, \"hovertemplate\": \"sweep=bayes<br># run=%{x}<br>Validation accuracy=%{y}<br>dropout=%{customdata[0]}<br>layer_1_filter=%{customdata[1]}<br>layer_2_filter=%{customdata[2]}<br>layer_3_filter=%{customdata[3]}<br>layer_4_filter=%{customdata[4]}<br>batchnorm=%{customdata[5]}\", \"legendgroup\": \"sweep=bayes\", \"marker\": {\"color\": \"#636efa\", \"symbol\": \"circle\"}, \"mode\": \"markers\", \"name\": \"sweep=bayes\", \"showlegend\": true, \"type\": \"scatter\", \"x\": [0, 1, 2, 3, 4, 5, 6, 7, 8, 9, 10, 11, 12, 13, 14], \"xaxis\": \"x\", \"y\": [null, null, null, 0.2448979616165161, 0.2448979616165161, 0.2307692319154739, 0.2448979616165161, 0.2715855538845062, 0.2594914734363556, 0.5913154482841492, 0.5977011322975159, 0.5851619839668274, 0.5800533890724182, 0.5604318976402283, 0.5307093858718872], \"yaxis\": \"y\"}, {\"customdata\": [[0.0, 128.0, 256.0, 512.0, 256.0, 1.0], [0.25, 128.0, 512.0, 512.0, 128.0, 1.0], [0.25, 64.0, 512.0, 1028.0, 1028.0, 1.0], [0.0, 64.0, 1028.0, 256.0, 128.0, 1.0], [0.5, 64.0, 128.0, 256.0, 128.0, 1.0], [0.25, 64.0, 128.0, 256.0, 256.0, 1.0], [0.25, 128.0, 128.0, 128.0, 1028.0, 0.0], [0.5, 128.0, 256.0, 1028.0, 256.0, 1.0], [0.25, 128.0, 256.0, 512.0, 256.0, 0.0], [0.25, 128.0, 1028.0, 256.0, 1028.0, 0.0], [0.25, 128.0, 512.0, 1028.0, 256.0, 0.0], [0.25, 64.0, 256.0, 128.0, 256.0, 0.0], [0.5, 128.0, 512.0, 1028.0, 1028.0, 1.0], [0.0, 64.0, 128.0, 256.0, 128.0, 1.0], [0.0, 64.0, 256.0, 128.0, 1028.0, 1.0]], \"hoverlabel\": {\"namelength\": 0}, \"hovertemplate\": \"sweep=random<br># run=%{x}<br>Validation accuracy=%{y}<br>dropout=%{customdata[0]}<br>layer_1_filter=%{customdata[1]}<br>layer_2_filter=%{customdata[2]}<br>layer_3_filter=%{customdata[3]}<br>layer_4_filter=%{customdata[4]}<br>batchnorm=%{customdata[5]}\", \"legendgroup\": \"sweep=random\", \"marker\": {\"color\": \"#EF553B\", \"symbol\": \"circle\"}, \"mode\": \"markers\", \"name\": \"sweep=random\", \"showlegend\": true, \"type\": \"scatter\", \"x\": [0, 1, 2, 3, 4, 5, 6, 7, 8, 9, 10, 11, 12, 13, 14], \"xaxis\": \"x\", \"y\": [0.5137583017349243, 0.5662370920181274, 0.5728549957275391, 0.49146637320518494, 0.4779983758926392, 0.5520724654197693, 0.5865551829338074, 0.5373272895812988, 0.6057122945785522, 0.592476487159729, 0.5944502353668213, 0.5834203958511353, 0.5729711055755615, 0.4603506326675415, 0.5458028316497803], \"yaxis\": \"y\"}],\n",
              "                        {\"legend\": {\"tracegroupgap\": 0}, \"margin\": {\"t\": 60}, \"template\": {\"data\": {\"bar\": [{\"error_x\": {\"color\": \"#2a3f5f\"}, \"error_y\": {\"color\": \"#2a3f5f\"}, \"marker\": {\"line\": {\"color\": \"white\", \"width\": 0.5}}, \"type\": \"bar\"}], \"barpolar\": [{\"marker\": {\"line\": {\"color\": \"white\", \"width\": 0.5}}, \"type\": \"barpolar\"}], \"carpet\": [{\"aaxis\": {\"endlinecolor\": \"#2a3f5f\", \"gridcolor\": \"#C8D4E3\", \"linecolor\": \"#C8D4E3\", \"minorgridcolor\": \"#C8D4E3\", \"startlinecolor\": \"#2a3f5f\"}, \"baxis\": {\"endlinecolor\": \"#2a3f5f\", \"gridcolor\": \"#C8D4E3\", \"linecolor\": \"#C8D4E3\", \"minorgridcolor\": \"#C8D4E3\", \"startlinecolor\": \"#2a3f5f\"}, \"type\": \"carpet\"}], \"choropleth\": [{\"colorbar\": {\"outlinewidth\": 0, \"ticks\": \"\"}, \"type\": \"choropleth\"}], \"contour\": [{\"colorbar\": {\"outlinewidth\": 0, \"ticks\": \"\"}, \"colorscale\": [[0.0, \"#0d0887\"], [0.1111111111111111, \"#46039f\"], [0.2222222222222222, \"#7201a8\"], [0.3333333333333333, \"#9c179e\"], [0.4444444444444444, \"#bd3786\"], [0.5555555555555556, \"#d8576b\"], [0.6666666666666666, \"#ed7953\"], [0.7777777777777778, \"#fb9f3a\"], [0.8888888888888888, \"#fdca26\"], [1.0, \"#f0f921\"]], \"type\": \"contour\"}], \"contourcarpet\": [{\"colorbar\": {\"outlinewidth\": 0, \"ticks\": \"\"}, \"type\": \"contourcarpet\"}], \"heatmap\": [{\"colorbar\": {\"outlinewidth\": 0, \"ticks\": \"\"}, \"colorscale\": [[0.0, \"#0d0887\"], [0.1111111111111111, \"#46039f\"], [0.2222222222222222, \"#7201a8\"], [0.3333333333333333, \"#9c179e\"], [0.4444444444444444, \"#bd3786\"], [0.5555555555555556, \"#d8576b\"], [0.6666666666666666, \"#ed7953\"], [0.7777777777777778, \"#fb9f3a\"], [0.8888888888888888, \"#fdca26\"], [1.0, \"#f0f921\"]], \"type\": \"heatmap\"}], \"heatmapgl\": [{\"colorbar\": {\"outlinewidth\": 0, \"ticks\": \"\"}, \"colorscale\": [[0.0, \"#0d0887\"], [0.1111111111111111, \"#46039f\"], [0.2222222222222222, \"#7201a8\"], [0.3333333333333333, \"#9c179e\"], [0.4444444444444444, \"#bd3786\"], [0.5555555555555556, \"#d8576b\"], [0.6666666666666666, \"#ed7953\"], [0.7777777777777778, \"#fb9f3a\"], [0.8888888888888888, \"#fdca26\"], [1.0, \"#f0f921\"]], \"type\": \"heatmapgl\"}], \"histogram\": [{\"marker\": {\"colorbar\": {\"outlinewidth\": 0, \"ticks\": \"\"}}, \"type\": \"histogram\"}], \"histogram2d\": [{\"colorbar\": {\"outlinewidth\": 0, \"ticks\": \"\"}, \"colorscale\": [[0.0, \"#0d0887\"], [0.1111111111111111, \"#46039f\"], [0.2222222222222222, \"#7201a8\"], [0.3333333333333333, \"#9c179e\"], [0.4444444444444444, \"#bd3786\"], [0.5555555555555556, \"#d8576b\"], [0.6666666666666666, \"#ed7953\"], [0.7777777777777778, \"#fb9f3a\"], [0.8888888888888888, \"#fdca26\"], [1.0, \"#f0f921\"]], \"type\": \"histogram2d\"}], \"histogram2dcontour\": [{\"colorbar\": {\"outlinewidth\": 0, \"ticks\": \"\"}, \"colorscale\": [[0.0, \"#0d0887\"], [0.1111111111111111, \"#46039f\"], [0.2222222222222222, \"#7201a8\"], [0.3333333333333333, \"#9c179e\"], [0.4444444444444444, \"#bd3786\"], [0.5555555555555556, \"#d8576b\"], [0.6666666666666666, \"#ed7953\"], [0.7777777777777778, \"#fb9f3a\"], [0.8888888888888888, \"#fdca26\"], [1.0, \"#f0f921\"]], \"type\": \"histogram2dcontour\"}], \"mesh3d\": [{\"colorbar\": {\"outlinewidth\": 0, \"ticks\": \"\"}, \"type\": \"mesh3d\"}], \"parcoords\": [{\"line\": {\"colorbar\": {\"outlinewidth\": 0, \"ticks\": \"\"}}, \"type\": \"parcoords\"}], \"pie\": [{\"automargin\": true, \"type\": \"pie\"}], \"scatter\": [{\"marker\": {\"colorbar\": {\"outlinewidth\": 0, \"ticks\": \"\"}}, \"type\": \"scatter\"}], \"scatter3d\": [{\"line\": {\"colorbar\": {\"outlinewidth\": 0, \"ticks\": \"\"}}, \"marker\": {\"colorbar\": {\"outlinewidth\": 0, \"ticks\": \"\"}}, \"type\": \"scatter3d\"}], \"scattercarpet\": [{\"marker\": {\"colorbar\": {\"outlinewidth\": 0, \"ticks\": \"\"}}, \"type\": \"scattercarpet\"}], \"scattergeo\": [{\"marker\": {\"colorbar\": {\"outlinewidth\": 0, \"ticks\": \"\"}}, \"type\": \"scattergeo\"}], \"scattergl\": [{\"marker\": {\"colorbar\": {\"outlinewidth\": 0, \"ticks\": \"\"}}, \"type\": \"scattergl\"}], \"scattermapbox\": [{\"marker\": {\"colorbar\": {\"outlinewidth\": 0, \"ticks\": \"\"}}, \"type\": \"scattermapbox\"}], \"scatterpolar\": [{\"marker\": {\"colorbar\": {\"outlinewidth\": 0, \"ticks\": \"\"}}, \"type\": \"scatterpolar\"}], \"scatterpolargl\": [{\"marker\": {\"colorbar\": {\"outlinewidth\": 0, \"ticks\": \"\"}}, \"type\": \"scatterpolargl\"}], \"scatterternary\": [{\"marker\": {\"colorbar\": {\"outlinewidth\": 0, \"ticks\": \"\"}}, \"type\": \"scatterternary\"}], \"surface\": [{\"colorbar\": {\"outlinewidth\": 0, \"ticks\": \"\"}, \"colorscale\": [[0.0, \"#0d0887\"], [0.1111111111111111, \"#46039f\"], [0.2222222222222222, \"#7201a8\"], [0.3333333333333333, \"#9c179e\"], [0.4444444444444444, \"#bd3786\"], [0.5555555555555556, \"#d8576b\"], [0.6666666666666666, \"#ed7953\"], [0.7777777777777778, \"#fb9f3a\"], [0.8888888888888888, \"#fdca26\"], [1.0, \"#f0f921\"]], \"type\": \"surface\"}], \"table\": [{\"cells\": {\"fill\": {\"color\": \"#EBF0F8\"}, \"line\": {\"color\": \"white\"}}, \"header\": {\"fill\": {\"color\": \"#C8D4E3\"}, \"line\": {\"color\": \"white\"}}, \"type\": \"table\"}]}, \"layout\": {\"annotationdefaults\": {\"arrowcolor\": \"#2a3f5f\", \"arrowhead\": 0, \"arrowwidth\": 1}, \"coloraxis\": {\"colorbar\": {\"outlinewidth\": 0, \"ticks\": \"\"}}, \"colorscale\": {\"diverging\": [[0, \"#8e0152\"], [0.1, \"#c51b7d\"], [0.2, \"#de77ae\"], [0.3, \"#f1b6da\"], [0.4, \"#fde0ef\"], [0.5, \"#f7f7f7\"], [0.6, \"#e6f5d0\"], [0.7, \"#b8e186\"], [0.8, \"#7fbc41\"], [0.9, \"#4d9221\"], [1, \"#276419\"]], \"sequential\": [[0.0, \"#0d0887\"], [0.1111111111111111, \"#46039f\"], [0.2222222222222222, \"#7201a8\"], [0.3333333333333333, \"#9c179e\"], [0.4444444444444444, \"#bd3786\"], [0.5555555555555556, \"#d8576b\"], [0.6666666666666666, \"#ed7953\"], [0.7777777777777778, \"#fb9f3a\"], [0.8888888888888888, \"#fdca26\"], [1.0, \"#f0f921\"]], \"sequentialminus\": [[0.0, \"#0d0887\"], [0.1111111111111111, \"#46039f\"], [0.2222222222222222, \"#7201a8\"], [0.3333333333333333, \"#9c179e\"], [0.4444444444444444, \"#bd3786\"], [0.5555555555555556, \"#d8576b\"], [0.6666666666666666, \"#ed7953\"], [0.7777777777777778, \"#fb9f3a\"], [0.8888888888888888, \"#fdca26\"], [1.0, \"#f0f921\"]]}, \"colorway\": [\"#636efa\", \"#EF553B\", \"#00cc96\", \"#ab63fa\", \"#FFA15A\", \"#19d3f3\", \"#FF6692\", \"#B6E880\", \"#FF97FF\", \"#FECB52\"], \"font\": {\"color\": \"#2a3f5f\"}, \"geo\": {\"bgcolor\": \"white\", \"lakecolor\": \"white\", \"landcolor\": \"white\", \"showlakes\": true, \"showland\": true, \"subunitcolor\": \"#C8D4E3\"}, \"hoverlabel\": {\"align\": \"left\"}, \"hovermode\": \"closest\", \"mapbox\": {\"style\": \"light\"}, \"paper_bgcolor\": \"white\", \"plot_bgcolor\": \"white\", \"polar\": {\"angularaxis\": {\"gridcolor\": \"#EBF0F8\", \"linecolor\": \"#EBF0F8\", \"ticks\": \"\"}, \"bgcolor\": \"white\", \"radialaxis\": {\"gridcolor\": \"#EBF0F8\", \"linecolor\": \"#EBF0F8\", \"ticks\": \"\"}}, \"scene\": {\"xaxis\": {\"backgroundcolor\": \"white\", \"gridcolor\": \"#DFE8F3\", \"gridwidth\": 2, \"linecolor\": \"#EBF0F8\", \"showbackground\": true, \"ticks\": \"\", \"zerolinecolor\": \"#EBF0F8\"}, \"yaxis\": {\"backgroundcolor\": \"white\", \"gridcolor\": \"#DFE8F3\", \"gridwidth\": 2, \"linecolor\": \"#EBF0F8\", \"showbackground\": true, \"ticks\": \"\", \"zerolinecolor\": \"#EBF0F8\"}, \"zaxis\": {\"backgroundcolor\": \"white\", \"gridcolor\": \"#DFE8F3\", \"gridwidth\": 2, \"linecolor\": \"#EBF0F8\", \"showbackground\": true, \"ticks\": \"\", \"zerolinecolor\": \"#EBF0F8\"}}, \"shapedefaults\": {\"line\": {\"color\": \"#2a3f5f\"}}, \"ternary\": {\"aaxis\": {\"gridcolor\": \"#DFE8F3\", \"linecolor\": \"#A2B1C6\", \"ticks\": \"\"}, \"baxis\": {\"gridcolor\": \"#DFE8F3\", \"linecolor\": \"#A2B1C6\", \"ticks\": \"\"}, \"bgcolor\": \"white\", \"caxis\": {\"gridcolor\": \"#DFE8F3\", \"linecolor\": \"#A2B1C6\", \"ticks\": \"\"}}, \"title\": {\"x\": 0.05}, \"xaxis\": {\"automargin\": true, \"gridcolor\": \"#EBF0F8\", \"linecolor\": \"#EBF0F8\", \"ticks\": \"\", \"title\": {\"standoff\": 15}, \"zerolinecolor\": \"#EBF0F8\", \"zerolinewidth\": 2}, \"yaxis\": {\"automargin\": true, \"gridcolor\": \"#EBF0F8\", \"linecolor\": \"#EBF0F8\", \"ticks\": \"\", \"title\": {\"standoff\": 15}, \"zerolinecolor\": \"#EBF0F8\", \"zerolinewidth\": 2}}}, \"xaxis\": {\"anchor\": \"y\", \"domain\": [0.0, 1.0], \"title\": {\"text\": \"# run\"}}, \"yaxis\": {\"anchor\": \"x\", \"domain\": [0.0, 1.0], \"title\": {\"text\": \"Validation accuracy\"}}},\n",
              "                        {\"responsive\": true}\n",
              "                    ).then(function(){\n",
              "                            \n",
              "var gd = document.getElementById('6296afa5-3b3b-45d4-8486-4efd7c33c45f');\n",
              "var x = new MutationObserver(function (mutations, observer) {{\n",
              "        var display = window.getComputedStyle(gd).display;\n",
              "        if (!display || display === 'none') {{\n",
              "            console.log([gd, 'removed!']);\n",
              "            Plotly.purge(gd);\n",
              "            observer.disconnect();\n",
              "        }}\n",
              "}});\n",
              "\n",
              "// Listen for the removal of the full notebook cells\n",
              "var notebookContainer = gd.closest('#notebook-container');\n",
              "if (notebookContainer) {{\n",
              "    x.observe(notebookContainer, {childList: true});\n",
              "}}\n",
              "\n",
              "// Listen for the clearing of the current output cell\n",
              "var outputEl = gd.closest('.output');\n",
              "if (outputEl) {{\n",
              "    x.observe(outputEl, {childList: true});\n",
              "}}\n",
              "\n",
              "                        })\n",
              "                };\n",
              "                \n",
              "            </script>\n",
              "        </div>\n",
              "</body>\n",
              "</html>"
            ]
          },
          "metadata": {
            "tags": []
          }
        }
      ]
    },
    {
      "cell_type": "code",
      "metadata": {
        "id": "eWQVAktkJIPD"
      },
      "source": [
        "wandb.log({\"chart\": fig})"
      ],
      "execution_count": null,
      "outputs": []
    }
  ]
}