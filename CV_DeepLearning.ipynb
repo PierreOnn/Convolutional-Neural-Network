{
  "nbformat": 4,
  "nbformat_minor": 0,
  "metadata": {
    "colab": {
      "name": "CV_DeepLearning",
      "provenance": [],
      "toc_visible": true,
      "mount_file_id": "1exf4MHWokE9ZfODXmwa7R-TWIfr56qs4",
      "authorship_tag": "ABX9TyP6YbRrwCI27O4PJzq58PBb",
      "include_colab_link": true
    },
    "kernelspec": {
      "name": "python3",
      "display_name": "Python 3"
    },
    "language_info": {
      "name": "python"
    },
    "accelerator": "GPU",
    "widgets": {
      "application/vnd.jupyter.widget-state+json": {
        "0202ee7c3b9c4f10bea21748f45d7d1e": {
          "model_module": "@jupyter-widgets/controls",
          "model_name": "VBoxModel",
          "state": {
            "_view_name": "VBoxView",
            "_dom_classes": [],
            "_model_name": "VBoxModel",
            "_view_module": "@jupyter-widgets/controls",
            "_model_module_version": "1.5.0",
            "_view_count": null,
            "_view_module_version": "1.5.0",
            "box_style": "",
            "layout": "IPY_MODEL_a3b81a0657ba4fbeb1dd4d1b78089311",
            "_model_module": "@jupyter-widgets/controls",
            "children": [
              "IPY_MODEL_68391ae8fc3e4456a3207a2e204f2210",
              "IPY_MODEL_fb40b0b4bf1f4d55aa569c36553c8b8f"
            ]
          }
        },
        "a3b81a0657ba4fbeb1dd4d1b78089311": {
          "model_module": "@jupyter-widgets/base",
          "model_name": "LayoutModel",
          "state": {
            "_view_name": "LayoutView",
            "grid_template_rows": null,
            "right": null,
            "justify_content": null,
            "_view_module": "@jupyter-widgets/base",
            "overflow": null,
            "_model_module_version": "1.2.0",
            "_view_count": null,
            "flex_flow": null,
            "width": null,
            "min_width": null,
            "border": null,
            "align_items": null,
            "bottom": null,
            "_model_module": "@jupyter-widgets/base",
            "top": null,
            "grid_column": null,
            "overflow_y": null,
            "overflow_x": null,
            "grid_auto_flow": null,
            "grid_area": null,
            "grid_template_columns": null,
            "flex": null,
            "_model_name": "LayoutModel",
            "justify_items": null,
            "grid_row": null,
            "max_height": null,
            "align_content": null,
            "visibility": null,
            "align_self": null,
            "height": null,
            "min_height": null,
            "padding": null,
            "grid_auto_rows": null,
            "grid_gap": null,
            "max_width": null,
            "order": null,
            "_view_module_version": "1.2.0",
            "grid_template_areas": null,
            "object_position": null,
            "object_fit": null,
            "grid_auto_columns": null,
            "margin": null,
            "display": null,
            "left": null
          }
        },
        "68391ae8fc3e4456a3207a2e204f2210": {
          "model_module": "@jupyter-widgets/controls",
          "model_name": "LabelModel",
          "state": {
            "_view_name": "LabelView",
            "style": "IPY_MODEL_492b7a211b524833ad49c13e9b76dce0",
            "_dom_classes": [],
            "description": "",
            "_model_name": "LabelModel",
            "placeholder": "​",
            "_view_module": "@jupyter-widgets/controls",
            "_model_module_version": "1.5.0",
            "value": " 12.33MB of 12.33MB uploaded (0.00MB deduped)\r",
            "_view_count": null,
            "_view_module_version": "1.5.0",
            "description_tooltip": null,
            "_model_module": "@jupyter-widgets/controls",
            "layout": "IPY_MODEL_3bab95d9a03b4e34a0f016168637e06b"
          }
        },
        "fb40b0b4bf1f4d55aa569c36553c8b8f": {
          "model_module": "@jupyter-widgets/controls",
          "model_name": "FloatProgressModel",
          "state": {
            "_view_name": "ProgressView",
            "style": "IPY_MODEL_21527b671fb046ca8b068b1a4eab3ee8",
            "_dom_classes": [],
            "description": "",
            "_model_name": "FloatProgressModel",
            "bar_style": "",
            "max": 1,
            "_view_module": "@jupyter-widgets/controls",
            "_model_module_version": "1.5.0",
            "value": 1,
            "_view_count": null,
            "_view_module_version": "1.5.0",
            "orientation": "horizontal",
            "min": 0,
            "description_tooltip": null,
            "_model_module": "@jupyter-widgets/controls",
            "layout": "IPY_MODEL_d11080d57b804a0ea880daef4fc53075"
          }
        },
        "492b7a211b524833ad49c13e9b76dce0": {
          "model_module": "@jupyter-widgets/controls",
          "model_name": "DescriptionStyleModel",
          "state": {
            "_view_name": "StyleView",
            "_model_name": "DescriptionStyleModel",
            "description_width": "",
            "_view_module": "@jupyter-widgets/base",
            "_model_module_version": "1.5.0",
            "_view_count": null,
            "_view_module_version": "1.2.0",
            "_model_module": "@jupyter-widgets/controls"
          }
        },
        "3bab95d9a03b4e34a0f016168637e06b": {
          "model_module": "@jupyter-widgets/base",
          "model_name": "LayoutModel",
          "state": {
            "_view_name": "LayoutView",
            "grid_template_rows": null,
            "right": null,
            "justify_content": null,
            "_view_module": "@jupyter-widgets/base",
            "overflow": null,
            "_model_module_version": "1.2.0",
            "_view_count": null,
            "flex_flow": null,
            "width": null,
            "min_width": null,
            "border": null,
            "align_items": null,
            "bottom": null,
            "_model_module": "@jupyter-widgets/base",
            "top": null,
            "grid_column": null,
            "overflow_y": null,
            "overflow_x": null,
            "grid_auto_flow": null,
            "grid_area": null,
            "grid_template_columns": null,
            "flex": null,
            "_model_name": "LayoutModel",
            "justify_items": null,
            "grid_row": null,
            "max_height": null,
            "align_content": null,
            "visibility": null,
            "align_self": null,
            "height": null,
            "min_height": null,
            "padding": null,
            "grid_auto_rows": null,
            "grid_gap": null,
            "max_width": null,
            "order": null,
            "_view_module_version": "1.2.0",
            "grid_template_areas": null,
            "object_position": null,
            "object_fit": null,
            "grid_auto_columns": null,
            "margin": null,
            "display": null,
            "left": null
          }
        },
        "21527b671fb046ca8b068b1a4eab3ee8": {
          "model_module": "@jupyter-widgets/controls",
          "model_name": "ProgressStyleModel",
          "state": {
            "_view_name": "StyleView",
            "_model_name": "ProgressStyleModel",
            "description_width": "",
            "_view_module": "@jupyter-widgets/base",
            "_model_module_version": "1.5.0",
            "_view_count": null,
            "_view_module_version": "1.2.0",
            "bar_color": null,
            "_model_module": "@jupyter-widgets/controls"
          }
        },
        "d11080d57b804a0ea880daef4fc53075": {
          "model_module": "@jupyter-widgets/base",
          "model_name": "LayoutModel",
          "state": {
            "_view_name": "LayoutView",
            "grid_template_rows": null,
            "right": null,
            "justify_content": null,
            "_view_module": "@jupyter-widgets/base",
            "overflow": null,
            "_model_module_version": "1.2.0",
            "_view_count": null,
            "flex_flow": null,
            "width": null,
            "min_width": null,
            "border": null,
            "align_items": null,
            "bottom": null,
            "_model_module": "@jupyter-widgets/base",
            "top": null,
            "grid_column": null,
            "overflow_y": null,
            "overflow_x": null,
            "grid_auto_flow": null,
            "grid_area": null,
            "grid_template_columns": null,
            "flex": null,
            "_model_name": "LayoutModel",
            "justify_items": null,
            "grid_row": null,
            "max_height": null,
            "align_content": null,
            "visibility": null,
            "align_self": null,
            "height": null,
            "min_height": null,
            "padding": null,
            "grid_auto_rows": null,
            "grid_gap": null,
            "max_width": null,
            "order": null,
            "_view_module_version": "1.2.0",
            "grid_template_areas": null,
            "object_position": null,
            "object_fit": null,
            "grid_auto_columns": null,
            "margin": null,
            "display": null,
            "left": null
          }
        }
      }
    }
  },
  "cells": [
    {
      "cell_type": "markdown",
      "metadata": {
        "id": "view-in-github",
        "colab_type": "text"
      },
      "source": [
        "<a href=\"https://colab.research.google.com/github/PrinceWallyy/CV_DeepLearning/blob/master/CV_DeepLearning.ipynb\" target=\"_parent\"><img src=\"https://colab.research.google.com/assets/colab-badge.svg\" alt=\"Open In Colab\"/></a>"
      ]
    },
    {
      "cell_type": "markdown",
      "metadata": {
        "id": "8-ZHyH8joVcx"
      },
      "source": [
        "# *Initialization*"
      ]
    },
    {
      "cell_type": "code",
      "metadata": {
        "id": "_C0HIqx3kJya"
      },
      "source": [
        "import math\n",
        "import numpy as np\n",
        "import pandas as pd\n",
        "from sklearn.model_selection import train_test_split\n",
        "import tensorflow as tf\n",
        "from tensorflow.keras import layers, models\n",
        "from keras.layers import BatchNormalization\n",
        "from keras.layers import Activation, Dropout\n",
        "import matplotlib.pyplot as plt\n",
        "import os"
      ],
      "execution_count": null,
      "outputs": []
    },
    {
      "cell_type": "code",
      "metadata": {
        "id": "XmVkQbw_q_07",
        "colab": {
          "base_uri": "https://localhost:8080/"
        },
        "outputId": "dc043693-9aae-445f-daa7-28e9264c5038"
      },
      "source": [
        "!pip install wandb\n",
        "import wandb\n",
        "from wandb.keras import WandbCallback\n",
        "!wandb login"
      ],
      "execution_count": null,
      "outputs": [
        {
          "output_type": "stream",
          "text": [
            "Collecting wandb\n",
            "\u001b[?25l  Downloading https://files.pythonhosted.org/packages/98/5f/45439b4767334b868e1c8c35b1b0ba3747d8c21be77b79f09eed7aa3c72b/wandb-0.10.30-py2.py3-none-any.whl (1.8MB)\n",
            "\u001b[K     |████████████████████████████████| 1.8MB 25.3MB/s \n",
            "\u001b[?25hCollecting shortuuid>=0.5.0\n",
            "  Downloading https://files.pythonhosted.org/packages/25/a6/2ecc1daa6a304e7f1b216f0896b26156b78e7c38e1211e9b798b4716c53d/shortuuid-1.0.1-py3-none-any.whl\n",
            "Collecting configparser>=3.8.1\n",
            "  Downloading https://files.pythonhosted.org/packages/fd/01/ff260a18caaf4457eb028c96eeb405c4a230ca06c8ec9c1379f813caa52e/configparser-5.0.2-py3-none-any.whl\n",
            "Requirement already satisfied: Click>=7.0 in /usr/local/lib/python3.7/dist-packages (from wandb) (8.0.0)\n",
            "Collecting sentry-sdk>=0.4.0\n",
            "\u001b[?25l  Downloading https://files.pythonhosted.org/packages/1c/4a/a54b254f67d8f4052338d54ebe90126f200693440a93ef76d254d581e3ec/sentry_sdk-1.1.0-py2.py3-none-any.whl (131kB)\n",
            "\u001b[K     |████████████████████████████████| 133kB 52.4MB/s \n",
            "\u001b[?25hCollecting GitPython>=1.0.0\n",
            "\u001b[?25l  Downloading https://files.pythonhosted.org/packages/27/da/6f6224fdfc47dab57881fe20c0d1bc3122be290198ba0bf26a953a045d92/GitPython-3.1.17-py3-none-any.whl (166kB)\n",
            "\u001b[K     |████████████████████████████████| 174kB 52.7MB/s \n",
            "\u001b[?25hCollecting docker-pycreds>=0.4.0\n",
            "  Downloading https://files.pythonhosted.org/packages/f5/e8/f6bd1eee09314e7e6dee49cbe2c5e22314ccdb38db16c9fc72d2fa80d054/docker_pycreds-0.4.0-py2.py3-none-any.whl\n",
            "Collecting subprocess32>=3.5.3\n",
            "\u001b[?25l  Downloading https://files.pythonhosted.org/packages/32/c8/564be4d12629b912ea431f1a50eb8b3b9d00f1a0b1ceff17f266be190007/subprocess32-3.5.4.tar.gz (97kB)\n",
            "\u001b[K     |████████████████████████████████| 102kB 14.9MB/s \n",
            "\u001b[?25hRequirement already satisfied: six>=1.13.0 in /usr/local/lib/python3.7/dist-packages (from wandb) (1.15.0)\n",
            "Requirement already satisfied: requests<3,>=2.0.0 in /usr/local/lib/python3.7/dist-packages (from wandb) (2.23.0)\n",
            "Requirement already satisfied: promise<3,>=2.0 in /usr/local/lib/python3.7/dist-packages (from wandb) (2.3)\n",
            "Requirement already satisfied: protobuf>=3.12.0 in /usr/local/lib/python3.7/dist-packages (from wandb) (3.12.4)\n",
            "Collecting pathtools\n",
            "  Downloading https://files.pythonhosted.org/packages/e7/7f/470d6fcdf23f9f3518f6b0b76be9df16dcc8630ad409947f8be2eb0ed13a/pathtools-0.1.2.tar.gz\n",
            "Requirement already satisfied: psutil>=5.0.0 in /usr/local/lib/python3.7/dist-packages (from wandb) (5.4.8)\n",
            "Requirement already satisfied: PyYAML in /usr/local/lib/python3.7/dist-packages (from wandb) (3.13)\n",
            "Requirement already satisfied: python-dateutil>=2.6.1 in /usr/local/lib/python3.7/dist-packages (from wandb) (2.8.1)\n",
            "Requirement already satisfied: urllib3>=1.10.0 in /usr/local/lib/python3.7/dist-packages (from sentry-sdk>=0.4.0->wandb) (1.24.3)\n",
            "Requirement already satisfied: certifi in /usr/local/lib/python3.7/dist-packages (from sentry-sdk>=0.4.0->wandb) (2020.12.5)\n",
            "Collecting gitdb<5,>=4.0.1\n",
            "\u001b[?25l  Downloading https://files.pythonhosted.org/packages/ea/e8/f414d1a4f0bbc668ed441f74f44c116d9816833a48bf81d22b697090dba8/gitdb-4.0.7-py3-none-any.whl (63kB)\n",
            "\u001b[K     |████████████████████████████████| 71kB 11.5MB/s \n",
            "\u001b[?25hRequirement already satisfied: typing-extensions>=3.7.4.0; python_version < \"3.8\" in /usr/local/lib/python3.7/dist-packages (from GitPython>=1.0.0->wandb) (3.7.4.3)\n",
            "Requirement already satisfied: chardet<4,>=3.0.2 in /usr/local/lib/python3.7/dist-packages (from requests<3,>=2.0.0->wandb) (3.0.4)\n",
            "Requirement already satisfied: idna<3,>=2.5 in /usr/local/lib/python3.7/dist-packages (from requests<3,>=2.0.0->wandb) (2.10)\n",
            "Requirement already satisfied: setuptools in /usr/local/lib/python3.7/dist-packages (from protobuf>=3.12.0->wandb) (56.1.0)\n",
            "Collecting smmap<5,>=3.0.1\n",
            "  Downloading https://files.pythonhosted.org/packages/68/ee/d540eb5e5996eb81c26ceffac6ee49041d473bc5125f2aa995cf51ec1cf1/smmap-4.0.0-py2.py3-none-any.whl\n",
            "Building wheels for collected packages: subprocess32, pathtools\n",
            "  Building wheel for subprocess32 (setup.py) ... \u001b[?25l\u001b[?25hdone\n",
            "  Created wheel for subprocess32: filename=subprocess32-3.5.4-cp37-none-any.whl size=6489 sha256=77294497728d32b6a4e5797bef0ac1859855fe6de7160e4349fd4cc308be521a\n",
            "  Stored in directory: /root/.cache/pip/wheels/68/39/1a/5e402bdfdf004af1786c8b853fd92f8c4a04f22aad179654d1\n",
            "  Building wheel for pathtools (setup.py) ... \u001b[?25l\u001b[?25hdone\n",
            "  Created wheel for pathtools: filename=pathtools-0.1.2-cp37-none-any.whl size=8786 sha256=e5af58d812e76a9bb7c928fa9451ecaff36030619b07dd8ec48bcd66db3b55cf\n",
            "  Stored in directory: /root/.cache/pip/wheels/0b/04/79/c3b0c3a0266a3cb4376da31e5bfe8bba0c489246968a68e843\n",
            "Successfully built subprocess32 pathtools\n",
            "Installing collected packages: shortuuid, configparser, sentry-sdk, smmap, gitdb, GitPython, docker-pycreds, subprocess32, pathtools, wandb\n",
            "Successfully installed GitPython-3.1.17 configparser-5.0.2 docker-pycreds-0.4.0 gitdb-4.0.7 pathtools-0.1.2 sentry-sdk-1.1.0 shortuuid-1.0.1 smmap-4.0.0 subprocess32-3.5.4 wandb-0.10.30\n",
            "\u001b[34m\u001b[1mwandb\u001b[0m: You can find your API key in your browser here: https://wandb.ai/authorize\n",
            "\u001b[34m\u001b[1mwandb\u001b[0m: Paste an API key from your profile and hit enter: \n",
            "\u001b[34m\u001b[1mwandb\u001b[0m: Appending key for api.wandb.ai to your netrc file: /root/.netrc\n"
          ],
          "name": "stdout"
        }
      ]
    },
    {
      "cell_type": "code",
      "metadata": {
        "id": "5mhfCC8ylT_i"
      },
      "source": [
        "os.environ['TF_CUDNN_DETERMINISTIC'] = '1'\n",
        "np.random.seed(42)\n",
        "tf.random.set_seed(42)"
      ],
      "execution_count": null,
      "outputs": []
    },
    {
      "cell_type": "code",
      "metadata": {
        "colab": {
          "base_uri": "https://localhost:8080/"
        },
        "id": "HTRkhahRqZpl",
        "outputId": "a35417ae-73c1-466f-dadb-f745d66a4ef6"
      },
      "source": [
        "from google.colab import drive\n",
        "drive.mount('/content/drive')"
      ],
      "execution_count": null,
      "outputs": [
        {
          "output_type": "stream",
          "text": [
            "Drive already mounted at /content/drive; to attempt to forcibly remount, call drive.mount(\"/content/drive\", force_remount=True).\n"
          ],
          "name": "stdout"
        }
      ]
    },
    {
      "cell_type": "markdown",
      "metadata": {
        "id": "hV00Ymusocj6"
      },
      "source": [
        "# Preprocess"
      ]
    },
    {
      "cell_type": "code",
      "metadata": {
        "id": "LTVhn378lr9-",
        "colab": {
          "base_uri": "https://localhost:8080/"
        },
        "outputId": "6d8940c3-d29f-4df7-aa7c-dc926d22b6cd"
      },
      "source": [
        "data = pd.read_csv('/content/drive/MyDrive/Assignment 2 - Deep Learning/data/fer2013.csv', delimiter=',')\n",
        "emotion_map = {\n",
        "    0: 'anger',\n",
        "    1: 'disgust',\n",
        "    2: 'fear',\n",
        "    3: 'happiness',\n",
        "    4: 'sadness',\n",
        "    5: 'surprise',\n",
        "    6: 'neutral'}\n",
        "\n",
        "df_train = data[data[\"Usage\"] == \"Training\"]\n",
        "df_test_public = data[data[\"Usage\"] == \"PublicTest\"]\n",
        "df_test_private = data[data[\"Usage\"] == \"PrivateTest\"]\n",
        "\n",
        "image_size = len(df_train['pixels'].iloc[0].split(' '))\n",
        "width = int(math.sqrt(image_size))\n",
        "height = int(math.sqrt(image_size))\n",
        "img_features = df_train['pixels'].apply(lambda x: np.array(x.split()).reshape(height, width, 1).astype('float32'))\n",
        "img_features = np.stack(img_features, axis=0)\n",
        "img_features = img_features / 255.0\n",
        "img_labels = np.array(df_train['emotion'])\n",
        "\n",
        "X_train, X_valid, y_train, y_valid = train_test_split(img_features, img_labels,\n",
        "                                                      shuffle=True, stratify=img_labels,\n",
        "                                                      test_size=0.2, random_state=42)\n",
        "print(X_train.shape, X_valid.shape, y_train.shape, y_valid.shape)"
      ],
      "execution_count": null,
      "outputs": [
        {
          "output_type": "stream",
          "text": [
            "(22967, 48, 48, 1) (5742, 48, 48, 1) (22967,) (5742,)\n"
          ],
          "name": "stdout"
        }
      ]
    },
    {
      "cell_type": "markdown",
      "metadata": {
        "id": "na8qExHtojH1"
      },
      "source": [
        "# CNN"
      ]
    },
    {
      "cell_type": "code",
      "metadata": {
        "id": "4UU1-UwLlXXq"
      },
      "source": [
        "class CNN():\n",
        "    def __init__(self, lr, lf, epoch, batch):\n",
        "        super(CNN, self).__init__()\n",
        "        self.lr = lr\n",
        "        self.lf = lf\n",
        "        self.epoch = epoch\n",
        "        self.batch = batch\n",
        "\n",
        "    def build(self):\n",
        "        model = models.Sequential()\n",
        "        model.add(layers.Conv2D(32, (8, 8), activation='relu', padding='same', input_shape=(48, 48, 1)))\n",
        "        model.add(BatchNormalization())\n",
        "        model.add(Activation('relu'))\n",
        "        model.add(layers.MaxPooling2D((2, 2), padding='same'))\n",
        "        model.add(Dropout(.5))\n",
        "\n",
        "        model.add(layers.Conv2D(64, (5, 5), activation='relu', padding='same'))\n",
        "        model.add(BatchNormalization())\n",
        "        model.add(Activation('relu'))\n",
        "        model.add(layers.MaxPooling2D((2, 2), padding='same'))\n",
        "        model.add(Dropout(.5))\n",
        "\n",
        "        model.add(layers.Conv2D(128, (3, 3), activation='relu', padding='same'))\n",
        "        model.add(BatchNormalization())\n",
        "        model.add(Activation('relu'))\n",
        "        model.add(layers.MaxPooling2D((2, 2), padding='same'))\n",
        "        model.add(Dropout(.5))\n",
        "\n",
        "        model.add(layers.Conv2D(256, (3, 3), activation='relu', padding='same'))\n",
        "        model.add(BatchNormalization())\n",
        "        model.add(Activation('relu'))\n",
        "        model.add(layers.MaxPooling2D((2, 2), padding='same'))\n",
        "        model.add(Dropout(.5))\n",
        "        \n",
        "        model.add(layers.Flatten())\n",
        "        model.add(layers.Dense(256, activation='relu'))\n",
        "        model.add(layers.Dense(7))\n",
        "        model.summary()\n",
        "        return model\n",
        "\n",
        "    def feed_forward(self):\n",
        "        model = CNN.build(self)\n",
        "        model.compile(optimizer='adam',\n",
        "                      loss=tf.keras.losses.SparseCategoricalCrossentropy(from_logits=True),\n",
        "                      metrics=['accuracy'])\n",
        "\n",
        "        optimizer = tf.keras.optimizers.Adam(self.lr)\n",
        "        model.compile(optimizer, self.lf, metrics=['acc'])\n",
        "        return model\n",
        "\n",
        "    def evaluate(self):\n",
        "        model = CNN.feed_forward(self)\n",
        "        history = model.fit(X_train, y_train, epochs=self.epoch,\n",
        "                            validation_data=(X_valid, y_valid),\n",
        "                            batch_size=self.batch,\n",
        "                            callbacks=[WandbCallback(data_type=\"image\", labels=y_train)])\n",
        "        loss, accuracy = model.evaluate(X_valid, y_valid)\n",
        "\n",
        "        plt.plot(history.history['acc'], label='accuracy')\n",
        "        plt.plot(history.history['val_acc'], label='val_accuracy')\n",
        "        plt.xlabel('Epoch')\n",
        "        plt.ylabel('Accuracy')\n",
        "        plt.legend(loc='lower right')\n",
        "        return accuracy"
      ],
      "execution_count": null,
      "outputs": []
    },
    {
      "cell_type": "markdown",
      "metadata": {
        "id": "6TIXF3s3osV8"
      },
      "source": [
        "# Main"
      ]
    },
    {
      "cell_type": "code",
      "metadata": {
        "colab": {
          "base_uri": "https://localhost:8080/",
          "height": 1000,
          "referenced_widgets": [
            "0202ee7c3b9c4f10bea21748f45d7d1e",
            "a3b81a0657ba4fbeb1dd4d1b78089311",
            "68391ae8fc3e4456a3207a2e204f2210",
            "fb40b0b4bf1f4d55aa569c36553c8b8f",
            "492b7a211b524833ad49c13e9b76dce0",
            "3bab95d9a03b4e34a0f016168637e06b",
            "21527b671fb046ca8b068b1a4eab3ee8",
            "d11080d57b804a0ea880daef4fc53075"
          ]
        },
        "id": "MjrThK8Zlbk2",
        "outputId": "9baafbc8-cd3e-4189-f25f-12264ada275f"
      },
      "source": [
        "def main():\n",
        "    run = wandb.init(project='MU-CV-Assignment2',\n",
        "                     config={\n",
        "                         \"learning_rate\": 0.01,\n",
        "                         \"epochs\": 10,\n",
        "                         \"batch_size\": 128,\n",
        "                         \"loss_function\": \"sparse_categorical_crossentropy\",\n",
        "                         \"architecture\": \"CNN\",\n",
        "                         \"dataset\": \"FER-2013\"\n",
        "                     },\n",
        "                     entity=\"mu_cv_cnn\")\n",
        "    config = wandb.config\n",
        "    cnn = CNN(config.learning_rate, config.loss_function, config.epochs, config.batch_size)\n",
        "\n",
        "    accuracy = cnn.evaluate()\n",
        "    wandb.log({'Test Error Rate': round((1 - accuracy) * 100, 2)})\n",
        "    run.join()\n",
        "\n",
        "\n",
        "if __name__ == '__main__':\n",
        "    main()\n"
      ],
      "execution_count": null,
      "outputs": [
        {
          "output_type": "stream",
          "text": [
            "\u001b[34m\u001b[1mwandb\u001b[0m: Currently logged in as: \u001b[33mprincewallyy\u001b[0m (use `wandb login --relogin` to force relogin)\n"
          ],
          "name": "stderr"
        },
        {
          "output_type": "display_data",
          "data": {
            "text/html": [
              "\n",
              "                Tracking run with wandb version 0.10.30<br/>\n",
              "                Syncing run <strong style=\"color:#cdcd00\">serene-bush-115</strong> to <a href=\"https://wandb.ai\" target=\"_blank\">Weights & Biases</a> <a href=\"https://docs.wandb.com/integrations/jupyter.html\" target=\"_blank\">(Documentation)</a>.<br/>\n",
              "                Project page: <a href=\"https://wandb.ai/mu_cv_cnn/mu-cv-assignment2\" target=\"_blank\">https://wandb.ai/mu_cv_cnn/mu-cv-assignment2</a><br/>\n",
              "                Run page: <a href=\"https://wandb.ai/mu_cv_cnn/mu-cv-assignment2/runs/3ba5qwv6\" target=\"_blank\">https://wandb.ai/mu_cv_cnn/mu-cv-assignment2/runs/3ba5qwv6</a><br/>\n",
              "                Run data is saved locally in <code>/content/wandb/run-20210523_072423-3ba5qwv6</code><br/><br/>\n",
              "            "
            ],
            "text/plain": [
              "<IPython.core.display.HTML object>"
            ]
          },
          "metadata": {
            "tags": []
          }
        },
        {
          "output_type": "stream",
          "text": [
            "Model: \"sequential\"\n",
            "_________________________________________________________________\n",
            "Layer (type)                 Output Shape              Param #   \n",
            "=================================================================\n",
            "conv2d (Conv2D)              (None, 48, 48, 32)        2080      \n",
            "_________________________________________________________________\n",
            "batch_normalization (BatchNo (None, 48, 48, 32)        128       \n",
            "_________________________________________________________________\n",
            "activation (Activation)      (None, 48, 48, 32)        0         \n",
            "_________________________________________________________________\n",
            "max_pooling2d (MaxPooling2D) (None, 24, 24, 32)        0         \n",
            "_________________________________________________________________\n",
            "dropout (Dropout)            (None, 24, 24, 32)        0         \n",
            "_________________________________________________________________\n",
            "conv2d_1 (Conv2D)            (None, 24, 24, 64)        51264     \n",
            "_________________________________________________________________\n",
            "batch_normalization_1 (Batch (None, 24, 24, 64)        256       \n",
            "_________________________________________________________________\n",
            "activation_1 (Activation)    (None, 24, 24, 64)        0         \n",
            "_________________________________________________________________\n",
            "max_pooling2d_1 (MaxPooling2 (None, 12, 12, 64)        0         \n",
            "_________________________________________________________________\n",
            "dropout_1 (Dropout)          (None, 12, 12, 64)        0         \n",
            "_________________________________________________________________\n",
            "conv2d_2 (Conv2D)            (None, 12, 12, 128)       73856     \n",
            "_________________________________________________________________\n",
            "batch_normalization_2 (Batch (None, 12, 12, 128)       512       \n",
            "_________________________________________________________________\n",
            "activation_2 (Activation)    (None, 12, 12, 128)       0         \n",
            "_________________________________________________________________\n",
            "max_pooling2d_2 (MaxPooling2 (None, 6, 6, 128)         0         \n",
            "_________________________________________________________________\n",
            "dropout_2 (Dropout)          (None, 6, 6, 128)         0         \n",
            "_________________________________________________________________\n",
            "conv2d_3 (Conv2D)            (None, 6, 6, 256)         295168    \n",
            "_________________________________________________________________\n",
            "batch_normalization_3 (Batch (None, 6, 6, 256)         1024      \n",
            "_________________________________________________________________\n",
            "activation_3 (Activation)    (None, 6, 6, 256)         0         \n",
            "_________________________________________________________________\n",
            "max_pooling2d_3 (MaxPooling2 (None, 3, 3, 256)         0         \n",
            "_________________________________________________________________\n",
            "dropout_3 (Dropout)          (None, 3, 3, 256)         0         \n",
            "_________________________________________________________________\n",
            "flatten (Flatten)            (None, 2304)              0         \n",
            "_________________________________________________________________\n",
            "dense (Dense)                (None, 256)               590080    \n",
            "_________________________________________________________________\n",
            "dense_1 (Dense)              (None, 7)                 1799      \n",
            "=================================================================\n",
            "Total params: 1,016,167\n",
            "Trainable params: 1,015,207\n",
            "Non-trainable params: 960\n",
            "_________________________________________________________________\n",
            "Epoch 1/10\n",
            "  6/180 [>.............................] - ETA: 6s - loss: 7.1236 - acc: 0.1742WARNING:tensorflow:Callback method `on_train_batch_end` is slow compared to the batch time (batch time: 0.0165s vs `on_train_batch_end` time: 0.0201s). Check your callbacks.\n",
            "180/180 [==============================] - 41s 41ms/step - loss: 6.7685 - acc: 0.1174 - val_loss: 6.7197 - val_acc: 0.1104\n",
            "Epoch 2/10\n",
            "180/180 [==============================] - 7s 38ms/step - loss: 6.8459 - acc: 0.1146 - val_loss: 10.4826 - val_acc: 0.1682\n",
            "Epoch 3/10\n",
            "180/180 [==============================] - 7s 38ms/step - loss: 10.5553 - acc: 0.1670 - val_loss: 10.4826 - val_acc: 0.1682\n",
            "Epoch 4/10\n",
            "180/180 [==============================] - 7s 38ms/step - loss: 10.5105 - acc: 0.1692 - val_loss: 10.4826 - val_acc: 0.1682\n",
            "Epoch 5/10\n",
            "180/180 [==============================] - 7s 39ms/step - loss: 10.4533 - acc: 0.1716 - val_loss: 10.4825 - val_acc: 0.1682\n",
            "Epoch 6/10\n",
            "180/180 [==============================] - 7s 39ms/step - loss: 10.4179 - acc: 0.1698 - val_loss: 10.4825 - val_acc: 0.1682\n",
            "Epoch 7/10\n",
            "180/180 [==============================] - 7s 38ms/step - loss: 10.4837 - acc: 0.1666 - val_loss: 10.4825 - val_acc: 0.1682\n",
            "Epoch 8/10\n",
            "180/180 [==============================] - 7s 39ms/step - loss: 10.4705 - acc: 0.1706 - val_loss: 10.4825 - val_acc: 0.1682\n",
            "Epoch 9/10\n",
            "180/180 [==============================] - 7s 39ms/step - loss: 10.3694 - acc: 0.1727 - val_loss: 10.4825 - val_acc: 0.1682\n",
            "Epoch 10/10\n",
            "180/180 [==============================] - 7s 38ms/step - loss: 10.4629 - acc: 0.1682 - val_loss: 10.4825 - val_acc: 0.1682\n",
            "180/180 [==============================] - 2s 9ms/step - loss: 10.4825 - acc: 0.1682\n"
          ],
          "name": "stdout"
        },
        {
          "output_type": "display_data",
          "data": {
            "text/html": [
              "<br/>Waiting for W&B process to finish, PID 264<br/>Program ended successfully."
            ],
            "text/plain": [
              "<IPython.core.display.HTML object>"
            ]
          },
          "metadata": {
            "tags": []
          }
        },
        {
          "output_type": "display_data",
          "data": {
            "application/vnd.jupyter.widget-view+json": {
              "model_id": "0202ee7c3b9c4f10bea21748f45d7d1e",
              "version_minor": 0,
              "version_major": 2
            },
            "text/plain": [
              "VBox(children=(Label(value=' 12.32MB of 12.32MB uploaded (0.00MB deduped)\\r'), FloatProgress(value=1.0, max=1.…"
            ]
          },
          "metadata": {
            "tags": []
          }
        },
        {
          "output_type": "display_data",
          "data": {
            "text/html": [
              "Find user logs for this run at: <code>/content/wandb/run-20210523_072423-3ba5qwv6/logs/debug.log</code>"
            ],
            "text/plain": [
              "<IPython.core.display.HTML object>"
            ]
          },
          "metadata": {
            "tags": []
          }
        },
        {
          "output_type": "display_data",
          "data": {
            "text/html": [
              "Find internal logs for this run at: <code>/content/wandb/run-20210523_072423-3ba5qwv6/logs/debug-internal.log</code>"
            ],
            "text/plain": [
              "<IPython.core.display.HTML object>"
            ]
          },
          "metadata": {
            "tags": []
          }
        },
        {
          "output_type": "display_data",
          "data": {
            "text/html": [
              "<h3>Run summary:</h3><br/><style>\n",
              "    table.wandb td:nth-child(1) { padding: 0 10px; text-align: right }\n",
              "    </style><table class=\"wandb\">\n",
              "<tr><td>epoch</td><td>9</td></tr><tr><td>loss</td><td>10.48156</td></tr><tr><td>acc</td><td>0.16833</td></tr><tr><td>val_loss</td><td>10.48252</td></tr><tr><td>val_acc</td><td>0.16823</td></tr><tr><td>_runtime</td><td>114</td></tr><tr><td>_timestamp</td><td>1621754777</td></tr><tr><td>_step</td><td>10</td></tr><tr><td>best_val_loss</td><td>6.7197</td></tr><tr><td>best_epoch</td><td>0</td></tr><tr><td>Test Error Rate</td><td>83.18</td></tr></table>"
            ],
            "text/plain": [
              "<IPython.core.display.HTML object>"
            ]
          },
          "metadata": {
            "tags": []
          }
        },
        {
          "output_type": "display_data",
          "data": {
            "text/html": [
              "<h3>Run history:</h3><br/><style>\n",
              "    table.wandb td:nth-child(1) { padding: 0 10px; text-align: right }\n",
              "    </style><table class=\"wandb\">\n",
              "<tr><td>epoch</td><td>▁▂▃▃▄▅▆▆▇█</td></tr><tr><td>loss</td><td>▁▃████████</td></tr><tr><td>acc</td><td>▁▂████████</td></tr><tr><td>val_loss</td><td>▁█████████</td></tr><tr><td>val_acc</td><td>▁█████████</td></tr><tr><td>_runtime</td><td>▁▂▃▃▄▅▆▆▇██</td></tr><tr><td>_timestamp</td><td>▁▂▃▃▄▅▆▆▇██</td></tr><tr><td>_step</td><td>▁▂▂▃▄▅▅▆▇▇█</td></tr><tr><td>Test Error Rate</td><td>▁</td></tr></table><br/>"
            ],
            "text/plain": [
              "<IPython.core.display.HTML object>"
            ]
          },
          "metadata": {
            "tags": []
          }
        },
        {
          "output_type": "display_data",
          "data": {
            "text/html": [
              "Synced 5 W&B file(s), 361 media file(s), 0 artifact file(s) and 1 other file(s)"
            ],
            "text/plain": [
              "<IPython.core.display.HTML object>"
            ]
          },
          "metadata": {
            "tags": []
          }
        },
        {
          "output_type": "display_data",
          "data": {
            "text/html": [
              "\n",
              "                    <br/>Synced <strong style=\"color:#cdcd00\">serene-bush-115</strong>: <a href=\"https://wandb.ai/mu_cv_cnn/mu-cv-assignment2/runs/3ba5qwv6\" target=\"_blank\">https://wandb.ai/mu_cv_cnn/mu-cv-assignment2/runs/3ba5qwv6</a><br/>\n",
              "                "
            ],
            "text/plain": [
              "<IPython.core.display.HTML object>"
            ]
          },
          "metadata": {
            "tags": []
          }
        },
        {
          "output_type": "display_data",
          "data": {
            "image/png": "[encoded data removed]",
            "text/plain": [
              "<Figure size 432x288 with 1 Axes>"
            ]
          },
          "metadata": {
            "tags": [],
            "needs_background": "light"
          }
        }
      ]
    }
  ]
}